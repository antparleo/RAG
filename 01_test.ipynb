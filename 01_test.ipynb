{
 "cells": [
  {
   "cell_type": "code",
   "execution_count": 55,
   "id": "3c3b6eee",
   "metadata": {},
   "outputs": [],
   "source": [
    "import langchain_community\n",
    "import langchain_text_splitters\n",
    "from langchain_community.document_loaders import PyPDFLoader\n",
    "from langchain_community.embeddings.sentence_transformer import (\n",
    "    SentenceTransformerEmbeddings,\n",
    ")\n",
    "from langchain_community.vectorstores import Chroma\n",
    "from langchain_text_splitters import CharacterTextSplitter\n",
    "import os\n",
    "import pprint\n",
    "from ollama import Client, chat\n",
    "from langchain_ollama import ChatOllama\n",
    "from langchain.prompts import PromptTemplate"
   ]
  },
  {
   "cell_type": "code",
   "execution_count": 22,
   "id": "3add56ce",
   "metadata": {},
   "outputs": [],
   "source": [
    "# load the document and split it into pages\n",
    "loader = PyPDFLoader(\"/data/local/aparraga/Bioinformatician/RAG/Publications/Parraga-Leo2023.pdf\")\n",
    "pages = loader.load_and_split()\n",
    "\n",
    "# split it into chunks\n",
    "text_splitter = CharacterTextSplitter(chunk_size=1000, chunk_overlap=10)\n",
    "storage = text_splitter.split_documents(pages)\n",
    "\n",
    "# create the open-source embedding function\n",
    "embedding_function = SentenceTransformerEmbeddings(model_name=\"all-MiniLM-L6-v2\")\n"
   ]
  },
  {
   "cell_type": "code",
   "execution_count": 33,
   "id": "efdbe6eb",
   "metadata": {},
   "outputs": [],
   "source": [
    "# create the chroma client\n",
    "import uuid\n",
    "import chromadb\n",
    "from chromadb.config import Settings\n",
    "\n",
    "client = chromadb.HttpClient(host='localhost', port=8000, settings=Settings(allow_reset=True))\n",
    "#collection = client.create_collection(\"prueba\")\n",
    "# collection = client.get_collection('tfm')\n",
    "\n",
    "for doc in storage:\n",
    "    collection.add(\n",
    "        ids=[str(uuid.uuid1())], metadatas=doc.metadata, documents=doc.page_content\n",
    "    )\n",
    "\n",
    "# tell LangChain to use our client and collection name\n",
    "db = Chroma(\n",
    "    client=client,\n",
    "    collection_name=\"prueba\",\n",
    "    embedding_function=embedding_function,\n",
    ")"
   ]
  },
  {
   "cell_type": "code",
   "execution_count": 34,
   "id": "0bf3c366",
   "metadata": {},
   "outputs": [
    {
     "data": {
      "text/plain": [
       "[Document(metadata={'producer': 'Adobe PDF Library 15.0; modified using iText® 5.3.5 ©2000-2012 1T3XT BVBA (SPRINGER SBM; licensed version)', 'crossmarkmajorversiondate': '2010-04-23', 'creator': 'Adobe InDesign 15.1 (Windows)', 'page_label': '13', 'trapped': '/False', 'page': 12, 'subject': 'Reproductive Biology and Endocrinology, https://doi.org/10.1186/s12958-023-01131-4', 'crossmarkdomainexclusive': 'true', 'keywords': ';GATA6;Progesterone;Estrogen;miRNAs;TFs;Endometrial receptivity;Recurrent implantation failure;Infertility;Menstrual cycle regulation', 'title': 'Deciphering a shared transcriptomic regulation and the relative contribution of each regulator type through endometrial gene expression signatures', 'crossmarkdomains[2]': 'springerlink.com', 'robots': 'noindex', 'moddate': '2023-11-19T01:55:46+01:00', 'author': 'Antonio Parraga-Leo', 'creationdate': '2023-09-12T04:25:09+00:00', 'doi': '10.1186/s12958-023-01131-4', 'source': '/data/local/aparraga/Bioinformatician/RAG/Publications/Parraga-Leo2023.pdf', 'crossmarkdomains[1]': 'springer.com', 'total_pages': 14}, page_content='Page 13 of 14\\nParraga‑Leo\\xa0et\\xa0al. Reproductive Biology and Endocrinology           (2023) 21:84 \\n \\nAuthor details\\n1 IVIRMA Global Research Alliance, IVI Foundation, Instituto de Investigación \\nSanitaria La Fe (IIS La Fe), Av. Fernando Abril Martorell 106, Torre A, Planta \\n1ª, 46026 Valencia, Valencia, Spain. 2 Department of Pediatrics, Obstetrics \\nand Gynaecology, Universidad de Valencia, Av. Blasco Ibáñez 15, 46010 Valen‑\\ncia, Valencia, Spain. 3 IVIRMA Global Research Alliance, IVIRMA Valencia, Plaza de \\nLa Policia Local 3, 46015 Valencia, Spain. \\nReceived: 21 June 2023   Accepted: 22 August 2023\\nReferences\\n 1. Strowitzki T, Germeyer A, Popovici R, von Wolff M. The human endo‑\\nmetrium as a fertility‑determining factor. Hum Reprod Update. \\n2006;12:617–30.\\n 2. Cakmak H, Taylor HS. Implantation failure: Molecular mechanisms and \\nclinical treatment. Hum Reprod Update. 2011;17:242–53.\\n 3. Lessey BA, Young SL. What exactly is endometrial receptivity? Fertil Steril. \\n2019;111:611–7.\\n 4. Talbi S, Hamilton AE, Vo KC, Tulac S, Overgaard MT, Dosiou C, et al. \\nMolecular phenotyping of human endometrium distinguishes menstrual \\ncycle phases and underlying biological processes in normo‑ovulatory \\nwomen. Endocrinology. 2006;147:1097–121.\\n 5. Somigliana E, Vigano P , Busnelli A, Paffoni A, Vegetti W, Vercellini P . \\nRepeated implantation failure at the crossroad between statistics, clinics \\nand over‑diagnosis. Reprod Biomed Online. 2018;36:32–8.\\n 6. Craciunas L, Gallos I, Chu J, Bourne T, Quenby S, Brosens JJ, et al. Con‑\\nventional and modern markers of endometrial receptivity: a systematic \\nreview and meta‑analysis. Hum Reprod Update. 2019;25:202–23.\\n 7. Sebastian‑Leon P , Garrido N, Remohí J, Pellicer A, Diaz‑Gimeno P . Asyn‑\\nchronous and pathological windows of implantation: Two causes of \\nrecurrent implantation failure. Hum Reprod. 2018;33:626–35.\\n 8. Vasquez YM, DeMayo FJ. Role of nuclear receptors in blastocyst implanta‑\\ntion. Semin Cell Dev Biol. 2013;24:724–35.\\n 9. Wang H, Zhang S, Lin H, Kong S, Wang S, Wang H, et al. Physiological \\nand molecular determinants of embryo implantation. Mol Aspects Med. \\n2013;34:939–80.\\n 10. Kelleher AM, Behura SK, Burns GW, Young SL, Demayo FJ, Spencer TE. Inte‑\\ngrative analysis of the forkhead box A2 (FOXA2) cistrome for the human \\nendometrium. FASEB J. 2019;33:8543–54.\\n 11. Revel A, Achache H, Stevens J, Smith Y, Reich R. MicroRNAs are \\nassociated with human embryo implantation defects. Hum Reprod. \\n2011;26:2830–40.\\n 12. Galliano D, Pellicer A. MicroRNA and implantation. Fertil Steril. \\n2014;101:1531–44.\\n 13. Xu H, Zhou M, Cao Y, Zhang D, Han M, Gao X, et al. Genome‑wide analysis \\nof long noncoding RNAs, microRNAs, and mRNAs forming a compet‑\\ning endogenous RNA network in repeated implantation failure. Gene. \\n2019;720: 144056.\\n 14. Copley RR. The animal in the genome: comparative genomics and evolu‑\\ntion. Philos Trans R Soc Lond B: Biol Sci. 2008;363:1453–61.\\n 15. Jacob F. The statue within: an autobiography. CSHL Press; 1995.\\n 16. Yanai I, Lercher M. Night science. Genome Biol. 2019;20:179.\\n 17. Carson DD, Lagow E, Thathiah A, Al‑Shami R, Farach‑Carson MC, Vernon \\nM, et al. Changes in gene expression during the early to mid‑luteal \\n(receptive phase) transition in human endometrium detected by high‑\\ndensity microarray screening. Mol Hum Reprod. 2002;8:871–9.\\n 18. Borthwick JM, Charnock‑Jones DS, Tom BD, Hull ML, Teirney R, Phillips SC, \\net al. Determination of the transcript profile of human endometrium. Mol \\nHum Reprod. 2003;9:19–33.\\n 19. Mirkin S, Arslan M, Churikov D, Corica A, Diaz JI, Williams S, et al. In search \\nof candidate genes critically expressed in the human endometrium dur‑\\ning the window of implantation. Hum Reprod. 2005;20:2104–17.\\n 20. Devesa‑Peiro A, Sebastian‑Leon P , Parraga‑Leo A, Pellicer A, Diaz‑Gimeno \\nP . Breaking the ageing paradigm in endometrium: endometrial gene \\nexpression related to cilia and ageing hallmarks in women over 35 years. \\nHum Reprod. 2022;37:762–76.'),\n",
       " Document(metadata={'subject': 'Reproductive Biology and Endocrinology, https://doi.org/10.1186/s12958-023-01131-4', 'title': 'Deciphering a shared transcriptomic regulation and the relative contribution of each regulator type through endometrial gene expression signatures', 'keywords': ';GATA6;Progesterone;Estrogen;miRNAs;TFs;Endometrial receptivity;Recurrent implantation failure;Infertility;Menstrual cycle regulation', 'creator': 'Adobe InDesign 15.1 (Windows)', 'source': '/data/local/aparraga/Bioinformatician/RAG/Publications/Parraga-Leo2023.pdf', 'total_pages': 14, 'page_label': '13', 'crossmarkmajorversiondate': '2010-04-23', 'producer': 'Adobe PDF Library 15.0; modified using iText® 5.3.5 ©2000-2012 1T3XT BVBA (SPRINGER SBM; licensed version)', 'moddate': '2023-11-19T01:55:46+01:00', 'doi': '10.1186/s12958-023-01131-4', 'creationdate': '2023-09-12T04:25:09+00:00', 'page': 12, 'robots': 'noindex', 'author': 'Antonio Parraga-Leo', 'crossmarkdomainexclusive': 'true', 'trapped': '/False', 'crossmarkdomains[1]': 'springer.com', 'crossmarkdomains[2]': 'springerlink.com'}, page_content='Page 13 of 14\\nParraga‑Leo\\xa0et\\xa0al. Reproductive Biology and Endocrinology           (2023) 21:84 \\n \\nAuthor details\\n1 IVIRMA Global Research Alliance, IVI Foundation, Instituto de Investigación \\nSanitaria La Fe (IIS La Fe), Av. Fernando Abril Martorell 106, Torre A, Planta \\n1ª, 46026 Valencia, Valencia, Spain. 2 Department of Pediatrics, Obstetrics \\nand Gynaecology, Universidad de Valencia, Av. Blasco Ibáñez 15, 46010 Valen‑\\ncia, Valencia, Spain. 3 IVIRMA Global Research Alliance, IVIRMA Valencia, Plaza de \\nLa Policia Local 3, 46015 Valencia, Spain. \\nReceived: 21 June 2023   Accepted: 22 August 2023\\nReferences\\n 1. Strowitzki T, Germeyer A, Popovici R, von Wolff M. The human endo‑\\nmetrium as a fertility‑determining factor. Hum Reprod Update. \\n2006;12:617–30.\\n 2. Cakmak H, Taylor HS. Implantation failure: Molecular mechanisms and \\nclinical treatment. Hum Reprod Update. 2011;17:242–53.\\n 3. Lessey BA, Young SL. What exactly is endometrial receptivity? Fertil Steril. \\n2019;111:611–7.\\n 4. Talbi S, Hamilton AE, Vo KC, Tulac S, Overgaard MT, Dosiou C, et al. \\nMolecular phenotyping of human endometrium distinguishes menstrual \\ncycle phases and underlying biological processes in normo‑ovulatory \\nwomen. Endocrinology. 2006;147:1097–121.\\n 5. Somigliana E, Vigano P , Busnelli A, Paffoni A, Vegetti W, Vercellini P . \\nRepeated implantation failure at the crossroad between statistics, clinics \\nand over‑diagnosis. Reprod Biomed Online. 2018;36:32–8.\\n 6. Craciunas L, Gallos I, Chu J, Bourne T, Quenby S, Brosens JJ, et al. Con‑\\nventional and modern markers of endometrial receptivity: a systematic \\nreview and meta‑analysis. Hum Reprod Update. 2019;25:202–23.\\n 7. Sebastian‑Leon P , Garrido N, Remohí J, Pellicer A, Diaz‑Gimeno P . Asyn‑\\nchronous and pathological windows of implantation: Two causes of \\nrecurrent implantation failure. Hum Reprod. 2018;33:626–35.\\n 8. Vasquez YM, DeMayo FJ. Role of nuclear receptors in blastocyst implanta‑\\ntion. Semin Cell Dev Biol. 2013;24:724–35.\\n 9. Wang H, Zhang S, Lin H, Kong S, Wang S, Wang H, et al. Physiological \\nand molecular determinants of embryo implantation. Mol Aspects Med. \\n2013;34:939–80.\\n 10. Kelleher AM, Behura SK, Burns GW, Young SL, Demayo FJ, Spencer TE. Inte‑\\ngrative analysis of the forkhead box A2 (FOXA2) cistrome for the human \\nendometrium. FASEB J. 2019;33:8543–54.\\n 11. Revel A, Achache H, Stevens J, Smith Y, Reich R. MicroRNAs are \\nassociated with human embryo implantation defects. Hum Reprod. \\n2011;26:2830–40.\\n 12. Galliano D, Pellicer A. MicroRNA and implantation. Fertil Steril. \\n2014;101:1531–44.\\n 13. Xu H, Zhou M, Cao Y, Zhang D, Han M, Gao X, et al. Genome‑wide analysis \\nof long noncoding RNAs, microRNAs, and mRNAs forming a compet‑\\ning endogenous RNA network in repeated implantation failure. Gene. \\n2019;720: 144056.\\n 14. Copley RR. The animal in the genome: comparative genomics and evolu‑\\ntion. Philos Trans R Soc Lond B: Biol Sci. 2008;363:1453–61.\\n 15. Jacob F. The statue within: an autobiography. CSHL Press; 1995.\\n 16. Yanai I, Lercher M. Night science. Genome Biol. 2019;20:179.\\n 17. Carson DD, Lagow E, Thathiah A, Al‑Shami R, Farach‑Carson MC, Vernon \\nM, et al. Changes in gene expression during the early to mid‑luteal \\n(receptive phase) transition in human endometrium detected by high‑\\ndensity microarray screening. Mol Hum Reprod. 2002;8:871–9.\\n 18. Borthwick JM, Charnock‑Jones DS, Tom BD, Hull ML, Teirney R, Phillips SC, \\net al. Determination of the transcript profile of human endometrium. Mol \\nHum Reprod. 2003;9:19–33.\\n 19. Mirkin S, Arslan M, Churikov D, Corica A, Diaz JI, Williams S, et al. In search \\nof candidate genes critically expressed in the human endometrium dur‑\\ning the window of implantation. Hum Reprod. 2005;20:2104–17.\\n 20. Devesa‑Peiro A, Sebastian‑Leon P , Parraga‑Leo A, Pellicer A, Diaz‑Gimeno \\nP . Breaking the ageing paradigm in endometrium: endometrial gene \\nexpression related to cilia and ageing hallmarks in women over 35 years. \\nHum Reprod. 2022;37:762–76.')]"
      ]
     },
     "execution_count": 34,
     "metadata": {},
     "output_type": "execute_result"
    }
   ],
   "source": [
    "test = db.similarity_search(\"What is the implantation failure?\",k=2)\n",
    "test"
   ]
  },
  {
   "cell_type": "code",
   "execution_count": 40,
   "id": "9367ace3",
   "metadata": {},
   "outputs": [
    {
     "data": {
      "text/plain": [
       "'Page 13 of 14\\nParraga‑Leo\\xa0et\\xa0al. Reproductive Biology and Endocrinology           (2023) 21:84 \\n \\nAuthor details\\n1 IVIRMA Global Research Alliance, IVI Foundation, Instituto de Investigación \\nSanitaria La Fe (IIS La Fe), Av. Fernando Abril Martorell 106, Torre A, Planta \\n1ª, 46026 Valencia, Valencia, Spain. 2 Department of Pediatrics, Obstetrics \\nand Gynaecology, Universidad de Valencia, Av. Blasco Ibáñez 15, 46010 Valen‑\\ncia, Valencia, Spain. 3 IVIRMA Global Research Alliance, IVIRMA Valencia, Plaza de \\nLa Policia Local 3, 46015 Valencia, Spain. \\nReceived: 21 June 2023   Accepted: 22 August 2023\\nReferences\\n 1. Strowitzki T, Germeyer A, Popovici R, von Wolff M. The human endo‑\\nmetrium as a fertility‑determining factor. Hum Reprod Update. \\n2006;12:617–30.\\n 2. Cakmak H, Taylor HS. Implantation failure: Molecular mechanisms and \\nclinical treatment. Hum Reprod Update. 2011;17:242–53.\\n 3. Lessey BA, Young SL. What exactly is endometrial receptivity? Fertil Steril. \\n2019;111:611–7.\\n 4. Talbi S, Hamilton AE, Vo KC, Tulac S, Overgaard MT, Dosiou C, et al. \\nMolecular phenotyping of human endometrium distinguishes menstrual \\ncycle phases and underlying biological processes in normo‑ovulatory \\nwomen. Endocrinology. 2006;147:1097–121.\\n 5. Somigliana E, Vigano P , Busnelli A, Paffoni A, Vegetti W, Vercellini P . \\nRepeated implantation failure at the crossroad between statistics, clinics \\nand over‑diagnosis. Reprod Biomed Online. 2018;36:32–8.\\n 6. Craciunas L, Gallos I, Chu J, Bourne T, Quenby S, Brosens JJ, et al. Con‑\\nventional and modern markers of endometrial receptivity: a systematic \\nreview and meta‑analysis. Hum Reprod Update. 2019;25:202–23.\\n 7. Sebastian‑Leon P , Garrido N, Remohí J, Pellicer A, Diaz‑Gimeno P . Asyn‑\\nchronous and pathological windows of implantation: Two causes of \\nrecurrent implantation failure. Hum Reprod. 2018;33:626–35.\\n 8. Vasquez YM, DeMayo FJ. Role of nuclear receptors in blastocyst implanta‑\\ntion. Semin Cell Dev Biol. 2013;24:724–35.\\n 9. Wang H, Zhang S, Lin H, Kong S, Wang S, Wang H, et al. Physiological \\nand molecular determinants of embryo implantation. Mol Aspects Med. \\n2013;34:939–80.\\n 10. Kelleher AM, Behura SK, Burns GW, Young SL, Demayo FJ, Spencer TE. Inte‑\\ngrative analysis of the forkhead box A2 (FOXA2) cistrome for the human \\nendometrium. FASEB J. 2019;33:8543–54.\\n 11. Revel A, Achache H, Stevens J, Smith Y, Reich R. MicroRNAs are \\nassociated with human embryo implantation defects. Hum Reprod. \\n2011;26:2830–40.\\n 12. Galliano D, Pellicer A. MicroRNA and implantation. Fertil Steril. \\n2014;101:1531–44.\\n 13. Xu H, Zhou M, Cao Y, Zhang D, Han M, Gao X, et al. Genome‑wide analysis \\nof long noncoding RNAs, microRNAs, and mRNAs forming a compet‑\\ning endogenous RNA network in repeated implantation failure. Gene. \\n2019;720: 144056.\\n 14. Copley RR. The animal in the genome: comparative genomics and evolu‑\\ntion. Philos Trans R Soc Lond B: Biol Sci. 2008;363:1453–61.\\n 15. Jacob F. The statue within: an autobiography. CSHL Press; 1995.\\n 16. Yanai I, Lercher M. Night science. Genome Biol. 2019;20:179.\\n 17. Carson DD, Lagow E, Thathiah A, Al‑Shami R, Farach‑Carson MC, Vernon \\nM, et al. Changes in gene expression during the early to mid‑luteal \\n(receptive phase) transition in human endometrium detected by high‑\\ndensity microarray screening. Mol Hum Reprod. 2002;8:871–9.\\n 18. Borthwick JM, Charnock‑Jones DS, Tom BD, Hull ML, Teirney R, Phillips SC, \\net al. Determination of the transcript profile of human endometrium. Mol \\nHum Reprod. 2003;9:19–33.\\n 19. Mirkin S, Arslan M, Churikov D, Corica A, Diaz JI, Williams S, et al. In search \\nof candidate genes critically expressed in the human endometrium dur‑\\ning the window of implantation. Hum Reprod. 2005;20:2104–17.\\n 20. Devesa‑Peiro A, Sebastian‑Leon P , Parraga‑Leo A, Pellicer A, Diaz‑Gimeno \\nP . Breaking the ageing paradigm in endometrium: endometrial gene \\nexpression related to cilia and ageing hallmarks in women over 35 years. \\nHum Reprod. 2022;37:762–76.\\n\\nPage 13 of 14\\nParraga‑Leo\\xa0et\\xa0al. Reproductive Biology and Endocrinology           (2023) 21:84 \\n \\nAuthor details\\n1 IVIRMA Global Research Alliance, IVI Foundation, Instituto de Investigación \\nSanitaria La Fe (IIS La Fe), Av. Fernando Abril Martorell 106, Torre A, Planta \\n1ª, 46026 Valencia, Valencia, Spain. 2 Department of Pediatrics, Obstetrics \\nand Gynaecology, Universidad de Valencia, Av. Blasco Ibáñez 15, 46010 Valen‑\\ncia, Valencia, Spain. 3 IVIRMA Global Research Alliance, IVIRMA Valencia, Plaza de \\nLa Policia Local 3, 46015 Valencia, Spain. \\nReceived: 21 June 2023   Accepted: 22 August 2023\\nReferences\\n 1. Strowitzki T, Germeyer A, Popovici R, von Wolff M. The human endo‑\\nmetrium as a fertility‑determining factor. Hum Reprod Update. \\n2006;12:617–30.\\n 2. Cakmak H, Taylor HS. Implantation failure: Molecular mechanisms and \\nclinical treatment. Hum Reprod Update. 2011;17:242–53.\\n 3. Lessey BA, Young SL. What exactly is endometrial receptivity? Fertil Steril. \\n2019;111:611–7.\\n 4. Talbi S, Hamilton AE, Vo KC, Tulac S, Overgaard MT, Dosiou C, et al. \\nMolecular phenotyping of human endometrium distinguishes menstrual \\ncycle phases and underlying biological processes in normo‑ovulatory \\nwomen. Endocrinology. 2006;147:1097–121.\\n 5. Somigliana E, Vigano P , Busnelli A, Paffoni A, Vegetti W, Vercellini P . \\nRepeated implantation failure at the crossroad between statistics, clinics \\nand over‑diagnosis. Reprod Biomed Online. 2018;36:32–8.\\n 6. Craciunas L, Gallos I, Chu J, Bourne T, Quenby S, Brosens JJ, et al. Con‑\\nventional and modern markers of endometrial receptivity: a systematic \\nreview and meta‑analysis. Hum Reprod Update. 2019;25:202–23.\\n 7. Sebastian‑Leon P , Garrido N, Remohí J, Pellicer A, Diaz‑Gimeno P . Asyn‑\\nchronous and pathological windows of implantation: Two causes of \\nrecurrent implantation failure. Hum Reprod. 2018;33:626–35.\\n 8. Vasquez YM, DeMayo FJ. Role of nuclear receptors in blastocyst implanta‑\\ntion. Semin Cell Dev Biol. 2013;24:724–35.\\n 9. Wang H, Zhang S, Lin H, Kong S, Wang S, Wang H, et al. Physiological \\nand molecular determinants of embryo implantation. Mol Aspects Med. \\n2013;34:939–80.\\n 10. Kelleher AM, Behura SK, Burns GW, Young SL, Demayo FJ, Spencer TE. Inte‑\\ngrative analysis of the forkhead box A2 (FOXA2) cistrome for the human \\nendometrium. FASEB J. 2019;33:8543–54.\\n 11. Revel A, Achache H, Stevens J, Smith Y, Reich R. MicroRNAs are \\nassociated with human embryo implantation defects. Hum Reprod. \\n2011;26:2830–40.\\n 12. Galliano D, Pellicer A. MicroRNA and implantation. Fertil Steril. \\n2014;101:1531–44.\\n 13. Xu H, Zhou M, Cao Y, Zhang D, Han M, Gao X, et al. Genome‑wide analysis \\nof long noncoding RNAs, microRNAs, and mRNAs forming a compet‑\\ning endogenous RNA network in repeated implantation failure. Gene. \\n2019;720: 144056.\\n 14. Copley RR. The animal in the genome: comparative genomics and evolu‑\\ntion. Philos Trans R Soc Lond B: Biol Sci. 2008;363:1453–61.\\n 15. Jacob F. The statue within: an autobiography. CSHL Press; 1995.\\n 16. Yanai I, Lercher M. Night science. Genome Biol. 2019;20:179.\\n 17. Carson DD, Lagow E, Thathiah A, Al‑Shami R, Farach‑Carson MC, Vernon \\nM, et al. Changes in gene expression during the early to mid‑luteal \\n(receptive phase) transition in human endometrium detected by high‑\\ndensity microarray screening. Mol Hum Reprod. 2002;8:871–9.\\n 18. Borthwick JM, Charnock‑Jones DS, Tom BD, Hull ML, Teirney R, Phillips SC, \\net al. Determination of the transcript profile of human endometrium. Mol \\nHum Reprod. 2003;9:19–33.\\n 19. Mirkin S, Arslan M, Churikov D, Corica A, Diaz JI, Williams S, et al. In search \\nof candidate genes critically expressed in the human endometrium dur‑\\ning the window of implantation. Hum Reprod. 2005;20:2104–17.\\n 20. Devesa‑Peiro A, Sebastian‑Leon P , Parraga‑Leo A, Pellicer A, Diaz‑Gimeno \\nP . Breaking the ageing paradigm in endometrium: endometrial gene \\nexpression related to cilia and ageing hallmarks in women over 35 years. \\nHum Reprod. 2022;37:762–76.'"
      ]
     },
     "execution_count": 40,
     "metadata": {},
     "output_type": "execute_result"
    }
   ],
   "source": [
    "test = db.as_retriever(search_kwargs={\"k\":2}).invoke(\"What is the implantation failure?\")\n",
    "\"\\n\\n\".join([test[1].page_content,test[0].page_content])"
   ]
  },
  {
   "cell_type": "code",
   "execution_count": 41,
   "id": "8428129a",
   "metadata": {},
   "outputs": [],
   "source": [
    "def get_context(query):\n",
    "\n",
    "    client = chromadb.HttpClient(host='localhost', port=8000, settings=Settings(allow_reset=True))\n",
    "\n",
    "    db = Chroma(\n",
    "    client=client,\n",
    "    collection_name=\"prueba\",\n",
    "    embedding_function=embedding_function,\n",
    "    )\n",
    "\n",
    "    docs = db.similarity_search(query)\n",
    "\n",
    "    fullcontext = \"\\n\\n\".join([x.page_content for x in docs])\n",
    "\n",
    "    return fullcontext\n"
   ]
  },
  {
   "cell_type": "code",
   "execution_count": 56,
   "id": "e81671a6",
   "metadata": {},
   "outputs": [],
   "source": [
    "system_promt = \"\"\"You are an expert consultant helping executive advisors to get relevant information from scientific articles and code related to reproduction and bioinformatics.\n",
    "\n",
    "        Generate your response by following the steps below:\n",
    "        1. Recursively break down the question into smaller questions to better understand it.\n",
    "        2. For each question/directive:\n",
    "            2a. Select the most relevant information from the context in light of the conversation history.\n",
    "        3. Generate a draft response using selected information.\n",
    "        4. Remove duplicate content from draft response.\n",
    "        5. Generate your final response after adjusting it to increase accuracy and relevance.\n",
    "        6. Do not try to summarize the answers, explain it properly.\n",
    "        6. Only show your final response! \n",
    "        \n",
    "        Constraints:\n",
    "        1. DO NOT PROVIDE ANY EXPLANATION OR DETAILS OR MENTION THAT YOU WERE GIVEN CONTEXT. Only do that when questions are related to coding.\n",
    "        2. Don't mention that you are not able to find the answer in the provided context.\n",
    "        3. Ignore the part of the content that only contains references.\n",
    "        3. Don't make up the answers by yourself.\n",
    "        4. Try your best to provide answer from the given context.\n",
    "\n",
    "        CONTENT:\n",
    "        {content}\n",
    "\n",
    "        Question:\n",
    "        {question}\n",
    "        \"\"\"\n",
    "\n",
    "\n",
    "\n",
    "prompt = PromptTemplate(\n",
    "    template = system_promt,\n",
    "    input_variables = [\"content\", \"question\"]\n",
    "    )\n"
   ]
  },
  {
   "cell_type": "code",
   "execution_count": null,
   "id": "1945a9a4",
   "metadata": {},
   "outputs": [
    {
     "data": {
      "text/plain": [
       "\"You are an expert consultant helping executive advisors to get relevant information from scientific articles and code related to reproduction and bioinformatics.\\n\\n        Generate your response by following the steps below:\\n        1. Recursively break down the question into smaller questions to better understand it.\\n        2. For each question/directive:\\n            2a. Select the most relevant information from the context in light of the conversation history.\\n        3. Generate a draft response using selected information.\\n        4. Remove duplicate content from draft response.\\n        5. Generate your final response after adjusting it to increase accuracy and relevance.\\n        6. Do not try to summarize the answers, explain it properly.\\n        6. Only show your final response! \\n        \\n        Constraints:\\n        1. DO NOT PROVIDE ANY EXPLANATION OR DETAILS OR MENTION THAT YOU WERE GIVEN CONTEXT. Only do that when questions are related to coding.\\n        2. Don't mention that you are not able to find the answer in the provided context.\\n        3. Ignore the part of the content that only contains references.\\n        3. Don't make up the answers by yourself.\\n        4. Try your best to provide answer from the given context.\\n\\n        CONTENT:\\n        prueba\\n\\n        Question:\\n        What is a tree?\\n        \""
      ]
     },
     "execution_count": 61,
     "metadata": {},
     "output_type": "execute_result"
    }
   ],
   "source": [
    "prompt.format(question=\"What is a tree?\", content=\"prueba\") # This function writes the variable in each position."
   ]
  },
  {
   "cell_type": "code",
   "execution_count": null,
   "id": "8bcd6220",
   "metadata": {},
   "outputs": [],
   "source": [
    "def give_context(context):\n",
    "\n",
    "    return f\"\"\"You are an expert consultant helping executive advisors to get relevant information from scientific articles and code related to reproduction and bioinformatics.\n",
    "\n",
    "        Generate your response by following the steps below:\n",
    "        1. Recursively break down the question into smaller questions to better understand it.\n",
    "        2. For each question/directive:\n",
    "            2a. Select the most relevant information from the context in light of the conversation history.\n",
    "        3. Generate a draft response using selected information.\n",
    "        4. Remove duplicate content from draft response.\n",
    "        5. Generate your final response after adjusting it to increase accuracy and relevance.\n",
    "        6. Do not try to summarize the answers, explain it properly.\n",
    "        6. Only show your final response! \n",
    "        \n",
    "        Constraints:\n",
    "        2. Don't mention that you are not able to find the answer in the provided context.\n",
    "        3. Ignore the part of the content that only contains references.\n",
    "        3. Don't make up the answers by yourself.\n",
    "        4. Try your best to provide answer from the given context.\n",
    "\n",
    "        CONTENT:\n",
    "        {context}\n",
    "        \"\"\""
   ]
  },
  {
   "cell_type": "code",
   "execution_count": 82,
   "id": "f60bec40",
   "metadata": {},
   "outputs": [],
   "source": [
    "def llm_response(context, query):\n",
    "    client = Client(host='http://localhost:11434')\n",
    "\n",
    "    stream = client.chat(\n",
    "        model = \"gemma3:12b\",\n",
    "\n",
    "        messages=[\n",
    "            {\"role\":\"system\", \"content\":give_context(context)},\n",
    "            {\"role\":\"user\", \"content\":query }\n",
    "        ],\n",
    "        stream = True\n",
    "    )\n",
    "\n",
    "    fullanswer=''\n",
    "    for chunk in stream:\n",
    "        print(chunk['message']['content'],end='',flush=True)\n",
    "        fullanswer = ''.join([fullanswer, chunk['message']['content']])\n",
    "    \n",
    "    return fullanswer"
   ]
  },
  {
   "cell_type": "code",
   "execution_count": 83,
   "id": "c4f8cd48",
   "metadata": {},
   "outputs": [
    {
     "name": "stdout",
     "output_type": "stream",
     "text": [
      "CTCF is a conserved zinc finger protein with well-characterized regulatory functions throughout the human body. It acts as a transcriptional repressor involved in RNA polymerase II (Pol II) pausing, imprinting, X-chromosome inactivation, and functions as an insulator, blocking interactions between enhancers and promoters of neighboring genes. In the context of the endometrium, it's proposed to exert an inhibitory role during the proliferative phase, and its downregulation in the secretory endometrium allows for the derepression of genes necessary for the window of implantation (WOI). It also interacts with HOXA10, affecting endometrial proliferation and function.\n",
      "\n",
      "\n",
      "\n"
     ]
    },
    {
     "data": {
      "text/plain": [
       "\"CTCF is a conserved zinc finger protein with well-characterized regulatory functions throughout the human body. It acts as a transcriptional repressor involved in RNA polymerase II (Pol II) pausing, imprinting, X-chromosome inactivation, and functions as an insulator, blocking interactions between enhancers and promoters of neighboring genes. In the context of the endometrium, it's proposed to exert an inhibitory role during the proliferative phase, and its downregulation in the secretory endometrium allows for the derepression of genes necessary for the window of implantation (WOI). It also interacts with HOXA10, affecting endometrial proliferation and function.\\n\\n\\n\\n\""
      ]
     },
     "execution_count": 83,
     "metadata": {},
     "output_type": "execute_result"
    }
   ],
   "source": [
    "llm_response(get_context(\"What is the CTCF?\"), \"What is the CTCF?\")"
   ]
  },
  {
   "cell_type": "code",
   "execution_count": null,
   "id": "42f378b3",
   "metadata": {},
   "outputs": [
    {
     "name": "stdout",
     "output_type": "stream",
     "text": [
      "('model', 'gemma3:12b')\n",
      "('created_at', '2025-06-06T13:47:06.777063741Z')\n",
      "('done', True)\n",
      "('done_reason', 'stop')\n",
      "('total_duration', 132959742155)\n",
      "('load_duration', 42392373)\n",
      "('prompt_eval_count', 15)\n",
      "('prompt_eval_duration', 190986853)\n",
      "('eval_count', 672)\n",
      "('eval_duration', 132725261170)\n",
      "('message', Message(role='assistant', content=\"Okay, let's break down why the sky is blue. It's a classic question with a surprisingly detailed scientific explanation! Here's the breakdown, from simple to slightly more complex:\\n\\n**1. Sunlight is Made of All Colors**\\n\\n*   Sunlight isn't actually white. It's a mixture of *all* the colors of the rainbow: red, orange, yellow, green, blue, indigo, and violet. You can see this when sunlight passes through a prism or when you see a rainbow (which is created when sunlight is refracted and reflected by water droplets).\\n\\n**2.  Earth's Atmosphere & Tiny Particles**\\n\\n*   Earth is surrounded by an atmosphere – a layer of gases including nitrogen, oxygen, and other particles.\\n*   Sunlight has to travel through this atmosphere to reach our eyes.\\n\\n**3.  Rayleigh Scattering: The Key Process**\\n\\n*   This is where **Rayleigh scattering** comes in. This is the key phenomenon responsible for the sky's color.\\n*   **What is it?** Rayleigh scattering is the scattering of electromagnetic radiation (like sunlight) by particles of a much smaller wavelength.  In this case, sunlight is being scattered by the tiny molecules of nitrogen and oxygen in the atmosphere.\\n*   **Why Blue is Scattered More:**  Shorter wavelengths of light (blue and violet) are scattered *much* more strongly than longer wavelengths (red and orange) by these tiny particles.  The amount of scattering is inversely proportional to the fourth power of the wavelength.  (This is a bit of math, but essentially, shorter wavelengths scatter a *lot* more.)\\n*   **Think of it like this:** Imagine throwing different-sized balls at a bunch of tiny pebbles. The smaller balls (blue light) are more likely to bounce off in different directions, while the larger balls (red light) are more likely to keep going straight through.\\n\\n**4.  Why Not Violet?**\\n\\n*   Violet light is scattered even *more* than blue light, according to the physics. So why isn't the sky violet?\\n    *   **Sun's Output:** The sun emits slightly less violet light than blue light.\\n    *   **Our Eyes:** Our eyes are less sensitive to violet light compared to blue light.\\n    *   **Atmospheric Absorption:**  Some violet light is absorbed higher in the atmosphere.\\n\\n**5. What About Sunsets?**\\n\\n*   When the sun is low on the horizon (at sunrise or sunset), sunlight has to travel through *much* more of the atmosphere to reach our eyes.\\n*   During this longer journey, most of the blue light has already been scattered away.\\n*   The longer wavelengths (reds and oranges) are able to penetrate the atmosphere and reach our eyes, resulting in those beautiful sunset colors.\\n\\n\\n\\n**In simple terms:**\\n\\nSunlight hits the atmosphere.  Blue light gets scattered all over the place, making the sky appear blue.  At sunset, the blue light is scattered away, and we see the reds and oranges.\\n\\nI hope this explanation clarifies why the sky is blue! Do you want me to elaborate on any part of this or perhaps explain another science topic?\", thinking=None, images=None, tool_calls=None))\n"
     ]
    }
   ],
   "source": [
    "client = Client(host='http://localhost:11434')\n",
    "\n",
    "test = chat(model=\"gemma3:12b\",\n",
    "     messages=[{'role': 'user', 'content': 'Why is the sky blue?'}],\n",
    "     stream=False) # Stream allows for wririntg word by word?\n",
    "\n",
    "for t in test:\n",
    "    print(t)\n",
    "\n",
    "# ('model', 'gemma3:12b')\n",
    "# ('created_at', '2025-06-06T13:47:06.777063741Z')\n",
    "# ('done', True)\n",
    "# ('done_reason', 'stop')\n",
    "# ('total_duration', 132959742155)\n",
    "# ('load_duration', 42392373)\n",
    "# ('prompt_eval_count', 15)\n",
    "# ('prompt_eval_duration', 190986853)\n",
    "# ('eval_count', 672)\n",
    "# ('eval_duration', 132725261170)\n",
    "# ('message', Message(role='assistant')"
   ]
  }
 ],
 "metadata": {
  "kernelspec": {
   "display_name": "Python 3 (ipykernel)",
   "language": "python",
   "name": "python3"
  },
  "language_info": {
   "codemirror_mode": {
    "name": "ipython",
    "version": 3
   },
   "file_extension": ".py",
   "mimetype": "text/x-python",
   "name": "python",
   "nbconvert_exporter": "python",
   "pygments_lexer": "ipython3",
   "version": "3.9.21"
  }
 },
 "nbformat": 4,
 "nbformat_minor": 5
}
