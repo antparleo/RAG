{
 "cells": [
  {
   "cell_type": "markdown",
   "id": "2fcec673",
   "metadata": {},
   "source": [
    "# Chroma Database Generation"
   ]
  },
  {
   "cell_type": "markdown",
   "id": "932c4587",
   "metadata": {},
   "source": [
    "# Library"
   ]
  },
  {
   "cell_type": "code",
   "execution_count": 1,
   "id": "2df9b888",
   "metadata": {},
   "outputs": [],
   "source": [
    "from langchain_community.vectorstores import Chroma\n",
    "from langchain_text_splitters import RecursiveCharacterTextSplitter\n",
    "import os\n",
    "import json\n",
    "import uuid\n",
    "import pickle as pkl\n",
    "from langchain_huggingface import HuggingFaceEmbeddings\n",
    "from langchain.chat_models import init_chat_model\n",
    "import helper_functions as hf"
   ]
  },
  {
   "cell_type": "markdown",
   "id": "34030fd4",
   "metadata": {},
   "source": [
    "## Config"
   ]
  },
  {
   "cell_type": "code",
   "execution_count": 2,
   "id": "be4ea84b",
   "metadata": {},
   "outputs": [],
   "source": [
    "with open('api_google.txt') as f:\n",
    "    \n",
    "    api_key = json.load(f)"
   ]
  },
  {
   "cell_type": "code",
   "execution_count": 161,
   "id": "ed9cd500",
   "metadata": {},
   "outputs": [],
   "source": [
    "if not os.environ.get(\"GOOGLE_API_KEY\"):\n",
    "  os.environ[\"GOOGLE_API_KEY\"] = api_key['key']"
   ]
  },
  {
   "cell_type": "markdown",
   "id": "8e0824d1",
   "metadata": {},
   "source": [
    "## LLM model"
   ]
  },
  {
   "cell_type": "code",
   "execution_count": null,
   "id": "22d295dc",
   "metadata": {},
   "outputs": [],
   "source": [
    "llm = init_chat_model(\"gemini-2.5-flash\", model_provider=\"google_genai\",temperature=0,max_output_tokens=1024)"
   ]
  },
  {
   "cell_type": "markdown",
   "id": "fc8a4892",
   "metadata": {},
   "source": [
    "## Load data\n",
    "\n",
    "The information for each article is structured in JSON format.\n",
    "\n",
    "- `info_articles_main`: JSON file containing scientific papers from our research group.\n",
    "- `info_articles_ref_final`: JSON file containing scientific papers referenced by the papers from our research group."
   ]
  },
  {
   "cell_type": "code",
   "execution_count": 3,
   "id": "5c7558ec",
   "metadata": {},
   "outputs": [],
   "source": [
    "with open(\"info_articles_main.pkl\",\"rb\") as f:\n",
    "    info_articles_main = pkl.load(f)\n",
    "with open(\"info_articles_ref_final.pkl\",\"rb\") as f:\n",
    "    info_articles_ref = pkl.load(f)"
   ]
  },
  {
   "cell_type": "markdown",
   "id": "53b641d8",
   "metadata": {},
   "source": [
    "## Database"
   ]
  },
  {
   "cell_type": "markdown",
   "id": "04ef787c",
   "metadata": {},
   "source": [
    "### Split the text\n",
    "\n",
    "We use RecursiveCharacterTextSplitter. It splits text by recursively look at characters. Recursively tries to split by different characters to find one that works."
   ]
  },
  {
   "cell_type": "code",
   "execution_count": 4,
   "id": "e689c386",
   "metadata": {},
   "outputs": [],
   "source": [
    "splitter = RecursiveCharacterTextSplitter(\n",
    "    chunk_size=1000,  # We selected this threshold according to the performance of the model.\n",
    "    chunk_overlap=100,  # 1000/10\n",
    "    separators=[\"\\n\\n\", \"\\n\", \".\", \"!\", \"?\", \" \"]  # smart splitting\n",
    ")"
   ]
  },
  {
   "cell_type": "markdown",
   "id": "bef105fc",
   "metadata": {},
   "source": [
    "We merge both JSON files into `info_articles_final`"
   ]
  },
  {
   "cell_type": "code",
   "execution_count": 5,
   "id": "14fa4e3c",
   "metadata": {},
   "outputs": [
    {
     "data": {
      "text/plain": [
       "'We have a total of 265 scientific articles'"
      ]
     },
     "execution_count": 5,
     "metadata": {},
     "output_type": "execute_result"
    }
   ],
   "source": [
    "info_articles_final = info_articles_main + info_articles_ref\n",
    "f'We have a total of {len(info_articles_final)} scientific articles'"
   ]
  },
  {
   "cell_type": "code",
   "execution_count": 6,
   "id": "3d2f19ab",
   "metadata": {},
   "outputs": [],
   "source": [
    "info_splitted = hf.chunk_makers(info_articles_final, splitter=splitter)"
   ]
  },
  {
   "cell_type": "code",
   "execution_count": 8,
   "id": "74ae5763",
   "metadata": {},
   "outputs": [
    {
     "data": {
      "text/plain": [
       "{'chunk_index': 1,\n",
       " 'content': 'Almudena Devesa-Peiro et al.,2020 Uterine disorders affecting female fertility: what are the molecular functions altered in endometrium?, DOI:https://doi.org/10.1016/j.fertnstert.2020.01.025:\\n . The search identified experiments involving human endometrial transcriptomic case versus control raw data related to uterine pathologies and implantation alterations. The keywords employed in the search included endometriosis, endometrial adenocarcinoma (ADC), recurrent implantation failure (RIF), and recurrent pregnancy loss (RPL), among others (Supplemental Table 1A, available online, for a full list of search terms). No restrictions were placed on publication date or language. Uterine leiomyoma, adenomyosis, and uterine leiomyosarcoma data were not included due to a lack of suitable studies meeting our criteria. For each sample cohort belonging to the same individual study, 39 variables were evaluated (see Supplemental Table 1B), including clinical characteristics of the participants (e.g., age and body mass index), experimental design (e.g., endometrial biopsy preprocessing procedure and transcriptomic platform), and additional study information (e.g',\n",
       " 'parent': 'Methods',\n",
       " 'split': True,\n",
       " 'DOI': 'https://doi.org/10.1016/j.fertnstert.2020.01.025',\n",
       " 'Reference': 'Almudena Devesa-Peiro et al.,2020'}"
      ]
     },
     "execution_count": 8,
     "metadata": {},
     "output_type": "execute_result"
    }
   ],
   "source": [
    "info_splitted[10]"
   ]
  },
  {
   "cell_type": "markdown",
   "id": "a0809f73",
   "metadata": {},
   "source": [
    "## Embedding"
   ]
  },
  {
   "cell_type": "markdown",
   "id": "6065057d",
   "metadata": {},
   "source": [
    "We chose this embedding according to leaderboard of HuggingFace and the results of the performance of the model."
   ]
  },
  {
   "cell_type": "code",
   "execution_count": 9,
   "id": "4bae4ce3",
   "metadata": {},
   "outputs": [
    {
     "name": "stderr",
     "output_type": "stream",
     "text": [
      "/home/aparraga/anaconda3/envs/RAG/lib/python3.9/site-packages/tqdm/auto.py:21: TqdmWarning: IProgress not found. Please update jupyter and ipywidgets. See https://ipywidgets.readthedocs.io/en/stable/user_install.html\n",
      "  from .autonotebook import tqdm as notebook_tqdm\n"
     ]
    }
   ],
   "source": [
    "embedding_function2 = HuggingFaceEmbeddings(model_name=\"intfloat/e5-small-v2\")"
   ]
  },
  {
   "cell_type": "markdown",
   "id": "2786e097",
   "metadata": {},
   "source": [
    "## Adding texts to ChromaDB"
   ]
  },
  {
   "cell_type": "code",
   "execution_count": 10,
   "id": "961b72f8",
   "metadata": {},
   "outputs": [],
   "source": [
    "# Prepare documents, metadata, and IDs\n",
    "texts = [chunk[\"content\"] for chunk in info_splitted]\n",
    "metadatas = [{\"parent\": chunk[\"parent\"], \"chunk_index\": chunk[\"chunk_index\"],\"DOI\": chunk[\"DOI\"], \"Reference\": chunk[\"Reference\"]} for chunk in info_splitted]\n",
    "ids = [str(uuid.uuid1()) for _ in metadatas]"
   ]
  },
  {
   "cell_type": "code",
   "execution_count": 11,
   "id": "1b79161a",
   "metadata": {},
   "outputs": [],
   "source": [
    "db = Chroma.from_texts(\n",
    "    texts=texts,\n",
    "    embedding=embedding_function2,\n",
    "    metadatas=metadatas,\n",
    "    ids=ids,\n",
    "    collection_name=\"ReproRAG\",\n",
    "    persist_directory=\"./chromaRepro\" # Persist directory to be read in the app.py (streamlit)\n",
    ")"
   ]
  },
  {
   "cell_type": "markdown",
   "id": "469cb121",
   "metadata": {},
   "source": [
    "We check that the search works properly"
   ]
  },
  {
   "cell_type": "code",
   "execution_count": 31,
   "id": "1b92eabd",
   "metadata": {},
   "outputs": [
    {
     "data": {
      "text/plain": [
       "[Document(metadata={'Reference': 'Patricia Diaz-Gimeno et al.,2024', 'chunk_index': 12, 'DOI': 'https://doi.org/10.1016/j.fertnstert.2024.03.015', 'parent': 'Methods'}, page_content='Patricia Diaz-Gimeno et al.,2024 Predicting risk of endometrial failure: a biomarker signature that identifies a novel disruption independent of endometrial timing in patients undergoing hormonal replacement cycles, DOI:https://doi.org/10.1016/j.fertnstert.2024.03.015:\\n EFR signature capability as a biomarker of endometrial disruption\\nTo estimate the prediction capability of the EFR signature to distinguish poor and good endometrial prognosis profiles, we implemented predictive models on the basis of the Support Vector Machine algorithm. Using a stratified fivefold crossvalidation process (repeated 100 times), the accuracy, sensitivity, and specificity were estimated. The range of values obtained across the 100 iterations was presented as a boxplot using ggplot2.\\nStatistical analysis'),\n",
       " Document(metadata={'Reference': 'Patricia Diaz-Gimeno et al.,2024', 'chunk_index': 3, 'DOI': 'https://doi.org/10.1016/j.fertnstert.2024.03.015', 'parent': 'Results'}, page_content='Patricia Diaz-Gimeno et al.,2024 Predicting risk of endometrial failure: a biomarker signature that identifies a novel disruption independent of endometrial timing in patients undergoing hormonal replacement cycles, DOI:https://doi.org/10.1016/j.fertnstert.2024.03.015:\\n A total of 122 genes were identified as significantly different (30.2% of all panel genes, FDR< 0.05) between patients with good and poor endometrial prognoses, including 63 downregulated and 59 upregulated in patients with poor endometrial prognosis (Table 1 and Fig. 1A), and proposed as the EFR biomarker signature. Transcriptomically, endometrial biopsies clustered by prognosis (Fig. 1B), and the signature genes had functions that were mainly related to regulation (17%); metabolism (8.4%); the immune system and inflammation (7.8%); protein processes (7.3%), signaling (6.9%), transport (6.1%), and the cell cycle, proliferation, and differentiation (5.3%) (Fig. 1C andSupplemental Table 2). The poor prognosis profile was distinguished by a downregulation of 27/39 (69.2%) functional groups. We highlight the functions with higher proportions of downregulated genes as steroidogenesis and steroid signaling (77.8%), hormone-related (80.0%), the nervous system (81'),\n",
       " Document(metadata={'DOI': 'https://doi.org/10.1016/j.fertnstert.2024.03.015', 'chunk_index': 5, 'Reference': 'Patricia Diaz-Gimeno et al.,2024', 'parent': 'Methods'}, page_content='Patricia Diaz-Gimeno et al.,2024 Predicting risk of endometrial failure: a biomarker signature that identifies a novel disruption independent of endometrial timing in patients undergoing hormonal replacement cycles, DOI:https://doi.org/10.1016/j.fertnstert.2024.03.015:\\n . 1, step 3). Finally, the gene expression signature was used to supervise machine learning algorithms to evaluate the biomarker capacity of this signature to distinguish endometrial competence. The predictive performance of the models was assessed through the accuracy, sensibility, and specificity over 100 iterations of fivefold strati fied cross-validation ( Supplemental Fig. 1 , step 4).'),\n",
       " Document(metadata={'chunk_index': 10, 'parent': 'Methods', 'Reference': 'Patricia Diaz-Gimeno et al.,2024', 'DOI': 'https://doi.org/10.1016/j.fertnstert.2024.03.015'}, page_content='Patricia Diaz-Gimeno et al.,2024 Predicting risk of endometrial failure: a biomarker signature that identifies a novel disruption independent of endometrial timing in patients undergoing hormonal replacement cycles, DOI:https://doi.org/10.1016/j.fertnstert.2024.03.015:\\n EFR biomarker signature identification\\nA preliminary classification of patients was based on the patients’ history of reproductive outcomes and transcriptomic patterns corrected for endometrial luteal phase timing. This approach eliminated the gene expression variation related to the cyclic tissue changes that mask endometrial disruption  and was used before applying semi-supervised machine learning on the basis of self-labeled techniques (see Supplemental Methods). Once, the genomic-driven disease taxonomy was established, the differentially expressed genes obtained between the final good and poor prognosis groups were proposed as the EFR biomarker signature. The limma R package was used to identify the statistically signi ficant differentially expressed genes (false discovery rate [FDR]-adjustedP value <.05).\\nFunctional characterization of the EFR signature'),\n",
       " Document(metadata={'parent': 'Methods', 'chunk_index': 8, 'DOI': 'https://doi.org/10.1016/j.fertnstert.2024.03.015', 'Reference': 'Patricia Diaz-Gimeno et al.,2024'}, page_content='Patricia Diaz-Gimeno et al.,2024 Predicting risk of endometrial failure: a biomarker signature that identifies a novel disruption independent of endometrial timing in patients undergoing hormonal replacement cycles, DOI:https://doi.org/10.1016/j.fertnstert.2024.03.015:\\n . After calculating predictive performance with a stratified fivefold cross-validation (default parameters; 80:20; 100 iterations) using the Weka R package , the optimal signature size was determined for each algorithm, as the one with the fewest genes and highest accuracy. Finally, genes we previously prioritized for transcriptomic endometrial dating w e r ea l s oi n c l u d e di nt h e EFR panel to be able to remove the endometrial luteal phase timing variation.'),\n",
       " Document(metadata={'chunk_index': 5, 'Reference': 'Patricia Diaz-Gimeno et al.,2024', 'DOI': 'https://doi.org/10.1016/j.fertnstert.2024.03.015', 'parent': 'Introduction'}, page_content='Patricia Diaz-Gimeno et al.,2024 Predicting risk of endometrial failure: a biomarker signature that identifies a novel disruption independent of endometrial timing in patients undergoing hormonal replacement cycles, DOI:https://doi.org/10.1016/j.fertnstert.2024.03.015:\\n . On the basis of these genomics-driven precision medicine strategies, this proof-of-concept study aimed to discover a biomarker panel that could identify endometrial disruption, independent of endometrial timing, to predict, and ultimately prevent, poor reproductive outcomes in in vitro fertilization (IVF) patients.'),\n",
       " Document(metadata={'DOI': 'https://doi.org/10.1016/j.fertnstert.2024.03.015', 'chunk_index': 7, 'parent': 'Methods', 'Reference': 'Patricia Diaz-Gimeno et al.,2024'}, page_content='Patricia Diaz-Gimeno et al.,2024 Predicting risk of endometrial failure: a biomarker signature that identifies a novel disruption independent of endometrial timing in patients undergoing hormonal replacement cycles, DOI:https://doi.org/10.1016/j.fertnstert.2024.03.015:\\n Supplemental Figure 2illustrates the workflow for the EFR panel gene selection. A whole-transcriptome endometrial data set (GSE58144, n1⁄4 115) retrieved from Gene Expression Omnibus  was processed to correct the endometrial progression effect, using linear models in limma (version 3.46.0) , and unmask genes related to endometrial disruption . These genes were ranked according to an informativity score (CorrelationAttributeEval) in Weka (version 3.8.2, December 22, 2017)  to evaluate their worth by measuring their correlation with endometrial pathology. Gene sets with increasing gene signature size were developed by adding the most informative genes in a stepwise manner, and their predictive performance was analyzed using Support Vector Machine  and Random Forest  algorithms'),\n",
       " Document(metadata={'Reference': 'Patricia Diaz-Gimeno et al.,2024', 'chunk_index': 2, 'DOI': 'https://doi.org/10.1016/j.fertnstert.2024.03.015', 'parent': 'Abstract'}, page_content='Patricia Diaz-Gimeno et al.,2024 Predicting risk of endometrial failure: a biomarker signature that identifies a novel disruption independent of endometrial timing in patients undergoing hormonal replacement cycles, DOI:https://doi.org/10.1016/j.fertnstert.2024.03.015:\\n .0%), metabolism (8.4%), immune response, and inflammation (7.8%). This EFR signature had a median accuracy of 0.92 (min1⁄40.88, max1⁄40.94), median sensitivity of 0.96 (min1⁄40.91, max 1⁄4 0.98), and median specificity of 0.84 (min 1⁄4 0.77, max 1⁄4 0.88), positioning itself as a promising biomarker for endometrial evaluation. Conclusion(s): The EFR signature revealed a novel endometrial disruption, independent of endometrial luteal phase timing, present in 73.7% of patients. This EFR signature stratified patients into 2 significantly distinct and clinically relevant prognosis profiles providing opportunities for personalized therapy. Nevertheless, further validations are needed before implementing this gene signature as an artificial intelligence (AI)-based tool to reduce the risk of patients experiencing endometrial failure. (Fertil Steril /C2102024;-:-- -. /C2112024 by American Society for Reproductive Medicine.)'),\n",
       " Document(metadata={'chunk_index': 11, 'Reference': 'Patricia Diaz-Gimeno et al.,2024', 'parent': 'Methods', 'DOI': 'https://doi.org/10.1016/j.fertnstert.2024.03.015'}, page_content='Patricia Diaz-Gimeno et al.,2024 Predicting risk of endometrial failure: a biomarker signature that identifies a novel disruption independent of endometrial timing in patients undergoing hormonal replacement cycles, DOI:https://doi.org/10.1016/j.fertnstert.2024.03.015:\\n Functional characterization of the EFR signature\\nThe biomarker signature genes were annotated for functional interpretation databases by consulting Kyoto Encyclopaedia of Genes and Genomes human pathways  (release 99.0, August 1, 2021) and Gene Ontology (version July 2, 2021; employing only experimental annotations) . Functional terms were manually summarized into categories according VOL. - NO. - / - 2024 3 Fertil Steril®  to their description in the database and presented as a bar plot using ggplot2 .\\nEFR signature capability as a biomarker of endometrial disruption'),\n",
       " Document(metadata={'DOI': 'https://doi.org/10.1016/j.fertnstert.2024.03.015', 'Reference': 'Patricia Diaz-Gimeno et al.,2024', 'parent': 'Results', 'chunk_index': 0}, page_content='Patricia Diaz-Gimeno et al.,2024 Predicting risk of endometrial failure: a biomarker signature that identifies a novel disruption independent of endometrial timing in patients undergoing hormonal replacement cycles, DOI:https://doi.org/10.1016/j.fertnstert.2024.03.015:\\n RESULTS\\nPreliminary sequencing with the 404-gene EFR panel\\nThe EFR panel evaluated 404 genes: 139 that predict endometrial disruption and 310 that serve as biomarkers of endometrial dating or timing. Notably, 45 genes overlapped in these 2 endometrial factors. Of the 281 endometrial samples collected, we excluded 56 samples for having low-quality or insufficient RNA; 6 samples containing a low number of sequencing reads (Supplemental Fig. 3A); and 2 samples that had low gene expression after normalization ( Supplemental Fig. 3B ). Thus, 217 patients were considered in the downstream analysis. After correcting batch effects from sequencing runs (Supplemental Fig. 3C) and removing the transcriptomic variation due to endometrial cyclic changes (endometrial luteal phase timing;Supplemental Fig. 3D), there were no other confounding technical or clinical factors (Supplemental Fig. 4).')]"
      ]
     },
     "execution_count": 31,
     "metadata": {},
     "output_type": "execute_result"
    }
   ],
   "source": [
    "db.similarity_search(\"Is there a signature to predict endometrial disruption?\", 10) # Cosine by default"
   ]
  }
 ],
 "metadata": {
  "kernelspec": {
   "display_name": "Python 3 (ipykernel)",
   "language": "python",
   "name": "python3"
  },
  "language_info": {
   "codemirror_mode": {
    "name": "ipython",
    "version": 3
   },
   "file_extension": ".py",
   "mimetype": "text/x-python",
   "name": "python",
   "nbconvert_exporter": "python",
   "pygments_lexer": "ipython3",
   "version": "3.9.21"
  }
 },
 "nbformat": 4,
 "nbformat_minor": 5
}
