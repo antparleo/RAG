{
 "cells": [
  {
   "cell_type": "markdown",
   "id": "2fcec673",
   "metadata": {},
   "source": [
    "# Chroma Database Generation"
   ]
  },
  {
   "cell_type": "markdown",
   "id": "932c4587",
   "metadata": {},
   "source": [
    "# Library"
   ]
  },
  {
   "cell_type": "code",
   "execution_count": 2,
   "id": "2df9b888",
   "metadata": {},
   "outputs": [],
   "source": [
    "from langchain_community.vectorstores import Chroma\n",
    "from langchain_text_splitters import RecursiveCharacterTextSplitter\n",
    "import os\n",
    "import json\n",
    "import uuid\n",
    "import pickle as pkl\n",
    "from langchain_huggingface import HuggingFaceEmbeddings\n",
    "from langchain.chat_models import init_chat_model\n",
    "import helper_functions as hf"
   ]
  },
  {
   "cell_type": "markdown",
   "id": "34030fd4",
   "metadata": {},
   "source": [
    "## Config"
   ]
  },
  {
   "cell_type": "code",
   "execution_count": 2,
   "id": "be4ea84b",
   "metadata": {},
   "outputs": [],
   "source": [
    "with open('api_google.txt') as f:\n",
    "    \n",
    "    api_key = json.load(f)"
   ]
  },
  {
   "cell_type": "code",
   "execution_count": 3,
   "id": "ed9cd500",
   "metadata": {},
   "outputs": [],
   "source": [
    "if not os.environ.get(\"GOOGLE_API_KEY\"):\n",
    "  os.environ[\"GOOGLE_API_KEY\"] = api_key['key']"
   ]
  },
  {
   "cell_type": "markdown",
   "id": "8e0824d1",
   "metadata": {},
   "source": [
    "## LLM model"
   ]
  },
  {
   "cell_type": "code",
   "execution_count": null,
   "id": "22d295dc",
   "metadata": {},
   "outputs": [],
   "source": [
    "llm = init_chat_model(\"gemini-2.5-flash\", model_provider=\"google_genai\",temperature=0,max_output_tokens=1024) # gemma-3-27b-it (open)"
   ]
  },
  {
   "cell_type": "markdown",
   "id": "fc8a4892",
   "metadata": {},
   "source": [
    "## Load data\n",
    "\n",
    "The information for each article is structured in JSON format.\n",
    "\n",
    "- `info_articles_main`: JSON file containing scientific papers from our research group.\n",
    "- `info_articles_ref_final`: JSON file containing scientific papers referenced by the papers from our research group."
   ]
  },
  {
   "cell_type": "code",
   "execution_count": 3,
   "id": "5c7558ec",
   "metadata": {},
   "outputs": [],
   "source": [
    "with open(\"info_articles_main.pkl\",\"rb\") as f:\n",
    "    info_articles_main = pkl.load(f)\n",
    "with open(\"info_articles_ref_final.pkl\",\"rb\") as f:\n",
    "    info_articles_ref = pkl.load(f)"
   ]
  },
  {
   "cell_type": "markdown",
   "id": "53b641d8",
   "metadata": {},
   "source": [
    "## Database"
   ]
  },
  {
   "cell_type": "markdown",
   "id": "04ef787c",
   "metadata": {},
   "source": [
    "### Split the text\n",
    "\n",
    "We use RecursiveCharacterTextSplitter. It splits text by recursively look at characters. Recursively tries to split by different characters to find one that works."
   ]
  },
  {
   "cell_type": "code",
   "execution_count": 4,
   "id": "e689c386",
   "metadata": {},
   "outputs": [],
   "source": [
    "splitter = RecursiveCharacterTextSplitter(\n",
    "    chunk_size=1500,  # We selected this threshold according to the performance of the model.\n",
    "    chunk_overlap=150,  # 1500/10\n",
    "    separators=[\"\\n\\n\", \"\\n\", \".\", \"!\", \"?\", \" \"]  # smart splitting\n",
    ")"
   ]
  },
  {
   "cell_type": "markdown",
   "id": "bef105fc",
   "metadata": {},
   "source": [
    "We merge both JSON files into `info_articles_final`"
   ]
  },
  {
   "cell_type": "code",
   "execution_count": 5,
   "id": "14fa4e3c",
   "metadata": {},
   "outputs": [
    {
     "data": {
      "text/plain": [
       "'We have a total of 265 scientific articles'"
      ]
     },
     "execution_count": 5,
     "metadata": {},
     "output_type": "execute_result"
    }
   ],
   "source": [
    "info_articles_final = info_articles_main + info_articles_ref\n",
    "f'We have a total of {len(info_articles_final)} scientific articles'"
   ]
  },
  {
   "cell_type": "code",
   "execution_count": 6,
   "id": "3d2f19ab",
   "metadata": {},
   "outputs": [],
   "source": [
    "info_splitted = hf.chunk_makers(info_articles_final, splitter=splitter)"
   ]
  },
  {
   "cell_type": "markdown",
   "id": "a0809f73",
   "metadata": {},
   "source": [
    "## Embedding"
   ]
  },
  {
   "cell_type": "markdown",
   "id": "6065057d",
   "metadata": {},
   "source": [
    "We chose this embedding according to leaderboard of HuggingFace and the results of the performance of the model."
   ]
  },
  {
   "cell_type": "code",
   "execution_count": null,
   "id": "4bae4ce3",
   "metadata": {},
   "outputs": [],
   "source": [
    "embedding_function2 = HuggingFaceEmbeddings(model_name=\"intfloat/e5-small-v2\")  #intfloat/e5-small-v2"
   ]
  },
  {
   "cell_type": "markdown",
   "id": "2786e097",
   "metadata": {},
   "source": [
    "## Adding texts to ChromaDB"
   ]
  },
  {
   "cell_type": "code",
   "execution_count": null,
   "id": "961b72f8",
   "metadata": {},
   "outputs": [],
   "source": [
    "# Prepare documents, metadata, and IDs\n",
    "texts = [chunk[\"content\"] for chunk in info_splitted]\n",
    "metadatas = [{\"parent\": chunk[\"parent\"], \"chunk_index\": chunk[\"chunk_index\"],\"DOI\": chunk[\"DOI\"], \"Reference\": chunk[\"Reference\"]} for chunk in info_splitted]\n",
    "ids = [str(uuid.uuid1()) for _ in metadatas]"
   ]
  },
  {
   "cell_type": "code",
   "execution_count": null,
   "id": "1b79161a",
   "metadata": {},
   "outputs": [],
   "source": [
    "db = Chroma.from_texts(\n",
    "    texts=texts,\n",
    "    embedding=embedding_function2,\n",
    "    metadatas=metadatas,\n",
    "    ids=ids,\n",
    "    collection_name=\"ReproRAG\",\n",
    "    persist_directory=\"./chromaRepro\" # Persist directory to be read in the app.py (streamlit)\n",
    ")"
   ]
  },
  {
   "cell_type": "markdown",
   "id": "469cb121",
   "metadata": {},
   "source": [
    "We check that the search works properly"
   ]
  },
  {
   "cell_type": "code",
   "execution_count": null,
   "id": "1b92eabd",
   "metadata": {},
   "outputs": [
    {
     "data": {
      "text/plain": [
       "[Document(metadata={'chunk_index': 2, 'parent': 'Discussion', 'Reference': 'P. Sebastian-Leon et al.,2018', 'DOI': 'https://doi.org/10.1093/humrep/dey023'}, page_content='P. Sebastian-Leon et al.,2018, DOI:https://doi.org/10.1093/humrep/dey023:\\n ., 2008), or have good predictive value for both, such as Altmäe2010 who designed the study for unexplained infertility versus fertile controls (Altmäe et al., 2010). On the other hand, in the pathological prediction model, most of the signatures designed to distinguish between fertility and infertility improved their accuracy using correction by transcriptomic clusters instead of LH criteria ( Koot et al.,2 0 1 6). Based on thesefindings, we conclude that endometrial timing is a confounding variable that has been covering up the molecular disruption effect and that the improvement of the prediction due to transcriptomic correction reveals that the transcriptomic cluster provides better criteria than LH for timing effect removal. In addition, these results reinforce previous suggestions made by us related to using transcriptomics as stratification criteria instead of postLH day criteria in endometrium ( Díaz-Gimeno et al., 2017). Figure 1Signatures meaning in terms of displacement or disruption. Prediction model performance for selected signatures compared with random results. Each black point represents a signature accuracy (Y axis) related to its gene size (X axis). Grey shadows represent the mean and 95% CI for random signature models. (A) Displacement model. The accuracy increases with gene size and arrives at a saturation point (size= 500 genes) from which the accuracy then decreases'),\n",
       " Document(metadata={'DOI': 'https://doi.org/10.1093/humrep/dey023', 'chunk_index': 1, 'parent': 'Results', 'Reference': 'P. Sebastian-Leon et al.,2018'}, page_content='P. Sebastian-Leon et al.,2018, DOI:https://doi.org/10.1093/humrep/dey023:\\n . A detailed comparison is shown in Supplementary Fig. S3. What molecular causes of RIF are predicting the signatures? The predictive ability of signatures in detecting WOI timing showed that all of them distinguished this endometrial phenotype with very good accuracy. The minimum accuracy was 0.85 for the Koot signature (Fig. 1A). Eleven signatures (Kao, Riesewijk, Borthwick, Mirkin, Punyadeera, Talbi, Carrascosa, Diaz-Gimeno, Bhagwat, Bersinger and Altmäe2017) gave higher values for predicting timing than expected by chance, while only one (Koot) was lower than expected by chance (Fig. 1A). The predictive capability for disrupted RIF detection was lower in general and less than expected by chance; only Koot and Altmäe2010 showed a predictive value higher than expected by chance (Fig. 1B). The ability to predict both RIF causes for each signature showed three predictive behaviours (Fig.2A): signatures with a good predictive value in disruption but a worse predictive value in displacement (Koot); a group that had good prediction power for displacement and worse for disruption (represented by Kao, Mirkin Diaz-Gimeno, Bersinger, Borthwick, Bhagwat, Riesewijk, Carrascosa, Talbi and Altmäe2017); and finally, a group that had good predictive value for both causes, represented by the Altmäe2010, Punyadeera, Carson, and Ponnampalam signatures'),\n",
       " Document(metadata={'chunk_index': 12, 'Reference': 'P. Diaz-Gimeno et al.,2022', 'parent': 'Methods', 'DOI': 'https://doi.org/10.1093/humrep/deab262'}, page_content='P. Diaz-Gimeno et al.,2022, DOI:https://doi.org/10.1093/humrep/deab262:\\n . S3A). Prediction performance of each published endometrial signature (Dı ́azGimeno et al.,2 0 1 1; Hamamah, 2016; Enciso et al.,2 0 1 8), top predictive genes from endometrial datasets (Top50), and the new signature proposed in this study (TED) were also calculated separately for each dataset (Supplementary Fig. S3B). Then, the same approach was applied selecting signatures of different size from genes ordered by informativity score and increasing the gene signature size for each dataset from best to worst informativity score, to obtain predictive behaviour of genes with better informativity score values, and from worst to best informativity score to obtain predictive behaviour of genes with worst informativity score values (Supplementary Fig. S3C). Finally, more than 288 Diaz-Gimeno et al. Downloaded from https://academic.oup.com/humrep/article/37/2/284/6454792 by guest on 08 February 2023  ......................................... ................................................... ........... . ..................................... ................................ 200 000 prediction models were run in Weka. All plots were generated using ggplot2 package in R (Wickham, 2016).'),\n",
       " Document(metadata={'chunk_index': 3, 'parent': 'Introduction', 'Reference': 'P. Diaz-Gimeno et al.,2022', 'DOI': 'https://doi.org/10.1093/humrep/deab262'}, page_content='P. Diaz-Gimeno et al.,2022, DOI:https://doi.org/10.1093/humrep/deab262:\\n ., 2010; Su et al.,2 0 1 4). In line with this, algorithms applied to gene expression data from known samples (e.g. known menstrual cycle phase at time of endometrial biopsy) can enable predictions for unknown samples with parameters including accuracy (ACC), sensitivity and specificity, as well as an error estimation throughout a cross-validation process (Kohavi, 1995). Prediction models and signature discovery originate through a learning process in a reference set of samples called a training set for signature discovery and robustness occurs in an independent set of samples called a test set (Dı ́az-Gimeno et al., 2017). These next-generation TED tools assess different gene combinations and use different methodologies and platforms to measure gene expression. However, it remains unclear what characteristics determine the capacity of different signatures to predict endometrial progression and why there is a large discrepancy in gene content between these signatures ( Sebastian-Leon et al. , 2018). We therefore used a variety of artificial intelligence algorithms to compare the predictive performance of published gene panels and other signatures created randomly for understanding signatures behaviour related to human menstrual cycle progression. We also applied the algorithms to a novel set of genes, allowing development of a new prediction model employing an optimal gene signature for endometrial dating and analysed us ing a targeted next-generation sequencing approach.'),\n",
       " Document(metadata={'chunk_index': 6, 'parent': 'Methods', 'DOI': 'https://doi.org/10.1016/j.fertnstert.2024.03.015', 'Reference': 'Patricia Diaz-Gimeno et al.,2024'}, page_content='Patricia Diaz-Gimeno et al.,2024, DOI:https://doi.org/10.1016/j.fertnstert.2024.03.015:\\n EFR signature capability as a biomarker of endometrial disruption\\nTo estimate the prediction capability of the EFR signature to distinguish poor and good endometrial prognosis profiles, we implemented predictive models on the basis of the Support Vector Machine algorithm. Using a stratified fivefold crossvalidation process (repeated 100 times), the accuracy, sensitivity, and specificity were estimated. The range of values obtained across the 100 iterations was presented as a boxplot using ggplot2.\\nStatistical analysis\\nRates for reproductive outcomes (ie, pregnancy rate [PR], cumulative pregnancy rate [CPR], live birth rate [LBR], biochemical miscarriage rate [BMR], and clinical miscarriage rate [CMR]) were calculated as de fined in the Supplemental Methods. Descriptive statistics were used for transcriptomic and clinical characteristics of patients to compare prognosis or WOI displacement groups. Continuous variables were presented as an overall mean /C6 standard deviation whereas discrete variables were presented as counts and percentages. Groups were compared using the Wilcoxon rank-sum test for continuous variables and Fisher’s exact test for discrete variables. All statistical analyses were conducted in R. All graphical results were generated with ggplot2.\\nGene expression validation by quantitative realtime polymerase chain reaction'),\n",
       " Document(metadata={'DOI': 'https://doi.org/10.1016/j.fertnstert.2024.03.015', 'Reference': 'Patricia Diaz-Gimeno et al.,2024', 'chunk_index': 2, 'parent': 'Methods'}, page_content='Patricia Diaz-Gimeno et al.,2024, DOI:https://doi.org/10.1016/j.fertnstert.2024.03.015:\\n Study design\\nFirst, a custom RNA-seq gene panel (the endometrial failure risk [EFR] panel) comprising 404 biomarkers of endometrial luteal phase timing and/or potential disruption was designed and employed to determine the risk of endometrial failure among 217 IVF patients (Supplemental Fig. 1, step 1 available online). The endometrial timing-corrected expression of the EFR panel was used to study the differential expression associated with endometrial disruption together with clinical characteristics of IVF patients to stratify the population as having poor or good endometrial prognoses, according to a semi-supervised learning process (Supplemental Fig. 1, step 2). The distinct transcriptomic patterns of each prognosis group were associated with the differences in reproductive outcomes of SET after biopsy collection, and the differentially expressed gene signature was proposed as a biomarker of endometrial disruption (Supplemental Fig. 1, step 3). Finally, the gene expression signature was used to supervise machine learning algorithms to evaluate the biomarker capacity of this signature to distinguish endometrial competence. The predictive performance of the models was assessed through the accuracy, sensibility, and specificity over 100 iterations of fivefold strati fied cross-validation ( Supplemental Fig. 1 , step 4).\\nConstructing the EFR gene panel'),\n",
       " Document(metadata={'Reference': 'Patricia Diaz-Gimeno et al.,2024', 'DOI': 'https://doi.org/10.1016/j.fertnstert.2024.03.015', 'parent': 'Abstract', 'chunk_index': 1}, page_content='Patricia Diaz-Gimeno et al.,2024, DOI:https://doi.org/10.1016/j.fertnstert.2024.03.015:\\n .6% vs. 79.6%), live birth (25.6% vs. 77.6%), clinical miscarriage (22.2% vs. 2.6%), and biochemical miscarriage (20.4% vs. 0%). The relative risk of endometrial failure for patients predicted as a poor endometrial prognosis was 3.3 times higher than those with a good prognosis. The differences in gene expression between both profiles were proposed as a biomarker, coined the endometrial failure risk (EFR) signature. Poor prognosis profiles were characterized by 59 upregulated and 63 downregulated genes mainly involved in regulation (17.0%), metabolism (8.4%), immune response, and inflammation (7.8%). This EFR signature had a median accuracy of 0.92 (min1⁄40.88, max1⁄40.94), median sensitivity of 0.96 (min1⁄40.91, max 1⁄4 0.98), and median specificity of 0.84 (min 1⁄4 0.77, max 1⁄4 0.88), positioning itself as a promising biomarker for endometrial evaluation. Conclusion(s): The EFR signature revealed a novel endometrial disruption, independent of endometrial luteal phase timing, present in 73.7% of patients. This EFR signature stratified patients into 2 significantly distinct and clinically relevant prognosis profiles providing opportunities for personalized therapy. Nevertheless, further validations are needed before implementing this gene signature as an artificial intelligence (AI)-based tool to reduce the risk of patients experiencing endometrial failure. (Fertil Steril /C2102024;-:-- -. /C2112024 by American Society for Reproductive Medicine.)'),\n",
       " Document(metadata={'chunk_index': 1, 'DOI': 'https://doi.org/10.1093/humupd/dmt048', 'parent': 'Discussion', 'Reference': 'Signe Altmäe et al.,2013'}, page_content='Signe Altmäe et al.,2013, DOI:https://doi.org/10.1093/humupd/dmt048:\\n Diaz-Gimeno\\net al.\\n, 2013\\n). Furthermore, pathological states of the endometrium must be considered, including the impact of structural (fibroids) or immune (endometriosis) alterations. Together with concurrent medication or exposures to environmental toxins as well as genetic susceptibility, all of these factors can alter ‘omics’ outcomes (\\nHorcajadas\\net al.\\n, 2007\\n;\\nSavaris and Giudice, 2009\\n). The importance of study design has previously been addressed in several reviews (\\nWhite and Salamonsen, 2005\\n;\\nHorcajadas\\net al.\\n, 2007\\n;\\nSavaris and Giudice, 2009\\n;\\nBellver\\net al.\\n, 2012\\n;\\nRuiz-Alonso\\net al.\\n, 2012\\n;\\nEdgell\\net al.\\n, 2013\\n) but we hereby briefly summarize the critical points.\\nFirst and foremost, researchers should be precise and consistent in defining the phenotype of the study population. Heterogeneity resulting from misclassifying participants decreases both sensitivity and power. The phenotypic heterogeneity across studies often makes it difficult to generalize study findings and replicate the results (\\nWu\\net al.\\n, 2013\\n). While a clear phenotype definition could potentially reduce sample size, it will increase biological homogeneity and thus increase the statistical power (\\nGracie\\net al.\\n, 2011'),\n",
       " Document(metadata={'DOI': 'https://doi.org/10.1093/humrep/deaf156', 'parent': 'Introduction', 'Reference': 'Josefa Maria Sanchez-Reyes et al.,2025', 'chunk_index': 3}, page_content='Josefa Maria Sanchez-Reyes et al.,2025, DOI:https://doi.org/10.1093/humrep/deaf156:\\n . Our new  prognostic stratification elucidates the molecular heterogeneity  of the endometrial disruptions in the mid-secretory phase, inde - pendent of endometrial timing.'),\n",
       " Document(metadata={'parent': 'Results', 'Reference': 'Maria Ruiz-Alonso et al.,2021', 'chunk_index': 7, 'DOI': 'https://doi.org/10.1093/hropen/hoab011'}, page_content='Maria Ruiz-Alonso et al.,2021, DOI:https://doi.org/10.1093/hropen/hoab011:\\n when biopsies were obtained and statistical analysis applied to the results, among other\\nfactors. In sum, all the studies aiming to identify the physiological transcriptomic profile\\nacross the menstrual cycle reached the same conclusion: it is possible to accurately\\ncatalogue endometria at different stages based on their transcriptomic signatures,\\nspecifically the identification of the WOI (see above: ‘A decade of basic research leading\\nto the transcriptomic characterisation of the human endometrium’). Further, the\\nmachine-learning predictors used to relate these gene signatures with clinical diagnosis\\nhave differed. As an example, in our test, the core of the receptivity diagnosis is powered\\nby 134 ERA genes, while the remaining genes target putative WOI displacements.\\nSince the publication of our seminal paper identifying the transcriptomic signature of\\nendometrial receptivity (\\nDíaz-Gimeno\\net\\nal.\\n, 2011\\n), six different companies have launched commercial endometrial\\ntranscriptomic tests under different acronyms with different evidence. WinTest from INSERM\\n(\\nwww.inserm.fr/en\\n) is based on 11 genes\\ndetected using RT-qPCR, with four publications demonstrating transcriptomic and clinical\\nconsistency (\\nHaouzi\\net al.\\n,\\n2009\\n;\\nHaouzi, 2015\\n;\\nBissonnette\\net al.\\n, 2016\\n;\\nHaouzi\\net al.\\n, 2021\\n). ERPeak\\nfrom Cooper Surgical (USA) (\\nhttps://fertility.coopersurgical.com/genomics/erpeak-endometrial-receptivity-test/\\n)\\nand ERMap from IGLS (Spain) (')]"
      ]
     },
     "execution_count": 38,
     "metadata": {},
     "output_type": "execute_result"
    }
   ],
   "source": [
    "db.similarity_search(\"Is there a signature to predict endometrial disruption?\", 10) # Cosine by default"
   ]
  }
 ],
 "metadata": {
  "kernelspec": {
   "display_name": "RAG",
   "language": "python",
   "name": "python3"
  },
  "language_info": {
   "codemirror_mode": {
    "name": "ipython",
    "version": 3
   },
   "file_extension": ".py",
   "mimetype": "text/x-python",
   "name": "python",
   "nbconvert_exporter": "python",
   "pygments_lexer": "ipython3",
   "version": "3.11.2"
  }
 },
 "nbformat": 4,
 "nbformat_minor": 5
}
