{
 "cells": [
  {
   "cell_type": "markdown",
   "id": "18772ea0",
   "metadata": {},
   "source": [
    "# Retrieving scientific articles for database"
   ]
  },
  {
   "cell_type": "markdown",
   "id": "579d11f6",
   "metadata": {},
   "source": [
    "## Libraries"
   ]
  },
  {
   "cell_type": "code",
   "execution_count": 8,
   "id": "c3b57a69",
   "metadata": {},
   "outputs": [],
   "source": [
    "from langchain_community.document_loaders import PyPDFLoader, pdf\n",
    "import os\n",
    "import re\n",
    "from langchain_core.prompts.prompt import PromptTemplate\n",
    "from langchain_core.output_parsers import JsonOutputParser\n",
    "from pydantic import BaseModel, Field\n",
    "import json\n",
    "from langchain_google_genai import GoogleGenerativeAI\n",
    "import pickle as pkl\n",
    "import requests\n",
    "import subprocess\n",
    "import pandas as pd\n",
    "from bs4 import BeautifulSoup\n",
    "import tqdm\n",
    "import time\n",
    "import helper_functions as hf"
   ]
  },
  {
   "cell_type": "markdown",
   "id": "328c2061",
   "metadata": {},
   "source": [
    "## Config"
   ]
  },
  {
   "cell_type": "code",
   "execution_count": 3,
   "id": "7be2125f",
   "metadata": {},
   "outputs": [
    {
     "data": {
      "text/plain": [
       "'/data/local/aparraga/Bioinformatician/RAG'"
      ]
     },
     "execution_count": 3,
     "metadata": {},
     "output_type": "execute_result"
    }
   ],
   "source": [
    "os.getcwd()"
   ]
  },
  {
   "cell_type": "code",
   "execution_count": 4,
   "id": "357e9e5b",
   "metadata": {},
   "outputs": [],
   "source": [
    "with open('api_google.txt') as f:\n",
    "    \n",
    "    api_key = json.load(f)"
   ]
  },
  {
   "cell_type": "markdown",
   "id": "9b413d0a",
   "metadata": {},
   "source": [
    "## Functions"
   ]
  },
  {
   "cell_type": "markdown",
   "id": "b11837db",
   "metadata": {},
   "source": [
    "## Timing"
   ]
  },
  {
   "cell_type": "code",
   "execution_count": 6,
   "id": "01e40cf4",
   "metadata": {},
   "outputs": [],
   "source": [
    "time_management = {}"
   ]
  },
  {
   "cell_type": "markdown",
   "id": "d6746c38",
   "metadata": {},
   "source": [
    "## LLM Model"
   ]
  },
  {
   "cell_type": "code",
   "execution_count": null,
   "id": "23cd2e8b",
   "metadata": {},
   "outputs": [],
   "source": [
    "llm = GoogleGenerativeAI(model=\"gemini-2.0-flash\",api_key=api_key['key'],temperature=0.2)"
   ]
  },
  {
   "cell_type": "markdown",
   "id": "a914329c",
   "metadata": {},
   "source": [
    "## Loading PDFs (articles from our research group)"
   ]
  },
  {
   "cell_type": "code",
   "execution_count": 6,
   "id": "8d164fb0",
   "metadata": {},
   "outputs": [],
   "source": [
    "paths = []\n",
    "paths_folder_create = []\n",
    "\n",
    "for root, dirs, files in os.walk(\"Data\"):\n",
    "    for f in files:\n",
    "        if f.endswith('.pdf'):\n",
    "            paths.append(os.path.join(root,f))\n",
    "            paths_folder_create.append(os.path.join(os.getcwd(),\"ToDataBase\",f))"
   ]
  },
  {
   "cell_type": "markdown",
   "id": "96d7da10",
   "metadata": {},
   "source": [
    "We create a folder for each article to pre-process the references"
   ]
  },
  {
   "cell_type": "code",
   "execution_count": 7,
   "id": "0e4874f4",
   "metadata": {},
   "outputs": [
    {
     "data": {
      "text/plain": [
       "[None,\n",
       " None,\n",
       " None,\n",
       " None,\n",
       " None,\n",
       " None,\n",
       " None,\n",
       " None,\n",
       " None,\n",
       " None,\n",
       " None,\n",
       " None,\n",
       " None,\n",
       " None,\n",
       " None,\n",
       " None,\n",
       " None,\n",
       " None]"
      ]
     },
     "execution_count": 7,
     "metadata": {},
     "output_type": "execute_result"
    }
   ],
   "source": [
    "os.makedirs(os.path.join(os.getcwd(), \"ToDataBase\"), exist_ok=True)\n",
    "[os.makedirs(re.sub(r'.pdf', '', p), exist_ok=True) for p in paths_folder_create]"
   ]
  },
  {
   "cell_type": "code",
   "execution_count": null,
   "id": "a0f6a65c",
   "metadata": {},
   "outputs": [],
   "source": [
    "# We read the articles from our scientific group with PyPDFLoader in single mode (all content)\n",
    "\n",
    "articles = []\n",
    "\n",
    "for file in paths:\n",
    "    loader = loader = PyPDFLoader(file, mode=\"single\")\n",
    "    doc = loader.load()[0] # As this function provides a list, we select the first element.\n",
    "    doc.page_content = hf.clean_text(doc.page_content)\n",
    "    \n",
    "    articles.append(doc)"
   ]
  },
  {
   "cell_type": "markdown",
   "id": "62bb9420",
   "metadata": {},
   "source": [
    "### Json generation"
   ]
  },
  {
   "cell_type": "code",
   "execution_count": 10,
   "id": "cd521499",
   "metadata": {},
   "outputs": [],
   "source": [
    "class paper(BaseModel):\n",
    "\n",
    "    PaperTitle: str = Field(description=\"The full title of the research paper\")\n",
    "    Publication: str = Field(description=\"Year: The year the paper was published\")\n",
    "    Authors: str = Field(description=\"The full names of all authors of the paper\")\n",
    "    Email: str = Field(description=\"The email address of the author (if provided)\")\n",
    "    Abstract: str = Field(description=\"The full text of the paper's abstract.\")\n",
    "    Introduction: str = Field(description=\"The full text fo the paper's introduction. Bear in mind that it can have other names such as background.\")\n",
    "    Methods: str = Field(description=\"The full text fo the paper's methods. Don't take the information from abstract.\")\n",
    "    Results: str = Field(description=\"The full text fo the paper's results. Don't take the information from abstract. Please take all possible text of results, this section could be divided into different sections.\")\n",
    "    Discussion: str = Field(description=\"The full text fo the paper's discussion if provided. Otherwise leave the filed blank. It should be entitled 'Discussion'\")\n",
    "    Conclusion: str = Field(description=\"The full text fo the paper's conclusion if provided. Otherwise leave the filed blank. Please don't take this information form abstract.\")\n",
    "    DOI: str = Field(description=\"Provide the Digital Object Identifier (DOI) for the paper. If a DOI is not available, provide a URL for the paper. This field is compulsory. Example of a DOI format: 10.1007/s10814-017-9105-3, 10.1016/j.cell.2023.08.001, 10.1038/nature12345.\")\n",
    "    Journal: str = Field(description=\"provide the name of the journal, e.g Nature.\")"
   ]
  },
  {
   "cell_type": "code",
   "execution_count": 11,
   "id": "6f763428",
   "metadata": {},
   "outputs": [],
   "source": [
    "parser = JsonOutputParser(pydantic_object=paper)\n",
    "\n",
    "prompt = PromptTemplate(\n",
    "    template=\"\"\"\n",
    "You are an expert in analyzing scientific research papers. Please carefully read the provided research paper above and extract the following key information:\n",
    "Extract these nine (10) properties from the research paper:\n",
    "\n",
    "Paper Title: The full title of the research paper\n",
    "\n",
    "Publication Year: The year the paper was published\n",
    "\n",
    "Authors: The full names of all authors of the paper\n",
    "\n",
    "Email: The email address of the author (if provided)\n",
    "\n",
    "Abstract: The full text of the paper's abstract\n",
    "\n",
    "Introduction: The full text fo the paper's introduction. Bear in mind that it can have other names such as background.\n",
    "\n",
    "Methods: The full text fo the paper's methods. Don't take the information from abstract.\n",
    "\n",
    "Results: The full text fo the paper's results. Don't take the information from abstract. Please take all possible text of results, this section could be divided into different sections.\n",
    "\n",
    "Discussion:The full text fo the paper's discussion if provided. Otherwise leave the filed blank. It shoudl be entitled \"Discussion\"\n",
    "\n",
    "Conclusion: The full text fo the paper's conclusion if provided. Otherwise leave the filed blank. Please don't take this information form abstract.\n",
    "\n",
    "DOI: Provide the Digital Object Identifier (DOI) for the paper. If a DOI is not available, provide a URL for the paper. This field is compulsory. Example of a DOI format: 10.1007/s10814-017-9105-3, 10.1016/j.cell.2023.08.001, 10.1038/nature12345.\n",
    "\n",
    "Journal: provide the name of the journal, e.g Nature.\n",
    "\n",
    "\n",
    "Guidelines:\n",
    "\n",
    "\n",
    "The extracted information should be factual and accurate to the document. Be extremely concise, except for the Abstract, Introduction, Methods, Results. Discussion and Conclusion which should be copied in full.\n",
    "The extracted entities should be self-contained and easily understood without the rest of the paper. If a property is missing from the paper, please leave the field empty rather than guessing.\n",
    "Answer in JSON format. The JSON should contain 9 keys: \"PaperTitle\", \"PublicationYear\", \"Authors\", \"Email\", \"Abstract\", \"Introduction\", \"Methods\",\"Results\", \"DOI\", \"Reference\". You MUST add the DOI since is key to identify the article.\n",
    "\n",
    "Format instructions: \\n{format_instructions}\\n\n",
    "    \n",
    "The article is this:\\n{query}\\n\"\"\",\n",
    "\n",
    "    input_variables=[\"query\"],\n",
    "\n",
    "    partial_variables={\"format_instructions\": parser.get_format_instructions()}\n",
    ")"
   ]
  },
  {
   "cell_type": "markdown",
   "id": "4ab11dcc",
   "metadata": {},
   "source": [
    "To ensure all DOI are retrieved with perform a doble check."
   ]
  },
  {
   "cell_type": "code",
   "execution_count": 67,
   "id": "aabf31d5",
   "metadata": {},
   "outputs": [],
   "source": [
    "chain = prompt | llm | parser\n",
    "\n",
    "doi_prompt = PromptTemplate(\n",
    "    template=(\n",
    "        \"\"\"Extract the Digital Object Identifier (DOI) from the following paper.\n",
    "        \"The DOI must be returned in its raw form (e.g., 10.1007/s10814-017-9105-3,\n",
    "        \"10.1016/j.cell.2023.08.001, 10.1038/nature12345).\n",
    "        \"Return only the DOI string with no additional text.\n",
    "        \"If no DOI is found, return None.\\n\\n\n",
    "        \"Paper:\\n{query}\"\"\"\n",
    "    ),\n",
    "    input_variables=[\"query\"]\n",
    ")\n",
    "\n",
    "chain_doi = doi_prompt | llm"
   ]
  },
  {
   "cell_type": "code",
   "execution_count": null,
   "id": "e1f44809",
   "metadata": {},
   "outputs": [
    {
     "name": "stderr",
     "output_type": "stream",
     "text": [
      "100%|██████████| 18/18 [11:53<00:00, 39.62s/it]\n"
     ]
    }
   ],
   "source": [
    "my_json = []\n",
    "\n",
    "for doc in tqdm.tqdm(articles, total=len(articles)):\n",
    "    info_article = chain.invoke({\"query\": doc.page_content})\n",
    "\n",
    "    if 'DOI' not in info_article.keys():\n",
    "        previous_doi= chain_doi.invoke({\"query\":doc.page_content})\n",
    "        if 'https://doi.org/' not in previous_doi:\n",
    "            info_article['DOI'] = 'https://doi.org/' + previous_doi\n",
    "        else:\n",
    "            info_article['DOI'] = previous_doi\n",
    "    \n",
    "    my_json.append(info_article)\n",
    "\n",
    "with open('info_articles_main.pkl','wb') as f:\n",
    "    pkl.dump(my_json,f)"
   ]
  },
  {
   "cell_type": "markdown",
   "id": "7147d0f3",
   "metadata": {},
   "source": [
    "## Getting references of each article"
   ]
  },
  {
   "cell_type": "code",
   "execution_count": null,
   "id": "4d4b49c3",
   "metadata": {},
   "outputs": [],
   "source": [
    "# Already DOI (To avoid repeatin previously included articles)\n",
    "\n",
    "includedDOI = [ re.sub('(https://doi\\.org/|http://dx\\.doi\\.org/)', '',a['DOI']) for a in my_json]"
   ]
  },
  {
   "cell_type": "code",
   "execution_count": null,
   "id": "973d0869",
   "metadata": {},
   "outputs": [
    {
     "name": "stdout",
     "output_type": "stream",
     "text": [
      "We process the article: Devesa-Peiro2020\n",
      "Getting PDFs-----------------------------\n",
      "\n",
      "We process the article: Sebastian-Leon2025\n",
      "Getting PDFs-----------------------------\n",
      "\n",
      "We process the article: Henarejos-Castillo2020\n",
      "Getting PDFs-----------------------------\n",
      "\n",
      "We process the article: Parraga-Leo2023\n",
      "Getting PDFs-----------------------------\n",
      "\n",
      "We process the article: Garcia-Acero2025\n",
      "Getting PDFs-----------------------------\n",
      "\n",
      "We process the article: Sebastian-Leon2021\n",
      "Getting PDFs-----------------------------\n",
      "\n",
      "We process the article: Henarejos-Castillo2021\n",
      "Getting PDFs-----------------------------\n",
      "\n"
     ]
    },
    {
     "name": "stderr",
     "output_type": "stream",
     "text": [
      "2025-08-17 21:24:52,774 - INFO - pubmed2pdf.cli - Trying to fetch pmid 21989058\n",
      "2025-08-17 21:24:53,518 - INFO - pubmed2pdf.cli - Trying to fetch pmid 27901055\n",
      "2025-08-17 21:24:53,518 - INFO - pubmed2pdf.cli - Trying to fetch pmid 24020646\n",
      "2025-08-17 21:24:53,518 - INFO - pubmed2pdf.cli - Trying to fetch pmid 25227694\n",
      "2025-08-17 21:24:55,788 - INFO - pubmed2pdf.cli - Trying to fetch pmid 11125122\n",
      "2025-08-17 21:24:56,503 - INFO - pubmed2pdf.cli - Trying to fetch pmid None\n",
      "2025-08-17 21:24:57,337 - INFO - pubmed2pdf.cli - Trying to fetch pmid 26243799\n",
      "2025-08-17 21:24:58,065 - INFO - pubmed2pdf.cli - Trying to fetch pmid 30276597\n",
      "2025-08-17 21:25:00,376 - INFO - pubmed2pdf.cli - Trying to fetch pmid 32461654\n",
      "2025-08-17 21:25:00,376 - INFO - pubmed2pdf.cli - Trying to fetch pmid 26620551\n",
      "2025-08-17 21:25:01,311 - INFO - pubmed2pdf.cli - Trying to fetch pmid None\n",
      "2025-08-17 21:25:02,131 - INFO - pubmed2pdf.cli - Trying to fetch pmid 16722528\n",
      "2025-08-17 21:25:02,131 - INFO - pubmed2pdf.cli - Trying to fetch pmid 21478889\n",
      "2025-08-17 21:25:04,611 - INFO - pubmed2pdf.cli - Trying to fetch pmid 27690531\n",
      "2025-08-17 21:25:05,499 - INFO - pubmed2pdf.cli - Trying to fetch pmid 2061095\n",
      "2025-08-17 21:25:05,499 - INFO - pubmed2pdf.cli - Trying to fetch pmid 29225794\n",
      "2025-08-17 21:25:08,015 - INFO - pubmed2pdf.cli - Trying to fetch pmid 30395287\n",
      "2025-08-17 21:25:08,714 - INFO - pubmed2pdf.cli - Trying to fetch pmid None\n",
      "2025-08-17 21:25:09,550 - INFO - pubmed2pdf.cli - Trying to fetch pmid 26667040\n",
      "2025-08-17 21:25:10,509 - INFO - pubmed2pdf.cli - Trying to fetch pmid 26463876\n",
      "2025-08-17 21:25:12,807 - INFO - pubmed2pdf.cli - Trying to fetch pmid 31077743\n",
      "2025-08-17 21:25:14,254 - INFO - pubmed2pdf.cli - Trying to fetch pmid 22248077\n",
      "2025-08-17 21:25:14,255 - INFO - pubmed2pdf.cli - Trying to fetch pmid 25906823\n",
      "2025-08-17 21:25:14,255 - INFO - pubmed2pdf.cli - Trying to fetch pmid None\n",
      "2025-08-17 21:25:15,031 - INFO - pubmed2pdf.cli - Trying to fetch pmid 30304577\n",
      "2025-08-17 21:25:15,952 - INFO - pubmed2pdf.cli - Trying to fetch pmid 18493590\n",
      "2025-08-17 21:25:15,952 - INFO - pubmed2pdf.cli - Trying to fetch pmid None\n",
      "2025-08-17 21:25:16,820 - INFO - pubmed2pdf.cli - Trying to fetch pmid 23307926\n",
      "2025-08-17 21:25:17,554 - INFO - pubmed2pdf.cli - Trying to fetch pmid 21299886\n",
      "2025-08-17 21:25:17,554 - INFO - pubmed2pdf.cli - Trying to fetch pmid 31427081\n",
      "2025-08-17 21:25:19,312 - INFO - pubmed2pdf.cli - Trying to fetch pmid 23153500\n",
      "2025-08-17 21:25:20,742 - INFO - pubmed2pdf.cli - Trying to fetch pmid 28031467\n",
      "2025-08-17 21:25:22,077 - INFO - pubmed2pdf.cli - Trying to fetch pmid 26918822\n",
      "2025-08-17 21:25:22,077 - INFO - pubmed2pdf.cli - Trying to fetch pmid 30023082\n",
      "/home/antonioparragaleo/miniconda3/envs/RAG/lib/python3.11/site-packages/pubmed2pdf/utils.py:57: XMLParsedAsHTMLWarning: It looks like you're using an HTML parser to parse an XML document.\n",
      "\n",
      "Assuming this really is an XML document, what you're doing might work, but you should know that using an XML parser will be more reliable. To parse this document as XML, make sure you have the Python package 'lxml' installed, and pass the keyword argument `features=\"xml\"` into the BeautifulSoup constructor.\n",
      "\n",
      "If you want or need to use an HTML parser on this document, you can make this warning go away by filtering it. To do that, run this code before calling the BeautifulSoup constructor:\n",
      "\n",
      "    from bs4 import XMLParsedAsHTMLWarning\n",
      "    import warnings\n",
      "\n",
      "    warnings.filterwarnings(\"ignore\", category=XMLParsedAsHTMLWarning)\n",
      "\n",
      "  soup = BeautifulSoup(req.content, 'lxml')\n",
      "2025-08-17 21:25:27,514 - INFO - pubmed2pdf.cli - Trying to fetch pmid None\n",
      "2025-08-17 21:25:28,381 - INFO - pubmed2pdf.cli - Trying to fetch pmid 22728672\n",
      "2025-08-17 21:25:29,124 - INFO - pubmed2pdf.cli - Trying to fetch pmid 21565265\n",
      "2025-08-17 21:25:30,469 - INFO - pubmed2pdf.cli - Trying to fetch pmid 30406445\n",
      "2025-08-17 21:25:32,950 - INFO - pubmed2pdf.cli - Trying to fetch pmid 15280409\n",
      "2025-08-17 21:25:36,505 - INFO - pubmed2pdf.cli - Trying to fetch pmid 26215093\n",
      "2025-08-17 21:25:36,506 - INFO - pubmed2pdf.cli - Trying to fetch pmid 31584097\n",
      "2025-08-17 21:25:37,234 - INFO - pubmed2pdf.cli - Trying to fetch pmid 19451168\n",
      "2025-08-17 21:25:37,960 - INFO - pubmed2pdf.cli - Trying to fetch pmid 19508998\n",
      "2025-08-17 21:25:38,716 - INFO - pubmed2pdf.cli - Trying to fetch pmid 22726442\n",
      "2025-08-17 21:25:41,068 - INFO - pubmed2pdf.cli - Trying to fetch pmid 31440958\n",
      "2025-08-17 21:25:43,611 - INFO - pubmed2pdf.cli - Trying to fetch pmid 29251670\n",
      "2025-08-17 21:25:44,558 - INFO - pubmed2pdf.cli - Trying to fetch pmid 30357004\n",
      "2025-08-17 21:25:44,558 - INFO - pubmed2pdf.cli - Trying to fetch pmid 19546856\n",
      "2025-08-17 21:25:46,779 - INFO - pubmed2pdf.cli - Trying to fetch pmid 30357029\n",
      "2025-08-17 21:25:46,779 - INFO - pubmed2pdf.cli - Trying to fetch pmid None\n",
      "2025-08-17 21:25:47,623 - INFO - pubmed2pdf.cli - Trying to fetch pmid 28938739\n",
      "2025-08-17 21:25:48,339 - INFO - pubmed2pdf.cli - Trying to fetch pmid 20890277\n",
      "2025-08-17 21:25:51,778 - INFO - pubmed2pdf.cli - Trying to fetch pmid 30972108\n",
      "2025-08-17 21:25:51,778 - INFO - pubmed2pdf.cli - Trying to fetch pmid 29706485\n",
      "2025-08-17 21:25:53,015 - INFO - pubmed2pdf.cli - Trying to fetch pmid 22256780\n",
      "2025-08-17 21:25:53,787 - INFO - pubmed2pdf.cli - Trying to fetch pmid 26911863\n",
      "2025-08-17 21:25:54,500 - INFO - pubmed2pdf.cli - Trying to fetch pmid 29704323\n",
      "2025-08-17 21:25:55,481 - INFO - pubmed2pdf.cli - Trying to fetch pmid 30224786\n",
      "2025-08-17 21:25:56,824 - INFO - pubmed2pdf.cli - Trying to fetch pmid None\n",
      "2025-08-17 21:25:57,689 - INFO - pubmed2pdf.cli - Trying to fetch pmid 28505269\n",
      "2025-08-17 21:25:58,408 - INFO - pubmed2pdf.cli - Trying to fetch pmid 11089562\n",
      "2025-08-17 21:25:59,135 - INFO - pubmed2pdf.cli - Trying to fetch pmid 31787151\n",
      "2025-08-17 21:26:00,524 - INFO - pubmed2pdf.cli - Trying to fetch pmid 28971280\n",
      "2025-08-17 21:26:03,758 - INFO - pubmed2pdf.cli - Trying to fetch pmid 26113766\n",
      "2025-08-17 21:26:04,462 - INFO - pubmed2pdf.cli - Trying to fetch pmid 30734403\n",
      "2025-08-17 21:26:05,344 - INFO - pubmed2pdf.cli - Trying to fetch pmid 30078697\n",
      "2025-08-17 21:26:06,645 - INFO - pubmed2pdf.cli - Trying to fetch pmid 28388912\n",
      "2025-08-17 21:26:06,645 - INFO - pubmed2pdf.cli - Trying to fetch pmid 22546560\n",
      "2025-08-17 21:26:08,515 - INFO - pubmed2pdf.cli - Trying to fetch pmid 23407710\n",
      "2025-08-17 21:26:09,372 - INFO - pubmed2pdf.cli - Trying to fetch pmid 30603774\n",
      "2025-08-17 21:26:11,690 - INFO - pubmed2pdf.cli - Trying to fetch pmid None\n",
      "2025-08-17 21:26:12,504 - INFO - pubmed2pdf.cli - Trying to fetch pmid 29259429\n",
      "2025-08-17 21:26:13,736 - INFO - pubmed2pdf.cli - Trying to fetch pmid 12091911\n",
      "2025-08-17 21:26:15,986 - INFO - pubmed2pdf.cli - Trying to fetch pmid 17554680\n",
      "2025-08-17 21:26:15,986 - INFO - pubmed2pdf.cli - Trying to fetch pmid 11912187\n",
      "2025-08-17 21:26:16,665 - INFO - pubmed2pdf.cli - Trying to fetch pmid 29019003\n",
      "2025-08-17 21:26:22,220 - INFO - pubmed2pdf.cli - Trying to fetch pmid 26432246\n",
      "2025-08-17 21:26:22,220 - INFO - pubmed2pdf.cli - Trying to fetch pmid 21900680\n",
      "2025-08-17 21:26:22,910 - INFO - pubmed2pdf.cli - Trying to fetch pmid 23505417\n",
      "2025-08-17 21:26:22,910 - INFO - pubmed2pdf.cli - Trying to fetch pmid 26432245\n",
      "2025-08-17 21:26:22,910 - INFO - pubmed2pdf.cli - Trying to fetch pmid 30395331\n",
      "2025-08-17 21:26:23,584 - INFO - pubmed2pdf.cli - Trying to fetch pmid 29100496\n"
     ]
    },
    {
     "name": "stdout",
     "output_type": "stream",
     "text": [
      "Done downloading. All downloaded can be found in ToDataBase/Henarejos-Castillo2021\n",
      "Turn PDFs into JSON--------------------\n",
      "\n"
     ]
    },
    {
     "name": "stderr",
     "output_type": "stream",
     "text": [
      "100%|██████████| 20/20 [09:05<00:00, 27.29s/it]\n"
     ]
    },
    {
     "name": "stdout",
     "output_type": "stream",
     "text": [
      "Getting xml from PMC--------------------\n",
      "\n",
      "Turn XML into JSON--------------------\n",
      "\n"
     ]
    },
    {
     "name": "stderr",
     "output_type": "stream",
     "text": [
      "100%|██████████| 62/62 [20:21<00:00, 19.71s/it]\n"
     ]
    },
    {
     "name": "stdout",
     "output_type": "stream",
     "text": [
      "We process the article: Henarejos-Castillo2022\n",
      "Getting PDFs-----------------------------\n",
      "\n"
     ]
    },
    {
     "name": "stderr",
     "output_type": "stream",
     "text": [
      "2025-08-17 21:56:26,230 - INFO - pubmed2pdf.cli - Trying to fetch pmid 18586725\n",
      "2025-08-17 21:56:26,911 - INFO - pubmed2pdf.cli - Trying to fetch pmid 19628854\n",
      "2025-08-17 21:56:27,900 - INFO - pubmed2pdf.cli - Trying to fetch pmid 30817321\n",
      "2025-08-17 21:56:28,605 - INFO - pubmed2pdf.cli - Trying to fetch pmid 17960529\n",
      "2025-08-17 21:56:32,202 - INFO - pubmed2pdf.cli - Trying to fetch pmid 31885807\n",
      "2025-08-17 21:56:33,032 - INFO - pubmed2pdf.cli - Trying to fetch pmid 32898168\n",
      "2025-08-17 21:56:36,176 - INFO - pubmed2pdf.cli - Trying to fetch pmid 32918567\n",
      "2025-08-17 21:56:38,758 - INFO - pubmed2pdf.cli - Trying to fetch pmid 22287627\n",
      "2025-08-17 21:56:39,504 - INFO - pubmed2pdf.cli - Trying to fetch pmid 32552854\n",
      "2025-08-17 21:56:40,864 - INFO - pubmed2pdf.cli - Trying to fetch pmid 30612956\n",
      "2025-08-17 21:56:43,235 - INFO - pubmed2pdf.cli - Trying to fetch pmid 29259471\n",
      "2025-08-17 21:56:44,503 - INFO - pubmed2pdf.cli - Trying to fetch pmid 33568179\n",
      "2025-08-17 21:56:47,152 - INFO - pubmed2pdf.cli - Trying to fetch pmid 32164226\n",
      "2025-08-17 21:56:48,918 - INFO - pubmed2pdf.cli - Trying to fetch pmid 32749712\n",
      "2025-08-17 21:56:49,745 - INFO - pubmed2pdf.cli - Trying to fetch pmid 33307546\n",
      "2025-08-17 21:56:52,351 - INFO - pubmed2pdf.cli - Trying to fetch pmid 15297299\n",
      "2025-08-17 21:56:53,017 - INFO - pubmed2pdf.cli - Trying to fetch pmid 17447836\n",
      "2025-08-17 21:56:54,965 - INFO - pubmed2pdf.cli - Trying to fetch pmid 24485249\n",
      "2025-08-17 21:56:56,426 - INFO - pubmed2pdf.cli - Trying to fetch pmid 30344300\n",
      "2025-08-17 21:56:57,155 - INFO - pubmed2pdf.cli - Trying to fetch pmid 32883349\n",
      "2025-08-17 21:56:58,483 - INFO - pubmed2pdf.cli - Trying to fetch pmid 24368037\n",
      "2025-08-17 21:57:00,059 - INFO - pubmed2pdf.cli - Trying to fetch pmid 22455463\n",
      "2025-08-17 21:57:00,784 - INFO - pubmed2pdf.cli - Trying to fetch pmid 33077917\n",
      "2025-08-17 21:57:03,244 - INFO - pubmed2pdf.cli - Trying to fetch pmid 32468072\n",
      "2025-08-17 21:57:05,357 - INFO - pubmed2pdf.cli - Trying to fetch pmid 17360645\n",
      "2025-08-17 21:57:06,082 - INFO - pubmed2pdf.cli - Trying to fetch pmid 24959817\n",
      "2025-08-17 21:57:08,464 - INFO - pubmed2pdf.cli - Trying to fetch pmid 24837612\n",
      "2025-08-17 21:57:09,897 - INFO - pubmed2pdf.cli - Trying to fetch pmid 31861484\n",
      "2025-08-17 21:57:10,698 - INFO - pubmed2pdf.cli - Trying to fetch pmid 21164525\n",
      "2025-08-17 21:57:13,947 - INFO - pubmed2pdf.cli - Trying to fetch pmid 29264977\n",
      "2025-08-17 21:57:14,650 - INFO - pubmed2pdf.cli - Trying to fetch pmid 31738970\n",
      "2025-08-17 21:57:15,984 - INFO - pubmed2pdf.cli - Trying to fetch pmid 24600449\n",
      "2025-08-17 21:57:18,752 - INFO - pubmed2pdf.cli - Trying to fetch pmid 32684080\n",
      "2025-08-17 21:57:19,493 - INFO - pubmed2pdf.cli - Trying to fetch pmid 28770908\n",
      "2025-08-17 21:57:21,337 - INFO - pubmed2pdf.cli - Trying to fetch pmid 24285824\n",
      "2025-08-17 21:57:23,836 - INFO - pubmed2pdf.cli - Trying to fetch pmid 30929717\n",
      "2025-08-17 21:57:25,195 - INFO - pubmed2pdf.cli - Trying to fetch pmid 24762139\n",
      "2025-08-17 21:57:25,880 - INFO - pubmed2pdf.cli - Trying to fetch pmid 33975619\n",
      "2025-08-17 21:57:27,262 - INFO - pubmed2pdf.cli - Trying to fetch pmid 32251791\n",
      "2025-08-17 21:57:28,653 - INFO - pubmed2pdf.cli - Trying to fetch pmid 19954523\n",
      "2025-08-17 21:57:30,108 - INFO - pubmed2pdf.cli - Trying to fetch pmid 18765015\n",
      "2025-08-17 21:57:31,281 - INFO - pubmed2pdf.cli - Trying to fetch pmid 32466458\n",
      "2025-08-17 21:57:31,957 - INFO - pubmed2pdf.cli - Trying to fetch pmid 21540246\n",
      "2025-08-17 21:57:32,630 - INFO - pubmed2pdf.cli - Trying to fetch pmid 28901407\n",
      "2025-08-17 21:57:34,801 - INFO - pubmed2pdf.cli - Trying to fetch pmid 29324807\n",
      "2025-08-17 21:57:37,729 - INFO - pubmed2pdf.cli - Trying to fetch pmid 32791974\n",
      "2025-08-17 21:57:39,202 - INFO - pubmed2pdf.cli - Trying to fetch pmid 14644817\n",
      "2025-08-17 21:57:39,954 - INFO - pubmed2pdf.cli - Trying to fetch pmid 32401299\n",
      "2025-08-17 21:57:40,677 - INFO - pubmed2pdf.cli - Trying to fetch pmid 32680910\n",
      "2025-08-17 21:57:41,727 - INFO - pubmed2pdf.cli - Trying to fetch pmid 28378640\n",
      "2025-08-17 21:57:42,554 - INFO - pubmed2pdf.cli - Trying to fetch pmid 27830058\n",
      "2025-08-17 21:57:44,524 - INFO - pubmed2pdf.cli - Trying to fetch pmid 32514174\n",
      "2025-08-17 21:57:47,448 - INFO - pubmed2pdf.cli - Trying to fetch pmid 12810542\n",
      "2025-08-17 21:57:48,439 - INFO - pubmed2pdf.cli - Trying to fetch pmid 33298930\n",
      "2025-08-17 21:57:52,311 - INFO - pubmed2pdf.cli - Trying to fetch pmid 32608159\n",
      "2025-08-17 21:57:53,741 - INFO - pubmed2pdf.cli - Trying to fetch pmid 30509602\n",
      "2025-08-17 21:57:55,135 - INFO - pubmed2pdf.cli - Trying to fetch pmid 32443177\n",
      "2025-08-17 21:57:56,166 - INFO - pubmed2pdf.cli - Trying to fetch pmid 32299776\n",
      "2025-08-17 21:57:57,504 - INFO - pubmed2pdf.cli - Trying to fetch pmid 29671401\n",
      "2025-08-17 21:57:58,961 - INFO - pubmed2pdf.cli - Trying to fetch pmid 32818434\n",
      "2025-08-17 21:58:00,290 - INFO - pubmed2pdf.cli - Trying to fetch pmid 27840831\n",
      "2025-08-17 21:58:00,975 - INFO - pubmed2pdf.cli - Trying to fetch pmid 34688597\n",
      "2025-08-17 21:58:02,260 - INFO - pubmed2pdf.cli - Trying to fetch pmid 27428722\n",
      "2025-08-17 21:58:02,981 - INFO - pubmed2pdf.cli - Trying to fetch pmid 31953174\n",
      "2025-08-17 21:58:04,342 - INFO - pubmed2pdf.cli - Trying to fetch pmid 32872526\n",
      "2025-08-17 21:58:06,086 - INFO - pubmed2pdf.cli - Trying to fetch pmid 32274342\n",
      "2025-08-17 21:58:10,222 - INFO - pubmed2pdf.cli - Trying to fetch pmid 32404170\n",
      "2025-08-17 21:58:11,754 - INFO - pubmed2pdf.cli - Trying to fetch pmid 25521941\n",
      "2025-08-17 21:58:13,422 - INFO - pubmed2pdf.cli - Trying to fetch pmid 24959814\n",
      "2025-08-17 21:58:15,471 - INFO - pubmed2pdf.cli - Trying to fetch pmid 26446766\n",
      "2025-08-17 21:58:17,459 - INFO - pubmed2pdf.cli - Trying to fetch pmid 24320616\n",
      "2025-08-17 21:58:18,251 - INFO - pubmed2pdf.cli - Trying to fetch pmid 24947308\n",
      "2025-08-17 21:58:19,683 - INFO - pubmed2pdf.cli - Trying to fetch pmid 34867824\n",
      "2025-08-17 21:58:23,038 - INFO - pubmed2pdf.cli - Trying to fetch pmid 30833554\n",
      "2025-08-17 21:58:25,116 - INFO - pubmed2pdf.cli - Trying to fetch pmid 24412827\n",
      "2025-08-17 21:58:25,822 - INFO - pubmed2pdf.cli - Trying to fetch pmid 33258995\n",
      "2025-08-17 21:58:28,130 - INFO - pubmed2pdf.cli - Trying to fetch pmid 22192140\n",
      "2025-08-17 21:58:29,485 - INFO - pubmed2pdf.cli - Trying to fetch pmid 32921216\n",
      "2025-08-17 21:58:30,164 - INFO - pubmed2pdf.cli - Trying to fetch pmid 17462640\n"
     ]
    },
    {
     "name": "stdout",
     "output_type": "stream",
     "text": [
      "Done downloading. All downloaded can be found in ToDataBase/Henarejos-Castillo2022\n",
      "Turn PDFs into JSON--------------------\n",
      "\n"
     ]
    },
    {
     "name": "stderr",
     "output_type": "stream",
     "text": [
      "100%|██████████| 26/26 [12:39<00:00, 29.21s/it]\n"
     ]
    },
    {
     "name": "stdout",
     "output_type": "stream",
     "text": [
      "Getting xml from PMC--------------------\n",
      "\n",
      "Turn XML into JSON--------------------\n",
      "\n"
     ]
    },
    {
     "name": "stderr",
     "output_type": "stream",
     "text": [
      "100%|██████████| 53/53 [18:13<00:00, 20.63s/it]\n"
     ]
    },
    {
     "name": "stdout",
     "output_type": "stream",
     "text": [
      "We process the article: Diaz-Gimeno2024\n",
      "Getting PDFs-----------------------------\n",
      "\n"
     ]
    },
    {
     "name": "stderr",
     "output_type": "stream",
     "text": [
      "2025-08-17 22:29:39,976 - INFO - pubmed2pdf.cli - Trying to fetch pmid 33880419\n",
      "2025-08-17 22:29:41,121 - INFO - pubmed2pdf.cli - Trying to fetch pmid 36822566\n",
      "2025-08-17 22:29:42,415 - INFO - pubmed2pdf.cli - Trying to fetch pmid 18546601\n",
      "2025-08-17 22:29:44,658 - INFO - pubmed2pdf.cli - Trying to fetch pmid 36472596\n",
      "2025-08-17 22:29:45,352 - INFO - pubmed2pdf.cli - Trying to fetch pmid 28370781\n",
      "2025-08-17 22:29:46,334 - INFO - pubmed2pdf.cli - Trying to fetch pmid 35929523\n",
      "2025-08-17 22:29:47,132 - INFO - pubmed2pdf.cli - Trying to fetch pmid 33036008\n",
      "2025-08-17 22:29:48,727 - INFO - pubmed2pdf.cli - Trying to fetch pmid 26109056\n",
      "2025-08-17 22:29:50,228 - INFO - pubmed2pdf.cli - Trying to fetch pmid 32723696\n",
      "2025-08-17 22:29:51,467 - INFO - pubmed2pdf.cli - Trying to fetch pmid 24581625\n",
      "2025-08-17 22:29:52,774 - INFO - pubmed2pdf.cli - Trying to fetch pmid 29737471\n",
      "2025-08-17 22:29:55,961 - INFO - pubmed2pdf.cli - Trying to fetch pmid None\n",
      "2025-08-17 22:29:56,712 - INFO - pubmed2pdf.cli - Trying to fetch pmid 17160063\n",
      "2025-08-17 22:29:58,877 - INFO - pubmed2pdf.cli - Trying to fetch pmid 27441287\n",
      "2025-08-17 22:30:00,183 - INFO - pubmed2pdf.cli - Trying to fetch pmid 30713991\n",
      "2025-08-17 22:30:01,413 - INFO - pubmed2pdf.cli - Trying to fetch pmid 33880420\n",
      "2025-08-17 22:30:02,608 - INFO - pubmed2pdf.cli - Trying to fetch pmid 33067123\n",
      "2025-08-17 22:30:03,850 - INFO - pubmed2pdf.cli - Trying to fetch pmid 11823860\n",
      "2025-08-17 22:30:06,312 - INFO - pubmed2pdf.cli - Trying to fetch pmid 12421895\n",
      "2025-08-17 22:30:07,540 - INFO - pubmed2pdf.cli - Trying to fetch pmid 33313697\n",
      "2025-08-17 22:30:08,618 - INFO - pubmed2pdf.cli - Trying to fetch pmid 28923940\n",
      "2025-08-17 22:30:09,584 - INFO - pubmed2pdf.cli - Trying to fetch pmid 31540845\n",
      "2025-08-17 22:30:10,990 - INFO - pubmed2pdf.cli - Trying to fetch pmid 32974805\n",
      "2025-08-17 22:30:13,380 - INFO - pubmed2pdf.cli - Trying to fetch pmid 30452456\n",
      "2025-08-17 22:30:15,900 - INFO - pubmed2pdf.cli - Trying to fetch pmid 24581986\n",
      "2025-08-17 22:30:17,093 - INFO - pubmed2pdf.cli - Trying to fetch pmid 29315421\n",
      "2025-08-17 22:30:17,797 - INFO - pubmed2pdf.cli - Trying to fetch pmid None\n",
      "2025-08-17 22:30:18,610 - INFO - pubmed2pdf.cli - Trying to fetch pmid None\n",
      "2025-08-17 22:30:19,353 - INFO - pubmed2pdf.cli - Trying to fetch pmid 34947871\n",
      "2025-08-17 22:30:20,118 - INFO - pubmed2pdf.cli - Trying to fetch pmid 10221616\n",
      "2025-08-17 22:30:21,564 - INFO - pubmed2pdf.cli - Trying to fetch pmid 35092277\n",
      "2025-08-17 22:30:22,281 - INFO - pubmed2pdf.cli - Trying to fetch pmid 30145981\n",
      "2025-08-17 22:30:23,855 - INFO - pubmed2pdf.cli - Trying to fetch pmid 12490681\n",
      "2025-08-17 22:30:24,576 - INFO - pubmed2pdf.cli - Trying to fetch pmid 36070983\n",
      "2025-08-17 22:30:25,916 - INFO - pubmed2pdf.cli - Trying to fetch pmid 15353123\n"
     ]
    },
    {
     "name": "stdout",
     "output_type": "stream",
     "text": [
      "Done downloading. All downloaded can be found in ToDataBase/Diaz-Gimeno2024\n",
      "Turn PDFs into JSON--------------------\n",
      "\n"
     ]
    },
    {
     "name": "stderr",
     "output_type": "stream",
     "text": [
      "100%|██████████| 3/3 [02:09<00:00, 43.30s/it]\n"
     ]
    },
    {
     "name": "stdout",
     "output_type": "stream",
     "text": [
      "Getting xml from PMC--------------------\n",
      "\n",
      "Turn XML into JSON--------------------\n",
      "\n"
     ]
    },
    {
     "name": "stderr",
     "output_type": "stream",
     "text": [
      "100%|██████████| 32/32 [08:47<00:00, 16.49s/it]\n"
     ]
    },
    {
     "name": "stdout",
     "output_type": "stream",
     "text": [
      "We process the article: Devesa-Peiro2021\n",
      "Getting PDFs-----------------------------\n",
      "\n"
     ]
    },
    {
     "name": "stderr",
     "output_type": "stream",
     "text": [
      "2025-08-17 22:41:40,580 - INFO - pubmed2pdf.cli - Trying to fetch pmid 16707507\n",
      "2025-08-17 22:41:42,320 - INFO - pubmed2pdf.cli - Trying to fetch pmid 27323161\n",
      "2025-08-17 22:41:43,472 - INFO - pubmed2pdf.cli - Trying to fetch pmid None\n",
      "2025-08-17 22:41:44,302 - INFO - pubmed2pdf.cli - Trying to fetch pmid 22819144\n",
      "2025-08-17 22:41:45,575 - INFO - pubmed2pdf.cli - Trying to fetch pmid 26856931\n",
      "2025-08-17 22:41:46,857 - INFO - pubmed2pdf.cli - Trying to fetch pmid 29576469\n",
      "2025-08-17 22:41:48,184 - INFO - pubmed2pdf.cli - Trying to fetch pmid 26366788\n",
      "2025-08-17 22:41:49,534 - INFO - pubmed2pdf.cli - Trying to fetch pmid 30588329\n",
      "2025-08-17 22:41:52,025 - INFO - pubmed2pdf.cli - Trying to fetch pmid 27998009\n",
      "2025-08-17 22:41:52,740 - INFO - pubmed2pdf.cli - Trying to fetch pmid 19910308\n",
      "2025-08-17 22:41:53,436 - INFO - pubmed2pdf.cli - Trying to fetch pmid 30477193\n",
      "2025-08-17 22:41:54,306 - INFO - pubmed2pdf.cli - Trying to fetch pmid 25243856\n",
      "2025-08-17 22:41:55,031 - INFO - pubmed2pdf.cli - Trying to fetch pmid 16632515\n",
      "2025-08-17 22:41:55,753 - INFO - pubmed2pdf.cli - Trying to fetch pmid 30161168\n",
      "2025-08-17 22:41:58,476 - INFO - pubmed2pdf.cli - Trying to fetch pmid 30798642\n",
      "2025-08-17 22:42:00,235 - INFO - pubmed2pdf.cli - Trying to fetch pmid 16820110\n",
      "2025-08-17 22:42:01,461 - INFO - pubmed2pdf.cli - Trying to fetch pmid 31387263\n",
      "2025-08-17 22:42:02,122 - INFO - pubmed2pdf.cli - Trying to fetch pmid 16725353\n",
      "2025-08-17 22:42:03,261 - INFO - pubmed2pdf.cli - Trying to fetch pmid 19527389\n",
      "2025-08-17 22:42:04,087 - INFO - pubmed2pdf.cli - Trying to fetch pmid 31339848\n",
      "2025-08-17 22:42:06,050 - INFO - pubmed2pdf.cli - Trying to fetch pmid 21436257\n",
      "2025-08-17 22:42:07,759 - INFO - pubmed2pdf.cli - Trying to fetch pmid 9130884\n",
      "2025-08-17 22:42:08,981 - INFO - pubmed2pdf.cli - Trying to fetch pmid 19864262\n",
      "2025-08-17 22:42:09,645 - INFO - pubmed2pdf.cli - Trying to fetch pmid 18765014\n",
      "2025-08-17 22:42:10,931 - INFO - pubmed2pdf.cli - Trying to fetch pmid 20391347\n",
      "2025-08-17 22:42:11,956 - INFO - pubmed2pdf.cli - Trying to fetch pmid 27640610\n",
      "2025-08-17 22:42:14,114 - INFO - pubmed2pdf.cli - Trying to fetch pmid 29608177\n",
      "2025-08-17 22:42:16,436 - INFO - pubmed2pdf.cli - Trying to fetch pmid 12751776\n",
      "2025-08-17 22:42:17,135 - INFO - pubmed2pdf.cli - Trying to fetch pmid 31004479\n",
      "2025-08-17 22:42:17,855 - INFO - pubmed2pdf.cli - Trying to fetch pmid 31948481\n"
     ]
    },
    {
     "name": "stdout",
     "output_type": "stream",
     "text": [
      "Done downloading. All downloaded can be found in ToDataBase/Devesa-Peiro2021\n",
      "Turn PDFs into JSON--------------------\n",
      "\n"
     ]
    },
    {
     "name": "stderr",
     "output_type": "stream",
     "text": [
      "100%|██████████| 4/4 [03:03<00:00, 45.83s/it]\n"
     ]
    },
    {
     "name": "stdout",
     "output_type": "stream",
     "text": [
      "Getting xml from PMC--------------------\n",
      "\n",
      "Turn XML into JSON--------------------\n",
      "\n"
     ]
    },
    {
     "name": "stderr",
     "output_type": "stream",
     "text": [
      "100%|██████████| 26/26 [05:43<00:00, 13.20s/it]\n"
     ]
    },
    {
     "name": "stdout",
     "output_type": "stream",
     "text": [
      "We process the article: Henarejos-Castillo2024\n",
      "Getting PDFs-----------------------------\n",
      "\n"
     ]
    },
    {
     "name": "stderr",
     "output_type": "stream",
     "text": [
      "2025-08-17 22:51:34,072 - INFO - pubmed2pdf.cli - Trying to fetch pmid 33025164\n",
      "2025-08-17 22:51:36,722 - INFO - pubmed2pdf.cli - Trying to fetch pmid 36055201\n",
      "2025-08-17 22:51:37,967 - INFO - pubmed2pdf.cli - Trying to fetch pmid 32943985\n",
      "2025-08-17 22:51:39,633 - INFO - pubmed2pdf.cli - Trying to fetch pmid 24995866\n",
      "2025-08-17 22:51:40,818 - INFO - pubmed2pdf.cli - Trying to fetch pmid 19810025\n",
      "2025-08-17 22:51:41,656 - INFO - pubmed2pdf.cli - Trying to fetch pmid 28574608\n",
      "2025-08-17 22:51:42,454 - INFO - pubmed2pdf.cli - Trying to fetch pmid 29566152\n",
      "2025-08-17 22:51:44,199 - INFO - pubmed2pdf.cli - Trying to fetch pmid 29425284\n",
      "2025-08-17 22:51:44,905 - INFO - pubmed2pdf.cli - Trying to fetch pmid 34597585\n",
      "2025-08-17 22:51:56,971 - INFO - pubmed2pdf.cli - Trying to fetch pmid 30207912\n",
      "2025-08-17 22:51:57,652 - INFO - pubmed2pdf.cli - Trying to fetch pmid 25326635\n",
      "2025-08-17 22:51:58,385 - INFO - pubmed2pdf.cli - Trying to fetch pmid 15769979\n",
      "2025-08-17 22:51:59,057 - INFO - pubmed2pdf.cli - Trying to fetch pmid 32139519\n",
      "2025-08-17 22:52:00,037 - INFO - pubmed2pdf.cli - Trying to fetch pmid 15355784\n",
      "2025-08-17 22:52:01,425 - INFO - pubmed2pdf.cli - Trying to fetch pmid 22441326\n",
      "2025-08-17 22:52:02,430 - INFO - pubmed2pdf.cli - Trying to fetch pmid 31605095\n",
      "2025-08-17 22:52:04,990 - INFO - pubmed2pdf.cli - Trying to fetch pmid 31096927\n",
      "2025-08-17 22:52:06,693 - INFO - pubmed2pdf.cli - Trying to fetch pmid 34373449\n",
      "2025-08-17 22:52:09,230 - INFO - pubmed2pdf.cli - Trying to fetch pmid 32099950\n",
      "2025-08-17 22:52:10,418 - INFO - pubmed2pdf.cli - Trying to fetch pmid 39185493\n",
      "2025-08-17 22:52:11,580 - INFO - pubmed2pdf.cli - Trying to fetch pmid 27341508\n",
      "2025-08-17 22:52:14,470 - INFO - pubmed2pdf.cli - Trying to fetch pmid 25344409\n",
      "2025-08-17 22:52:16,440 - INFO - pubmed2pdf.cli - Trying to fetch pmid 20453035\n",
      "2025-08-17 22:52:17,147 - INFO - pubmed2pdf.cli - Trying to fetch pmid 29367954\n",
      "2025-08-17 22:52:18,286 - INFO - pubmed2pdf.cli - Trying to fetch pmid 38310280\n",
      "2025-08-17 22:52:20,157 - INFO - pubmed2pdf.cli - Trying to fetch pmid 30371827\n",
      "2025-08-17 22:52:21,187 - INFO - pubmed2pdf.cli - Trying to fetch pmid 35311454\n",
      "2025-08-17 22:52:21,892 - INFO - pubmed2pdf.cli - Trying to fetch pmid 33411734\n",
      "2025-08-17 22:52:24,669 - INFO - pubmed2pdf.cli - Trying to fetch pmid 24597867\n",
      "2025-08-17 22:52:25,363 - INFO - pubmed2pdf.cli - Trying to fetch pmid 32657361\n",
      "2025-08-17 22:52:26,065 - INFO - pubmed2pdf.cli - Trying to fetch pmid 27153000\n",
      "2025-08-17 22:52:26,744 - INFO - pubmed2pdf.cli - Trying to fetch pmid 30742610\n",
      "2025-08-17 22:52:29,243 - INFO - pubmed2pdf.cli - Trying to fetch pmid 30423088\n",
      "2025-08-17 22:52:29,949 - INFO - pubmed2pdf.cli - Trying to fetch pmid 21297384\n",
      "2025-08-17 22:52:32,262 - INFO - pubmed2pdf.cli - Trying to fetch pmid 28550012\n",
      "2025-08-17 22:52:34,505 - INFO - pubmed2pdf.cli - Trying to fetch pmid 34480478\n",
      "2025-08-17 22:52:35,191 - INFO - pubmed2pdf.cli - Trying to fetch pmid 28535294\n",
      "2025-08-17 22:52:35,852 - INFO - pubmed2pdf.cli - Trying to fetch pmid 29318599\n",
      "2025-08-17 22:52:36,616 - INFO - pubmed2pdf.cli - Trying to fetch pmid 34408140\n",
      "2025-08-17 22:52:39,146 - INFO - pubmed2pdf.cli - Trying to fetch pmid None\n",
      "2025-08-17 22:52:39,917 - INFO - pubmed2pdf.cli - Trying to fetch pmid 27899662\n",
      "2025-08-17 22:52:40,566 - INFO - pubmed2pdf.cli - Trying to fetch pmid 18691683\n",
      "2025-08-17 22:52:51,692 - INFO - pubmed2pdf.cli - Trying to fetch pmid 33558758\n",
      "2025-08-17 22:52:54,161 - INFO - pubmed2pdf.cli - Trying to fetch pmid 25738998\n",
      "2025-08-17 22:52:55,778 - INFO - pubmed2pdf.cli - Trying to fetch pmid 29231814\n",
      "2025-08-17 22:52:57,009 - INFO - pubmed2pdf.cli - Trying to fetch pmid 20823910\n",
      "2025-08-17 22:52:59,167 - INFO - pubmed2pdf.cli - Trying to fetch pmid 33751459\n",
      "2025-08-17 22:53:02,529 - INFO - pubmed2pdf.cli - Trying to fetch pmid 31484976\n",
      "2025-08-17 22:53:04,924 - INFO - pubmed2pdf.cli - Trying to fetch pmid 35388217\n",
      "2025-08-17 22:53:07,453 - INFO - pubmed2pdf.cli - Trying to fetch pmid 30952665\n",
      "2025-08-17 22:53:08,198 - INFO - pubmed2pdf.cli - Trying to fetch pmid 19461434\n",
      "2025-08-17 22:53:09,002 - INFO - pubmed2pdf.cli - Trying to fetch pmid 30964354\n",
      "2025-08-17 22:53:09,702 - INFO - pubmed2pdf.cli - Trying to fetch pmid 22197887\n",
      "2025-08-17 22:53:11,056 - INFO - pubmed2pdf.cli - Trying to fetch pmid 26935102\n",
      "2025-08-17 22:53:12,475 - INFO - pubmed2pdf.cli - Trying to fetch pmid 29290392\n",
      "2025-08-17 22:53:13,819 - INFO - pubmed2pdf.cli - Trying to fetch pmid 36732629\n",
      "2025-08-17 22:53:17,554 - INFO - pubmed2pdf.cli - Trying to fetch pmid 33613687\n",
      "2025-08-17 22:53:18,258 - INFO - pubmed2pdf.cli - Trying to fetch pmid 28253086\n"
     ]
    },
    {
     "name": "stdout",
     "output_type": "stream",
     "text": [
      "Done downloading. All downloaded can be found in ToDataBase/Henarejos-Castillo2024\n",
      "Turn PDFs into JSON--------------------\n",
      "\n"
     ]
    },
    {
     "name": "stderr",
     "output_type": "stream",
     "text": [
      "100%|██████████| 13/13 [08:26<00:00, 38.93s/it]\n"
     ]
    },
    {
     "name": "stdout",
     "output_type": "stream",
     "text": [
      "Getting xml from PMC--------------------\n",
      "\n",
      "Turn XML into JSON--------------------\n",
      "\n"
     ]
    },
    {
     "name": "stderr",
     "output_type": "stream",
     "text": [
      "100%|██████████| 45/45 [18:56<00:00, 25.26s/it]\n"
     ]
    },
    {
     "name": "stdout",
     "output_type": "stream",
     "text": [
      "We process the article: Sanchez-Reyes2025\n",
      "Getting PDFs-----------------------------\n",
      "\n"
     ]
    },
    {
     "name": "stderr",
     "output_type": "stream",
     "text": [
      "2025-08-17 23:20:48,511 - INFO - pubmed2pdf.cli - Trying to fetch pmid 35085989\n",
      "2025-08-17 23:20:49,870 - INFO - pubmed2pdf.cli - Trying to fetch pmid 28627518\n",
      "2025-08-17 23:20:52,818 - INFO - pubmed2pdf.cli - Trying to fetch pmid 33489905\n",
      "2025-08-17 23:20:55,638 - INFO - pubmed2pdf.cli - Trying to fetch pmid 38906211\n",
      "2025-08-17 23:20:57,151 - INFO - pubmed2pdf.cli - Trying to fetch pmid 35409214\n",
      "2025-08-17 23:20:57,830 - INFO - pubmed2pdf.cli - Trying to fetch pmid 2903323\n",
      "2025-08-17 23:21:00,118 - INFO - pubmed2pdf.cli - Trying to fetch pmid 32992208\n",
      "2025-08-17 23:21:01,469 - INFO - pubmed2pdf.cli - Trying to fetch pmid 24227677\n",
      "2025-08-17 23:21:02,182 - INFO - pubmed2pdf.cli - Trying to fetch pmid 37355665\n",
      "2025-08-17 23:21:03,827 - INFO - pubmed2pdf.cli - Trying to fetch pmid 23104886\n",
      "2025-08-17 23:21:04,500 - INFO - pubmed2pdf.cli - Trying to fetch pmid 31467207\n",
      "2025-08-17 23:21:05,484 - INFO - pubmed2pdf.cli - Trying to fetch pmid 12215322\n",
      "2025-08-17 23:21:06,756 - INFO - pubmed2pdf.cli - Trying to fetch pmid 36482358\n",
      "2025-08-17 23:21:08,300 - INFO - pubmed2pdf.cli - Trying to fetch pmid 31932747\n"
     ]
    },
    {
     "name": "stdout",
     "output_type": "stream",
     "text": [
      "Done downloading. All downloaded can be found in ToDataBase/Sanchez-Reyes2025\n",
      "Turn PDFs into JSON--------------------\n",
      "\n"
     ]
    },
    {
     "name": "stderr",
     "output_type": "stream",
     "text": [
      "100%|██████████| 3/3 [01:41<00:00, 33.81s/it]\n"
     ]
    },
    {
     "name": "stdout",
     "output_type": "stream",
     "text": [
      "Getting xml from PMC--------------------\n",
      "\n",
      "Turn XML into JSON--------------------\n",
      "\n"
     ]
    },
    {
     "name": "stderr",
     "output_type": "stream",
     "text": [
      "100%|██████████| 11/11 [01:39<00:00,  9.03s/it]\n"
     ]
    },
    {
     "name": "stdout",
     "output_type": "stream",
     "text": [
      "We process the article: Marti-Garcia2024\n",
      "Getting PDFs-----------------------------\n",
      "\n"
     ]
    },
    {
     "name": "stderr",
     "output_type": "stream",
     "text": [
      "2025-08-17 23:24:47,325 - INFO - pubmed2pdf.cli - Trying to fetch pmid 29250769\n",
      "2025-08-17 23:24:48,023 - INFO - pubmed2pdf.cli - Trying to fetch pmid 35351010\n",
      "2025-08-17 23:24:49,415 - INFO - pubmed2pdf.cli - Trying to fetch pmid 1521649\n",
      "2025-08-17 23:24:50,722 - INFO - pubmed2pdf.cli - Trying to fetch pmid 1838082\n",
      "2025-08-17 23:24:52,045 - INFO - pubmed2pdf.cli - Trying to fetch pmid 15368600\n",
      "2025-08-17 23:24:53,835 - INFO - pubmed2pdf.cli - Trying to fetch pmid 21435901\n",
      "2025-08-17 23:24:55,210 - INFO - pubmed2pdf.cli - Trying to fetch pmid 31085094\n",
      "2025-08-17 23:24:56,452 - INFO - pubmed2pdf.cli - Trying to fetch pmid 19948745\n",
      "2025-08-17 23:24:57,169 - INFO - pubmed2pdf.cli - Trying to fetch pmid 25298042\n",
      "2025-08-17 23:24:59,493 - INFO - pubmed2pdf.cli - Trying to fetch pmid 30283331\n",
      "2025-08-17 23:25:03,714 - INFO - pubmed2pdf.cli - Trying to fetch pmid None\n",
      "2025-08-17 23:25:04,487 - INFO - pubmed2pdf.cli - Trying to fetch pmid 28854727\n",
      "2025-08-17 23:25:05,174 - INFO - pubmed2pdf.cli - Trying to fetch pmid 32544881\n",
      "2025-08-17 23:25:05,889 - INFO - pubmed2pdf.cli - Trying to fetch pmid 29414008\n",
      "2025-08-17 23:25:07,228 - INFO - pubmed2pdf.cli - Trying to fetch pmid None\n",
      "2025-08-17 23:25:09,016 - INFO - pubmed2pdf.cli - Trying to fetch pmid 29955789\n",
      "2025-08-17 23:25:09,707 - INFO - pubmed2pdf.cli - Trying to fetch pmid 16495411\n",
      "2025-08-17 23:25:10,446 - INFO - pubmed2pdf.cli - Trying to fetch pmid 12519859\n",
      "2025-08-17 23:25:11,149 - INFO - pubmed2pdf.cli - Trying to fetch pmid 35710597\n",
      "2025-08-17 23:25:12,476 - INFO - pubmed2pdf.cli - Trying to fetch pmid 16772154\n",
      "2025-08-17 23:25:13,883 - INFO - pubmed2pdf.cli - Trying to fetch pmid None\n",
      "2025-08-17 23:25:14,697 - INFO - pubmed2pdf.cli - Trying to fetch pmid 18487213\n",
      "2025-08-17 23:25:15,405 - INFO - pubmed2pdf.cli - Trying to fetch pmid 12743149\n",
      "2025-08-17 23:25:17,258 - INFO - pubmed2pdf.cli - Trying to fetch pmid 30360364\n",
      "2025-08-17 23:25:18,431 - INFO - pubmed2pdf.cli - Trying to fetch pmid 34120144\n",
      "2025-08-17 23:25:21,110 - INFO - pubmed2pdf.cli - Trying to fetch pmid 11020522\n",
      "2025-08-17 23:25:22,366 - INFO - pubmed2pdf.cli - Trying to fetch pmid 36681695\n",
      "2025-08-17 23:25:24,521 - INFO - pubmed2pdf.cli - Trying to fetch pmid 27981182\n",
      "2025-08-17 23:25:25,896 - INFO - pubmed2pdf.cli - Trying to fetch pmid 22246449\n",
      "2025-08-17 23:25:26,585 - INFO - pubmed2pdf.cli - Trying to fetch pmid 22969138\n",
      "2025-08-17 23:25:27,279 - INFO - pubmed2pdf.cli - Trying to fetch pmid 36849755\n",
      "2025-08-17 23:25:29,842 - INFO - pubmed2pdf.cli - Trying to fetch pmid 9786459\n",
      "2025-08-17 23:25:31,178 - INFO - pubmed2pdf.cli - Trying to fetch pmid 28760748\n"
     ]
    },
    {
     "name": "stdout",
     "output_type": "stream",
     "text": [
      "Done downloading. All downloaded can be found in ToDataBase/Marti-Garcia2024\n",
      "Turn PDFs into JSON--------------------\n",
      "\n"
     ]
    },
    {
     "name": "stderr",
     "output_type": "stream",
     "text": [
      "100%|██████████| 4/4 [02:04<00:00, 31.10s/it]\n"
     ]
    },
    {
     "name": "stdout",
     "output_type": "stream",
     "text": [
      "Getting xml from PMC--------------------\n",
      "\n",
      "Turn XML into JSON--------------------\n",
      "\n"
     ]
    },
    {
     "name": "stderr",
     "output_type": "stream",
     "text": [
      "100%|██████████| 29/29 [08:27<00:00, 17.50s/it]\n"
     ]
    },
    {
     "name": "stdout",
     "output_type": "stream",
     "text": [
      "We process the article: Marti-Garcia2024_review\n",
      "Getting PDFs-----------------------------\n",
      "\n"
     ]
    },
    {
     "name": "stderr",
     "output_type": "stream",
     "text": [
      "2025-08-17 23:37:02,776 - INFO - pubmed2pdf.cli - Trying to fetch pmid 33258951\n",
      "2025-08-17 23:37:03,484 - INFO - pubmed2pdf.cli - Trying to fetch pmid 23754297\n",
      "2025-08-17 23:37:04,182 - INFO - pubmed2pdf.cli - Trying to fetch pmid 9241295\n",
      "2025-08-17 23:37:05,045 - INFO - pubmed2pdf.cli - Trying to fetch pmid None\n",
      "2025-08-17 23:37:05,801 - INFO - pubmed2pdf.cli - Trying to fetch pmid 34061977\n",
      "2025-08-17 23:37:06,856 - INFO - pubmed2pdf.cli - Trying to fetch pmid 6053626\n",
      "2025-08-17 23:37:07,965 - INFO - pubmed2pdf.cli - Trying to fetch pmid 4347566\n",
      "2025-08-17 23:37:08,694 - INFO - pubmed2pdf.cli - Trying to fetch pmid 25785919\n",
      "2025-08-17 23:37:09,388 - INFO - pubmed2pdf.cli - Trying to fetch pmid 18454478\n",
      "2025-08-17 23:37:11,506 - INFO - pubmed2pdf.cli - Trying to fetch pmid 8801134\n",
      "2025-08-17 23:37:12,812 - INFO - pubmed2pdf.cli - Trying to fetch pmid 12641627\n",
      "2025-08-17 23:37:13,506 - INFO - pubmed2pdf.cli - Trying to fetch pmid 27178763\n",
      "2025-08-17 23:37:14,701 - INFO - pubmed2pdf.cli - Trying to fetch pmid 20664389\n",
      "2025-08-17 23:37:15,516 - INFO - pubmed2pdf.cli - Trying to fetch pmid 20129426\n",
      "2025-08-17 23:37:16,844 - INFO - pubmed2pdf.cli - Trying to fetch pmid 15568328\n",
      "2025-08-17 23:37:17,925 - INFO - pubmed2pdf.cli - Trying to fetch pmid 34295308\n",
      "2025-08-17 23:37:20,335 - INFO - pubmed2pdf.cli - Trying to fetch pmid 3755843\n",
      "2025-08-17 23:37:21,281 - INFO - pubmed2pdf.cli - Trying to fetch pmid 31077426\n",
      "2025-08-17 23:37:22,034 - INFO - pubmed2pdf.cli - Trying to fetch pmid 23663223\n",
      "2025-08-17 23:37:24,441 - INFO - pubmed2pdf.cli - Trying to fetch pmid 32532669\n",
      "2025-08-17 23:37:25,816 - INFO - pubmed2pdf.cli - Trying to fetch pmid 16054962\n",
      "2025-08-17 23:37:27,009 - INFO - pubmed2pdf.cli - Trying to fetch pmid 4877579\n",
      "2025-08-17 23:37:28,345 - INFO - pubmed2pdf.cli - Trying to fetch pmid 23327588\n",
      "2025-08-17 23:37:30,071 - INFO - pubmed2pdf.cli - Trying to fetch pmid 38401570\n",
      "2025-08-17 23:37:31,426 - INFO - pubmed2pdf.cli - Trying to fetch pmid 36599349\n",
      "2025-08-17 23:37:34,016 - INFO - pubmed2pdf.cli - Trying to fetch pmid 35222264\n",
      "2025-08-17 23:37:36,755 - INFO - pubmed2pdf.cli - Trying to fetch pmid 29683366\n",
      "2025-08-17 23:37:37,518 - INFO - pubmed2pdf.cli - Trying to fetch pmid 11211132\n",
      "2025-08-17 23:37:38,186 - INFO - pubmed2pdf.cli - Trying to fetch pmid 34234149\n",
      "2025-08-17 23:37:40,823 - INFO - pubmed2pdf.cli - Trying to fetch pmid 8499679\n",
      "2025-08-17 23:37:41,990 - INFO - pubmed2pdf.cli - Trying to fetch pmid 12213366\n",
      "2025-08-17 23:37:43,236 - INFO - pubmed2pdf.cli - Trying to fetch pmid 10575580\n",
      "2025-08-17 23:37:44,349 - INFO - pubmed2pdf.cli - Trying to fetch pmid 31895813\n",
      "2025-08-17 23:37:45,211 - INFO - pubmed2pdf.cli - Trying to fetch pmid 33782057\n",
      "2025-08-17 23:37:48,610 - INFO - pubmed2pdf.cli - Trying to fetch pmid 30834625\n",
      "2025-08-17 23:37:49,317 - INFO - pubmed2pdf.cli - Trying to fetch pmid 25779030\n",
      "2025-08-17 23:37:50,583 - INFO - pubmed2pdf.cli - Trying to fetch pmid 35773140\n",
      "2025-08-17 23:37:51,807 - INFO - pubmed2pdf.cli - Trying to fetch pmid 35295981\n",
      "2025-08-17 23:37:54,055 - INFO - pubmed2pdf.cli - Trying to fetch pmid 8752624\n",
      "2025-08-17 23:37:55,379 - INFO - pubmed2pdf.cli - Trying to fetch pmid 34600855\n",
      "2025-08-17 23:37:57,578 - INFO - pubmed2pdf.cli - Trying to fetch pmid 36515535\n",
      "2025-08-17 23:37:58,242 - INFO - pubmed2pdf.cli - Trying to fetch pmid 6320581\n",
      "2025-08-17 23:37:58,958 - INFO - pubmed2pdf.cli - Trying to fetch pmid 35264839\n",
      "2025-08-17 23:37:59,976 - INFO - pubmed2pdf.cli - Trying to fetch pmid 33502634\n",
      "2025-08-17 23:38:03,250 - INFO - pubmed2pdf.cli - Trying to fetch pmid 3137101\n",
      "2025-08-17 23:38:04,532 - INFO - pubmed2pdf.cli - Trying to fetch pmid 37852992\n",
      "2025-08-17 23:38:06,943 - INFO - pubmed2pdf.cli - Trying to fetch pmid 8690114\n",
      "2025-08-17 23:38:08,293 - INFO - pubmed2pdf.cli - Trying to fetch pmid 9853881\n",
      "2025-08-17 23:38:08,988 - INFO - pubmed2pdf.cli - Trying to fetch pmid 27295032\n",
      "2025-08-17 23:38:11,082 - INFO - pubmed2pdf.cli - Trying to fetch pmid 37383030\n",
      "2025-08-17 23:38:12,205 - INFO - pubmed2pdf.cli - Trying to fetch pmid 35535879\n",
      "2025-08-17 23:38:12,988 - INFO - pubmed2pdf.cli - Trying to fetch pmid 15690442\n",
      "2025-08-17 23:38:13,847 - INFO - pubmed2pdf.cli - Trying to fetch pmid 17207799\n",
      "2025-08-17 23:38:15,231 - INFO - pubmed2pdf.cli - Trying to fetch pmid 760768\n",
      "2025-08-17 23:38:16,331 - INFO - pubmed2pdf.cli - Trying to fetch pmid 2056019\n",
      "2025-08-17 23:38:17,002 - INFO - pubmed2pdf.cli - Trying to fetch pmid 9696210\n",
      "2025-08-17 23:38:18,350 - INFO - pubmed2pdf.cli - Trying to fetch pmid 18991682\n",
      "2025-08-17 23:38:21,686 - INFO - pubmed2pdf.cli - Trying to fetch pmid 16373406\n",
      "2025-08-17 23:38:22,339 - INFO - pubmed2pdf.cli - Trying to fetch pmid 36040386\n",
      "2025-08-17 23:38:26,375 - INFO - pubmed2pdf.cli - Trying to fetch pmid 8193098\n",
      "2025-08-17 23:38:27,579 - INFO - pubmed2pdf.cli - Trying to fetch pmid 31547808\n",
      "2025-08-17 23:38:28,998 - INFO - pubmed2pdf.cli - Trying to fetch pmid 10625188\n",
      "2025-08-17 23:38:29,669 - INFO - pubmed2pdf.cli - Trying to fetch pmid 8018616\n",
      "2025-08-17 23:38:30,991 - INFO - pubmed2pdf.cli - Trying to fetch pmid 17371803\n",
      "2025-08-17 23:38:31,781 - INFO - pubmed2pdf.cli - Trying to fetch pmid 10920085\n",
      "2025-08-17 23:38:32,462 - INFO - pubmed2pdf.cli - Trying to fetch pmid 25553089\n",
      "2025-08-17 23:38:34,935 - INFO - pubmed2pdf.cli - Trying to fetch pmid 1427629\n",
      "2025-08-17 23:38:35,714 - INFO - pubmed2pdf.cli - Trying to fetch pmid 7650143\n",
      "2025-08-17 23:38:36,517 - INFO - pubmed2pdf.cli - Trying to fetch pmid 15564650\n",
      "2025-08-17 23:38:38,953 - INFO - pubmed2pdf.cli - Trying to fetch pmid 32147172\n",
      "2025-08-17 23:38:40,281 - INFO - pubmed2pdf.cli - Trying to fetch pmid 7732803\n",
      "2025-08-17 23:38:40,976 - INFO - pubmed2pdf.cli - Trying to fetch pmid 33821427\n",
      "2025-08-17 23:38:44,447 - INFO - pubmed2pdf.cli - Trying to fetch pmid 34980280\n",
      "2025-08-17 23:38:46,085 - INFO - pubmed2pdf.cli - Trying to fetch pmid 23746838\n",
      "2025-08-17 23:38:47,307 - INFO - pubmed2pdf.cli - Trying to fetch pmid 31398256\n",
      "2025-08-17 23:38:48,007 - INFO - pubmed2pdf.cli - Trying to fetch pmid 7978918\n",
      "2025-08-17 23:38:48,717 - INFO - pubmed2pdf.cli - Trying to fetch pmid 36362169\n",
      "2025-08-17 23:38:49,393 - INFO - pubmed2pdf.cli - Trying to fetch pmid 36151546\n",
      "2025-08-17 23:38:51,387 - INFO - pubmed2pdf.cli - Trying to fetch pmid 18500453\n",
      "2025-08-17 23:38:53,883 - INFO - pubmed2pdf.cli - Trying to fetch pmid 32061522\n",
      "2025-08-17 23:38:55,106 - INFO - pubmed2pdf.cli - Trying to fetch pmid 32970718\n",
      "2025-08-17 23:38:57,366 - INFO - pubmed2pdf.cli - Trying to fetch pmid 18328483\n",
      "2025-08-17 23:38:58,658 - INFO - pubmed2pdf.cli - Trying to fetch pmid 33394226\n",
      "2025-08-17 23:39:00,887 - INFO - pubmed2pdf.cli - Trying to fetch pmid 39185250\n",
      "2025-08-17 23:39:02,034 - INFO - pubmed2pdf.cli - Trying to fetch pmid 14747176\n",
      "2025-08-17 23:39:02,714 - INFO - pubmed2pdf.cli - Trying to fetch pmid 24138928\n",
      "2025-08-17 23:39:04,497 - INFO - pubmed2pdf.cli - Trying to fetch pmid 33716956\n",
      "2025-08-17 23:39:06,906 - INFO - pubmed2pdf.cli - Trying to fetch pmid None\n",
      "2025-08-17 23:39:07,672 - INFO - pubmed2pdf.cli - Trying to fetch pmid 17418150\n",
      "2025-08-17 23:39:09,026 - INFO - pubmed2pdf.cli - Trying to fetch pmid 29929546\n",
      "2025-08-17 23:39:10,509 - INFO - pubmed2pdf.cli - Trying to fetch pmid 8932630\n",
      "2025-08-17 23:39:11,244 - INFO - pubmed2pdf.cli - Trying to fetch pmid 336898\n",
      "2025-08-17 23:39:12,364 - INFO - pubmed2pdf.cli - Trying to fetch pmid 32945210\n",
      "2025-08-17 23:39:13,089 - INFO - pubmed2pdf.cli - Trying to fetch pmid 30142863\n",
      "2025-08-17 23:39:13,981 - INFO - pubmed2pdf.cli - Trying to fetch pmid 32410619\n",
      "2025-08-17 23:39:16,038 - INFO - pubmed2pdf.cli - Trying to fetch pmid 8906001\n",
      "2025-08-17 23:39:16,714 - INFO - pubmed2pdf.cli - Trying to fetch pmid 32132441\n",
      "2025-08-17 23:39:17,575 - INFO - pubmed2pdf.cli - Trying to fetch pmid 37248206\n",
      "2025-08-17 23:39:18,440 - INFO - pubmed2pdf.cli - Trying to fetch pmid 15136099\n",
      "2025-08-17 23:39:19,671 - INFO - pubmed2pdf.cli - Trying to fetch pmid 15533340\n",
      "2025-08-17 23:39:20,878 - INFO - pubmed2pdf.cli - Trying to fetch pmid 21652599\n",
      "2025-08-17 23:39:21,571 - INFO - pubmed2pdf.cli - Trying to fetch pmid 32077310\n",
      "2025-08-17 23:39:22,231 - INFO - pubmed2pdf.cli - Trying to fetch pmid 8150907\n",
      "2025-08-17 23:39:22,905 - INFO - pubmed2pdf.cli - Trying to fetch pmid 12615813\n",
      "2025-08-17 23:39:23,547 - INFO - pubmed2pdf.cli - Trying to fetch pmid 35382992\n",
      "2025-08-17 23:39:24,847 - INFO - pubmed2pdf.cli - Trying to fetch pmid 7868691\n",
      "2025-08-17 23:39:25,498 - INFO - pubmed2pdf.cli - Trying to fetch pmid 32487204\n",
      "2025-08-17 23:39:27,064 - INFO - pubmed2pdf.cli - Trying to fetch pmid 34552924\n",
      "2025-08-17 23:39:29,424 - INFO - pubmed2pdf.cli - Trying to fetch pmid 9988411\n",
      "2025-08-17 23:39:30,671 - INFO - pubmed2pdf.cli - Trying to fetch pmid 32741623\n",
      "2025-08-17 23:39:31,993 - INFO - pubmed2pdf.cli - Trying to fetch pmid None\n",
      "2025-08-17 23:39:32,781 - INFO - pubmed2pdf.cli - Trying to fetch pmid 11117092\n",
      "2025-08-17 23:39:33,489 - INFO - pubmed2pdf.cli - Trying to fetch pmid 30008696\n",
      "2025-08-17 23:39:35,726 - INFO - pubmed2pdf.cli - Trying to fetch pmid 10966991\n",
      "2025-08-17 23:39:36,593 - INFO - pubmed2pdf.cli - Trying to fetch pmid 35301622\n",
      "2025-08-17 23:39:38,667 - INFO - pubmed2pdf.cli - Trying to fetch pmid 35044694\n",
      "2025-08-17 23:39:39,552 - INFO - pubmed2pdf.cli - Trying to fetch pmid 34400878\n",
      "2025-08-17 23:39:42,239 - INFO - pubmed2pdf.cli - Trying to fetch pmid 19131054\n",
      "2025-08-17 23:39:43,563 - INFO - pubmed2pdf.cli - Trying to fetch pmid 8984921\n",
      "2025-08-17 23:39:44,673 - INFO - pubmed2pdf.cli - Trying to fetch pmid 25967104\n",
      "2025-08-17 23:39:46,165 - INFO - pubmed2pdf.cli - Trying to fetch pmid 24700054\n",
      "2025-08-17 23:39:48,620 - INFO - pubmed2pdf.cli - Trying to fetch pmid 32308115\n",
      "2025-08-17 23:39:49,407 - INFO - pubmed2pdf.cli - Trying to fetch pmid 32567320\n",
      "2025-08-17 23:39:50,116 - INFO - pubmed2pdf.cli - Trying to fetch pmid 11907929\n"
     ]
    },
    {
     "name": "stdout",
     "output_type": "stream",
     "text": [
      "Done downloading. All downloaded can be found in ToDataBase/Marti-Garcia2024_review\n",
      "Turn PDFs into JSON--------------------\n",
      "\n"
     ]
    },
    {
     "name": "stderr",
     "output_type": "stream",
     "text": [
      "100%|██████████| 24/24 [14:26<00:00, 36.11s/it]\n"
     ]
    },
    {
     "name": "stdout",
     "output_type": "stream",
     "text": [
      "Getting xml from PMC--------------------\n",
      "\n",
      "Turn XML into JSON--------------------\n",
      "\n"
     ]
    },
    {
     "name": "stderr",
     "output_type": "stream",
     "text": [
      "100%|██████████| 100/100 [13:14<00:00,  7.95s/it]\n"
     ]
    },
    {
     "name": "stdout",
     "output_type": "stream",
     "text": [
      "We process the article: Diaz-Gimeno2022\n",
      "Getting PDFs-----------------------------\n",
      "\n"
     ]
    },
    {
     "name": "stderr",
     "output_type": "stream",
     "text": [
      "2025-08-18 00:07:39,716 - INFO - pubmed2pdf.cli - Trying to fetch pmid 19246470\n",
      "2025-08-18 00:07:40,422 - INFO - pubmed2pdf.cli - Trying to fetch pmid 22285995\n",
      "2025-08-18 00:07:41,098 - INFO - pubmed2pdf.cli - Trying to fetch pmid 28443690\n",
      "2025-08-18 00:07:41,776 - INFO - pubmed2pdf.cli - Trying to fetch pmid None\n",
      "2025-08-18 00:07:42,585 - INFO - pubmed2pdf.cli - Trying to fetch pmid 18077318\n",
      "2025-08-18 00:07:43,269 - INFO - pubmed2pdf.cli - Trying to fetch pmid None\n",
      "2025-08-18 00:07:44,051 - INFO - pubmed2pdf.cli - Trying to fetch pmid 27386492\n",
      "/home/antonioparragaleo/miniconda3/envs/RAG/lib/python3.11/site-packages/pubmed2pdf/utils.py:57: XMLParsedAsHTMLWarning: It looks like you're using an HTML parser to parse an XML document.\n",
      "\n",
      "Assuming this really is an XML document, what you're doing might work, but you should know that using an XML parser will be more reliable. To parse this document as XML, make sure you have the Python package 'lxml' installed, and pass the keyword argument `features=\"xml\"` into the BeautifulSoup constructor.\n",
      "\n",
      "If you want or need to use an HTML parser on this document, you can make this warning go away by filtering it. To do that, run this code before calling the BeautifulSoup constructor:\n",
      "\n",
      "    from bs4 import XMLParsedAsHTMLWarning\n",
      "    import warnings\n",
      "\n",
      "    warnings.filterwarnings(\"ignore\", category=XMLParsedAsHTMLWarning)\n",
      "\n",
      "  soup = BeautifulSoup(req.content, 'lxml')\n",
      "2025-08-18 00:07:48,478 - INFO - pubmed2pdf.cli - Trying to fetch pmid None\n",
      "2025-08-18 00:07:49,245 - INFO - pubmed2pdf.cli - Trying to fetch pmid 29093507\n",
      "2025-08-18 00:07:51,699 - INFO - pubmed2pdf.cli - Trying to fetch pmid 21785142\n",
      "2025-08-18 00:07:52,366 - INFO - pubmed2pdf.cli - Trying to fetch pmid 27172870\n",
      "2025-08-18 00:07:53,762 - INFO - pubmed2pdf.cli - Trying to fetch pmid 20676074\n",
      "2025-08-18 00:07:55,975 - INFO - pubmed2pdf.cli - Trying to fetch pmid 19542175\n",
      "2025-08-18 00:07:56,667 - INFO - pubmed2pdf.cli - Trying to fetch pmid 25150838\n"
     ]
    },
    {
     "name": "stdout",
     "output_type": "stream",
     "text": [
      "Done downloading. All downloaded can be found in ToDataBase/Diaz-Gimeno2022\n",
      "Turn PDFs into JSON--------------------\n",
      "\n"
     ]
    },
    {
     "name": "stderr",
     "output_type": "stream",
     "text": [
      "100%|██████████| 1/1 [00:28<00:00, 28.22s/it]\n"
     ]
    },
    {
     "name": "stdout",
     "output_type": "stream",
     "text": [
      "Getting xml from PMC--------------------\n",
      "\n",
      "Turn XML into JSON--------------------\n",
      "\n"
     ]
    },
    {
     "name": "stderr",
     "output_type": "stream",
     "text": [
      "100%|██████████| 13/13 [03:19<00:00, 15.33s/it]\n"
     ]
    },
    {
     "name": "stdout",
     "output_type": "stream",
     "text": [
      "We process the article: Devesa-Peiro2022\n",
      "Getting PDFs-----------------------------\n",
      "\n"
     ]
    },
    {
     "name": "stderr",
     "output_type": "stream",
     "text": [
      "2025-08-18 00:11:59,858 - INFO - pubmed2pdf.cli - Trying to fetch pmid 31806903\n",
      "2025-08-18 00:12:02,097 - INFO - pubmed2pdf.cli - Trying to fetch pmid 21245076\n",
      "2025-08-18 00:12:02,778 - INFO - pubmed2pdf.cli - Trying to fetch pmid 17604715\n",
      "2025-08-18 00:12:04,163 - INFO - pubmed2pdf.cli - Trying to fetch pmid 23725226\n",
      "2025-08-18 00:12:05,627 - INFO - pubmed2pdf.cli - Trying to fetch pmid 15797956\n",
      "2025-08-18 00:12:06,282 - INFO - pubmed2pdf.cli - Trying to fetch pmid None\n",
      "2025-08-18 00:12:07,041 - INFO - pubmed2pdf.cli - Trying to fetch pmid 8903775\n",
      "2025-08-18 00:12:08,291 - INFO - pubmed2pdf.cli - Trying to fetch pmid 32173784\n",
      "2025-08-18 00:12:10,755 - INFO - pubmed2pdf.cli - Trying to fetch pmid 12969699\n",
      "2025-08-18 00:12:11,984 - INFO - pubmed2pdf.cli - Trying to fetch pmid 24894503\n",
      "2025-08-18 00:12:13,657 - INFO - pubmed2pdf.cli - Trying to fetch pmid 14559028\n",
      "2025-08-18 00:12:14,900 - INFO - pubmed2pdf.cli - Trying to fetch pmid 27271600\n",
      "2025-08-18 00:12:15,582 - INFO - pubmed2pdf.cli - Trying to fetch pmid 19668215\n",
      "2025-08-18 00:12:17,777 - INFO - pubmed2pdf.cli - Trying to fetch pmid 11278680\n",
      "2025-08-18 00:12:19,159 - INFO - pubmed2pdf.cli - Trying to fetch pmid 28698599\n",
      "2025-08-18 00:12:22,585 - INFO - pubmed2pdf.cli - Trying to fetch pmid 18270434\n",
      "2025-08-18 00:12:33,512 - INFO - pubmed2pdf.cli - Trying to fetch pmid 24055232\n",
      "2025-08-18 00:12:34,765 - INFO - pubmed2pdf.cli - Trying to fetch pmid 32000714\n",
      "2025-08-18 00:12:36,291 - INFO - pubmed2pdf.cli - Trying to fetch pmid 20948989\n",
      "2025-08-18 00:12:39,159 - INFO - pubmed2pdf.cli - Trying to fetch pmid 15661136\n",
      "2025-08-18 00:12:40,704 - INFO - pubmed2pdf.cli - Trying to fetch pmid 5675864\n",
      "2025-08-18 00:12:41,927 - INFO - pubmed2pdf.cli - Trying to fetch pmid 29278305\n",
      "2025-08-18 00:12:42,620 - INFO - pubmed2pdf.cli - Trying to fetch pmid 31004829\n",
      "2025-08-18 00:12:43,990 - INFO - pubmed2pdf.cli - Trying to fetch pmid 34857954\n"
     ]
    },
    {
     "name": "stdout",
     "output_type": "stream",
     "text": [
      "Done downloading. All downloaded can be found in ToDataBase/Devesa-Peiro2022\n",
      "Turn PDFs into JSON--------------------\n",
      "\n"
     ]
    },
    {
     "name": "stderr",
     "output_type": "stream",
     "text": [
      "100%|██████████| 5/5 [02:56<00:00, 35.37s/it]\n"
     ]
    },
    {
     "name": "stdout",
     "output_type": "stream",
     "text": [
      "Getting xml from PMC--------------------\n",
      "\n",
      "Turn XML into JSON--------------------\n",
      "\n"
     ]
    },
    {
     "name": "stderr",
     "output_type": "stream",
     "text": [
      "100%|██████████| 19/19 [05:17<00:00, 16.71s/it]\n"
     ]
    },
    {
     "name": "stdout",
     "output_type": "stream",
     "text": [
      "We process the article: Sebastian-Leon2018\n",
      "Getting PDFs-----------------------------\n",
      "\n"
     ]
    },
    {
     "name": "stderr",
     "output_type": "stream",
     "text": [
      "2025-08-18 00:21:11,348 - INFO - pubmed2pdf.cli - Trying to fetch pmid None\n",
      "2025-08-18 00:21:12,143 - INFO - pubmed2pdf.cli - Trying to fetch pmid 24737781\n",
      "2025-08-18 00:21:12,869 - INFO - pubmed2pdf.cli - Trying to fetch pmid 24082038\n",
      "2025-08-18 00:21:13,581 - INFO - pubmed2pdf.cli - Trying to fetch pmid 15539444\n",
      "2025-08-18 00:21:14,327 - INFO - pubmed2pdf.cli - Trying to fetch pmid 18035563\n",
      "2025-08-18 00:21:15,620 - INFO - pubmed2pdf.cli - Trying to fetch pmid 23756099\n",
      "2025-08-18 00:21:17,027 - INFO - pubmed2pdf.cli - Trying to fetch pmid 15924536\n",
      "2025-08-18 00:21:18,020 - INFO - pubmed2pdf.cli - Trying to fetch pmid 22080510\n",
      "2025-08-18 00:21:18,696 - INFO - pubmed2pdf.cli - Trying to fetch pmid None\n",
      "2025-08-18 00:21:19,460 - INFO - pubmed2pdf.cli - Trying to fetch pmid 22683339\n",
      "2025-08-18 00:21:20,767 - INFO - pubmed2pdf.cli - Trying to fetch pmid 23664094\n",
      "2025-08-18 00:21:22,064 - INFO - pubmed2pdf.cli - Trying to fetch pmid 28710396\n",
      "2025-08-18 00:21:24,632 - INFO - pubmed2pdf.cli - Trying to fetch pmid 22119322\n",
      "2025-08-18 00:21:25,848 - INFO - pubmed2pdf.cli - Trying to fetch pmid 17674185\n",
      "2025-08-18 00:21:27,943 - INFO - pubmed2pdf.cli - Trying to fetch pmid 16905766\n",
      "2025-08-18 00:21:28,604 - INFO - pubmed2pdf.cli - Trying to fetch pmid 18697870\n",
      "2025-08-18 00:21:29,277 - INFO - pubmed2pdf.cli - Trying to fetch pmid 16960016\n",
      "2025-08-18 00:21:31,043 - INFO - pubmed2pdf.cli - Trying to fetch pmid 28668151\n",
      "2025-08-18 00:21:32,341 - INFO - pubmed2pdf.cli - Trying to fetch pmid 22634130\n",
      "2025-08-18 00:21:33,671 - INFO - pubmed2pdf.cli - Trying to fetch pmid 22028643\n",
      "2025-08-18 00:21:35,929 - INFO - pubmed2pdf.cli - Trying to fetch pmid None\n"
     ]
    },
    {
     "name": "stdout",
     "output_type": "stream",
     "text": [
      "Done downloading. All downloaded can be found in ToDataBase/Sebastian-Leon2018\n",
      "Turn PDFs into JSON--------------------\n",
      "\n"
     ]
    },
    {
     "name": "stderr",
     "output_type": "stream",
     "text": [
      "100%|██████████| 2/2 [01:11<00:00, 35.53s/it]\n"
     ]
    },
    {
     "name": "stdout",
     "output_type": "stream",
     "text": [
      "Getting xml from PMC--------------------\n",
      "\n",
      "Turn XML into JSON--------------------\n",
      "\n"
     ]
    },
    {
     "name": "stderr",
     "output_type": "stream",
     "text": [
      "100%|██████████| 19/19 [02:24<00:00,  7.61s/it]\n"
     ]
    },
    {
     "name": "stdout",
     "output_type": "stream",
     "text": [
      "We process the article: Diaz-Gimeno2017\n",
      "Getting PDFs-----------------------------\n",
      "\n"
     ]
    },
    {
     "name": "stderr",
     "output_type": "stream",
     "text": [
      "2025-08-18 00:25:18,509 - INFO - pubmed2pdf.cli - Trying to fetch pmid 27128483\n",
      "2025-08-18 00:25:21,327 - INFO - pubmed2pdf.cli - Trying to fetch pmid 11120680\n",
      "2025-08-18 00:25:22,005 - INFO - pubmed2pdf.cli - Trying to fetch pmid None\n",
      "2025-08-18 00:25:22,764 - INFO - pubmed2pdf.cli - Trying to fetch pmid None\n",
      "2025-08-18 00:25:24,516 - INFO - pubmed2pdf.cli - Trying to fetch pmid 16005454\n",
      "2025-08-18 00:25:25,886 - INFO - pubmed2pdf.cli - Trying to fetch pmid 18252602\n",
      "2025-08-18 00:25:27,146 - INFO - pubmed2pdf.cli - Trying to fetch pmid None\n",
      "2025-08-18 00:25:27,907 - INFO - pubmed2pdf.cli - Trying to fetch pmid 26385059\n",
      "2025-08-18 00:25:29,064 - INFO - pubmed2pdf.cli - Trying to fetch pmid 20689021\n",
      "2025-08-18 00:25:29,812 - INFO - pubmed2pdf.cli - Trying to fetch pmid 24706003\n",
      "2025-08-18 00:25:30,940 - INFO - pubmed2pdf.cli - Trying to fetch pmid 27122490\n"
     ]
    },
    {
     "name": "stdout",
     "output_type": "stream",
     "text": [
      "Done downloading. All downloaded can be found in ToDataBase/Diaz-Gimeno2017\n",
      "Turn PDFs into JSON--------------------\n",
      "\n"
     ]
    },
    {
     "name": "stderr",
     "output_type": "stream",
     "text": [
      "100%|██████████| 1/1 [00:41<00:00, 41.76s/it]\n"
     ]
    },
    {
     "name": "stdout",
     "output_type": "stream",
     "text": [
      "Getting xml from PMC--------------------\n",
      "\n",
      "Turn XML into JSON--------------------\n",
      "\n"
     ]
    },
    {
     "name": "stderr",
     "output_type": "stream",
     "text": [
      "100%|██████████| 10/10 [01:43<00:00, 10.39s/it]\n"
     ]
    }
   ],
   "source": [
    "my_json_ref = []\n",
    "pmid_dict = {}\n",
    "not_available = []\n",
    "\n",
    "HEADERS = {\n",
    "        \"User-Agent\": (\n",
    "            \"Mozilla/5.0 (Windows NT 10.0; Win64; x64) \"\n",
    "            \"AppleWebKit/537.36 (KHTML, like Gecko) \"\n",
    "            \"Chrome/115.0.0.0 Safari/537.36\"\n",
    "        )\n",
    "    }\n",
    "\n",
    "for i, article in enumerate(my_json):\n",
    "    \n",
    "    path_name = re.sub(r'.pdf','',paths[i]).split('/')[1]\n",
    "    pmid_dict[path_name] = []\n",
    "\n",
    "    print(f\"We process the article: {path_name}\")\n",
    "\n",
    "    doi = hf.clean_doi(article['DOI'])\n",
    "    \n",
    "    cross_ref = requests.get('https://api.crossref.org/works/'+doi)\n",
    "    list_reference = cross_ref.json()['message'].get('reference',None)\n",
    "    article['List_references'] = list(set([x.get('DOI') for x in list_reference if x.get('DOI') and x.get('DOI') not in includedDOI]))\n",
    "\n",
    "    # We retrieve the pmid from each DOI\n",
    "\n",
    "    for ref_doi in article['List_references']:\n",
    "            \n",
    "        pmid_dict[path_name].append(hf.get_pmid_from_doi(ref_doi))\n",
    "\n",
    "    # We try to get the pdf\n",
    "\n",
    "    print(\"Getting PDFs-----------------------------\\n\")\n",
    "\n",
    "    output_dir = os.path.join(\"ToDataBase\", path_name)\n",
    "\n",
    "    if len(pmid_dict[path_name]) > 0:\n",
    "\n",
    "        command = [\n",
    "        \"python3\", \"-m\", \"pubmed2pdf\", \"pdf\",\n",
    "        \"--out\", output_dir,\n",
    "        \"--pmids\", f\"{', '.join(pmid_dict[path_name])}\",\n",
    "        \"--maxtries\",\"1\",\n",
    "        \"--errors\", os.path.join(output_dir,\"pubmed2pdf_log.txt\")\n",
    "        ]\n",
    "        subprocess.run(command)\n",
    "\n",
    "        # We process pdfs\n",
    "\n",
    "        pdfs2retrieve = [os.path.join(output_dir,f) for f in os.listdir(output_dir) if f.endswith('.pdf')]\n",
    "\n",
    "        print(\"Turn PDFs into JSON--------------------\\n\")\n",
    "\n",
    "        for pdf in tqdm.tqdm(pdfs2retrieve, total=len(pdfs2retrieve)):\n",
    "\n",
    "            loader = loader = PyPDFLoader(pdf, mode=\"single\")\n",
    "            doc = loader.load()[0] # As this function provides a list, we select the first element.\n",
    "            doc.page_content = hf.clean_text(doc.page_content)\n",
    "\n",
    "            try:\n",
    "                info_article = chain.invoke({\"query\": doc.page_content})\n",
    "                doi_candidate = info_article.get(\"DOI\",None)\n",
    "\n",
    "                if not doi_candidate:\n",
    "\n",
    "                    retry_doi = chain_doi.invoke({\"query\":doc.page_content})\n",
    "                    info_article['DOI'] = 'https://doi.org/' + retry_doi if 'https://doi.org/' not in retry_doi else retry_doi\n",
    "\n",
    "                else:\n",
    "                    info_article['DOI'] = 'https://doi.org/' + info_article['DOI'] if 'https://doi.org/' not in info_article['DOI'] else info_article['DOI']\n",
    "\n",
    "                my_json_ref.append(info_article)\n",
    "            except Exception:\n",
    "                not_available.append(re.sub(r\".pdf\",\"\",os.path.basename(pdf)))\n",
    "\n",
    "        # We try to get the html otherwise\n",
    "\n",
    "        print(\"Getting xml from PMC--------------------\\n\")\n",
    "\n",
    "        log_file = os.path.join(output_dir,\"pubmed2pdf_log.txt\")\n",
    "        if os.path.exists(log_file):\n",
    "            to_retrieve = pd.read_csv(log_file, header=None,dtype='str')[0].tolist() # We get those files that could not be retrieved\n",
    "        else:\n",
    "            to_retrieve = []\n",
    "\n",
    "        to_retrieve.extend([re.sub(r'.html','',f)  for f in os.listdir(output_dir) if f.endswith('.html')]) # We add those in html format since they do not have information\n",
    "\n",
    "\n",
    "        # Clean information\n",
    "        for f in os.listdir(output_dir):\n",
    "            if f.endswith('html'):\n",
    "                os.remove(os.path.join(output_dir,f)) # Then, we remove from directory\n",
    "        \n",
    "        print(\"Turn XML into JSON--------------------\\n\")\n",
    "        \n",
    "        for pmid in tqdm.tqdm(to_retrieve, total=len(to_retrieve)):\n",
    "\n",
    "            try:\n",
    "                pmcid = hf.get_pmcid_from_pmid(pmid)\n",
    "                response = requests.get(url = f\"https://www.ncbi.nlm.nih.gov/pmc/articles/PMC{pmcid}/\", headers=HEADERS)\n",
    "                soup = BeautifulSoup(response.text, \"html.parser\")\n",
    "                text_paper = soup.find(\"article\").get_text(separator=\"\\n\", strip=True)\n",
    "                info_article = chain.invoke({\"query\": text_paper})\n",
    "\n",
    "                doi_candidate = info_article.get(\"DOI\",None)\n",
    "                if not doi_candidate:\n",
    "                    retry_doi= chain_doi.invoke({\"query\": text_paper})\n",
    "                    info_article['DOI'] = 'https://doi.org/' + retry_doi if 'https://doi.org/' not in retry_doi else retry_doi\n",
    "                        \n",
    "                else:\n",
    "                    info_article['DOI'] = 'https://doi.org/' + info_article['DOI'] if 'https://doi.org/' not in info_article['DOI'] else info_article['DOI']\n",
    "\n",
    "                my_json_ref.append(info_article)\n",
    "                \n",
    "            except Exception:\n",
    "                not_available.append(pmid)\n",
    "\n",
    "            time.sleep(1)\n",
    "    \n",
    "\n",
    "    includedDOI.extend(article['List_references'])\n",
    "\n",
    "    # Save the results\n",
    "\n",
    "    with open(\"info_articles_ref_final.pkl\",\"wb\") as f:\n",
    "        pkl.dump(my_json_ref, f)"
   ]
  }
 ],
 "metadata": {
  "kernelspec": {
   "display_name": "RAG",
   "language": "python",
   "name": "python3"
  },
  "language_info": {
   "codemirror_mode": {
    "name": "ipython",
    "version": 3
   },
   "file_extension": ".py",
   "mimetype": "text/x-python",
   "name": "python",
   "nbconvert_exporter": "python",
   "pygments_lexer": "ipython3",
   "version": "3.11.2"
  }
 },
 "nbformat": 4,
 "nbformat_minor": 5
}
