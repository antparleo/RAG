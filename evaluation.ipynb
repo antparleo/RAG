{
 "cells": [
  {
   "cell_type": "markdown",
   "id": "e7c7d3cc",
   "metadata": {},
   "source": [
    "# Evaluation of RAG model"
   ]
  },
  {
   "cell_type": "markdown",
   "id": "0758db44",
   "metadata": {},
   "source": [
    "One way to think about different types of RAG evaluators is as a tuple of what is being evaluated X what its being evaluated against:\n",
    "\n",
    "1. Correctness: Response vs reference answer\n",
    "- Goal: Measure \"how similar/correct is the RAG chain answer, relative to a ground-truth answer\"\n",
    "- Mode: Requires a ground truth (reference) answer supplied through a dataset\n",
    "- Evaluator: Use LLM-as-judge to assess answer correctness.\n",
    "\n",
    "2. Relevance: Response vs input\n",
    "- Goal: Measure \"how well does the generated response address the initial user input\"\n",
    "- Mode: Does not require reference answer, because it will compare the answer to the input question\n",
    "- Evaluator: Use LLM-as-judge to assess answer relevance, helpfulness, etc.\n",
    "\n",
    "3. Groundedness: Response vs retrieved docs\n",
    "- Goal: Measure \"to what extent does the generated response agree with the retrieved context\"\n",
    "- Mode: Does not require reference answer, because it will compare the answer to the retrieved context\n",
    "- Evaluator: Use LLM-as-judge to assess faithfulness, hallucinations, etc.\n",
    "\n",
    "4. Retrieval relevance: Retrieved docs vs input\n",
    "- Goal: Measure \"how relevant are my retrieved results for this query\"\n",
    "- Mode: Does not require reference answer, because it will compare the question to the retrieved context\n",
    "- Evaluator: Use LLM-as-judge to assess relevance"
   ]
  },
  {
   "cell_type": "code",
   "execution_count": 1,
   "id": "cf650934",
   "metadata": {},
   "outputs": [
    {
     "name": "stderr",
     "output_type": "stream",
     "text": [
      "/home/antonioparragaleo/miniconda3/envs/RAG/lib/python3.11/site-packages/tqdm/auto.py:21: TqdmWarning: IProgress not found. Please update jupyter and ipywidgets. See https://ipywidgets.readthedocs.io/en/stable/user_install.html\n",
      "  from .autonotebook import tqdm as notebook_tqdm\n"
     ]
    }
   ],
   "source": [
    "from langchain_google_genai import GoogleGenerativeAI\n",
    "import google.generativeai as genai\n",
    "import json\n",
    "from pydantic import BaseModel\n",
    "from typing_extensions import Annotated, TypedDict, Type\n",
    "from langsmith import Client\n",
    "import os\n",
    "import pickle as pkl\n",
    "import helper_functions as hf\n",
    "from langchain_huggingface import HuggingFaceEmbeddings\n",
    "import glob\n",
    "import re\n",
    "from tqdm import tqdm\n",
    "import pandas as pd\n",
    "import numpy as np"
   ]
  },
  {
   "cell_type": "code",
   "execution_count": 2,
   "id": "aa5f239d",
   "metadata": {},
   "outputs": [],
   "source": [
    "with open('api_google.txt') as f:\n",
    "    \n",
    "    api_key = json.load(f)"
   ]
  },
  {
   "cell_type": "markdown",
   "id": "f386d6e5",
   "metadata": {},
   "source": [
    "## Setting"
   ]
  },
  {
   "cell_type": "code",
   "execution_count": 3,
   "id": "12de04b7",
   "metadata": {},
   "outputs": [],
   "source": [
    "if not os.environ.get(\"GOOGLE_API_KEY\"):\n",
    "  os.environ[\"GOOGLE_API_KEY\"] = api_key['key']"
   ]
  },
  {
   "cell_type": "code",
   "execution_count": 4,
   "id": "cfcdb186",
   "metadata": {},
   "outputs": [],
   "source": [
    "from langchain.chat_models import init_chat_model\n",
    "llm = init_chat_model(\"gemini-2.0-flash\", model_provider=\"google_genai\", temperature=0)"
   ]
  },
  {
   "cell_type": "code",
   "execution_count": 5,
   "id": "a71414f2",
   "metadata": {},
   "outputs": [],
   "source": [
    "with open(\"generated_questions_final_gemini_2-5.pkl\", \"rb\") as f:\n",
    "    eval_datasets = pkl.load(f)"
   ]
  },
  {
   "cell_type": "markdown",
   "id": "f2e56601",
   "metadata": {},
   "source": [
    "## Evaluation"
   ]
  },
  {
   "cell_type": "code",
   "execution_count": 6,
   "id": "00596249",
   "metadata": {},
   "outputs": [],
   "source": [
    "# Grade output schema\n",
    "class CorrectnessGrade(TypedDict):\n",
    "    # Note that the order in the fields are defined is the order in which the model will generate them.\n",
    "    # It is useful to put explanations before responses because it forces the model to think through\n",
    "    # its final response before generating it:\n",
    "    explanation: Annotated[str, ..., \"Explain your reasoning for the score\"]\n",
    "    correct: Annotated[bool, ..., \"True if the answer is correct, False otherwise.\"]\n",
    "\n",
    "# Grade prompt\n",
    "correctness_instructions = \"\"\"You are a senior researcher in reprodutive field and bioinformatics. \n",
    "\n",
    "You will be given a QUESTION, the GROUND TRUTH (correct) ANSWER, and the PhD Student answer. \n",
    "\n",
    "Here is the grade criteria to follow:\n",
    "(1) Grade the student answers based ONLY on their factual accuracy relative to the ground truth answer. \n",
    "(2) Ensure that the student answer does not contain any conflicting statements.\n",
    "(3) It is OK if the student answer contains more information than the ground truth answer, as long as it is factually accurate relative to the  ground truth answer.\n",
    "\n",
    "Correctness:\n",
    "A correctness value of True means that the PhD student's answer meets all of the criteria.\n",
    "A correctness value of False means that the PhD student's answer does not meet all of the criteria.\n",
    "\n",
    "Explain your reasoning in a step-by-step manner to ensure your reasoning and conclusion are correct. \n",
    "\n",
    "Avoid simply stating the correct answer at the outset.\"\"\"\n",
    "\n",
    "# Grader LLM\n",
    "\n",
    "grader_llm = llm.with_structured_output(CorrectnessGrade, method=\"json_schema\", strict=True)"
   ]
  },
  {
   "cell_type": "code",
   "execution_count": 7,
   "id": "d092c686",
   "metadata": {},
   "outputs": [],
   "source": [
    "# Grade output schema\n",
    "class RelevanceGrade(TypedDict):\n",
    "    explanation: Annotated[str, ..., \"Explain your reasoning for the score\"]\n",
    "    relevant: Annotated[bool, ..., \"Provide the score on whether the answer addresses the question\"]\n",
    "\n",
    "# Grade prompt\n",
    "relevance_instructions=\"\"\"You are a senior researcher in reprodutive field and bioinformatics. \n",
    "\n",
    "You will be given a QUESTION and a STUDENT ANSWER. \n",
    "\n",
    "Here is the grade criteria to follow:\n",
    "(1) Ensure the PhD STUDENT ANSWER is concise and relevant to the QUESTION\n",
    "(2) Ensure the PhD STUDENT ANSWER helps to answer the QUESTION\n",
    "\n",
    "Relevance:\n",
    "A relevance value of True means that the student's answer meets all of the criteria.\n",
    "A relevance value of False means that the student's answer does not meet all of the criteria.\n",
    "\n",
    "Explain your reasoning in a step-by-step manner to ensure your reasoning and conclusion are correct. \n",
    "\n",
    "Avoid simply stating the correct answer at the outset.\"\"\"\n",
    "\n",
    "relevance_llm = llm.with_structured_output(RelevanceGrade, method=\"json_schema\", strict=True)"
   ]
  },
  {
   "cell_type": "code",
   "execution_count": 8,
   "id": "67bc4452",
   "metadata": {},
   "outputs": [],
   "source": [
    "# Grade output schema\n",
    "class RetrievalRelevanceGrade(TypedDict):\n",
    "    explanation: Annotated[str, ..., \"Explain your reasoning for the score\"]\n",
    "    relevant: Annotated[bool, ..., \"True if the retrieved documents are relevant to the question, False otherwise\"]\n",
    "\n",
    "# Grade prompt\n",
    "retrieval_relevance_instructions = \"\"\"You are a senior researcher in reprodutive field and bioinformatics grading PhD students questions. \n",
    "\n",
    "You will be given a QUESTION and a set of FACTS provided by the PhD student. \n",
    "\n",
    "Here is the grade criteria to follow:\n",
    "(1) You goal is to identify FACTS that are completely unrelated to the QUESTION\n",
    "(2) If the facts contain ANY keywords or semantic meaning related to the question, consider them relevant\n",
    "(3) It is OK if the facts have SOME information that is unrelated to the question as long as (2) is met\n",
    "\n",
    "Relevance:\n",
    "A relevance value of True means that the FACTS contain ANY keywords or semantic meaning related to the QUESTION and are therefore relevant.\n",
    "A relevance value of False means that the FACTS are completely unrelated to the QUESTION.\n",
    "\n",
    "Explain your reasoning in a step-by-step manner to ensure your reasoning and conclusion are correct. \n",
    "\n",
    "Avoid simply stating the correct answer at the outset.\"\"\"\n",
    "\n",
    "# Grader LLM\n",
    "retrieval_llm = llm.with_structured_output(RetrievalRelevanceGrade, method=\"json_schema\", strict=True)"
   ]
  },
  {
   "cell_type": "code",
   "execution_count": 9,
   "id": "7d3f9e30",
   "metadata": {},
   "outputs": [],
   "source": [
    "# Grade output schema\n",
    "class GroundedGrade(TypedDict):\n",
    "    explanation: Annotated[str, ..., \"Explain your reasoning for the score\"]\n",
    "    grounded: Annotated[bool, ..., \"Provide the score on if the answer hallucinates from the documents\"]\n",
    "\n",
    "# Grade prompt\n",
    "grounded_instructions = \"\"\"You are a senior researcher in reprodutive field and bioinformatics grading PhD students questions. \n",
    "\n",
    "You will be given FACTS and a PhD STUDENT ANSWER. \n",
    "\n",
    "Here is the grade criteria to follow:\n",
    "(1) Ensure the PhD STUDENT ANSWER is grounded in the FACTS. \n",
    "(2) Ensure the PhD STUDENT ANSWER does not contain \"hallucinated\" information outside the scope of the FACTS.\n",
    "\n",
    "Grounded:\n",
    "A grounded value of True means that the student's answer meets all of the criteria.\n",
    "A grounded value of False means that the student's answer does not meet all of the criteria.\n",
    "\n",
    "Explain your reasoning in a step-by-step manner to ensure your reasoning and conclusion are correct. \n",
    "\n",
    "Avoid simply stating the correct answer at the outset.\"\"\"\n",
    "\n",
    "# Grader LLM \n",
    "grounded_llm = llm.with_structured_output(GroundedGrade, method=\"json_schema\", strict=True)\n"
   ]
  },
  {
   "cell_type": "code",
   "execution_count": 37,
   "id": "f7966704",
   "metadata": {},
   "outputs": [],
   "source": [
    "outputs = {}\n",
    "for file in glob.glob(\"./output/*.json\"):\n",
    "    output = json.load(open(file, \"r\"))\n",
    "    outputs[re.sub(r'./output/rag_','',file)] = output\n"
   ]
  },
  {
   "cell_type": "code",
   "execution_count": 39,
   "id": "b23f8cb2",
   "metadata": {},
   "outputs": [],
   "source": [
    "try:\n",
    "    with open(\"./evaluation/evaluation.pkl\",\"rb\") as f:\n",
    "        list_dataframes = pkl.load(f)\n",
    "except:\n",
    "    print('File not found')\n",
    "    list_dataframes = []"
   ]
  },
  {
   "cell_type": "code",
   "execution_count": null,
   "id": "60a0ab15",
   "metadata": {},
   "outputs": [
    {
     "name": "stderr",
     "output_type": "stream",
     "text": [
      "  0%|          | 0/126 [00:00<?, ?it/s]"
     ]
    },
    {
     "name": "stdout",
     "output_type": "stream",
     "text": [
      "Settings: chunk_1000_reader-model_gemini-2.0-flash_emnedding_model_e5-small-v2recursive_True_k_8.json already analyzed\n",
      "Settings: chunk_1500_reader-model_gemini-2.0-flash_emnedding_model_snowflake-arctic-embed-srecursive_False_k_9.json already analyzed\n",
      "Analyzing chunk_1500_reader-model_gemini-2.0-flash_emnedding_model_GIST-small-Embedding-v0recursive_False_k_8.json\n"
     ]
    },
    {
     "name": "stderr",
     "output_type": "stream",
     "text": [
      "  2%|▏         | 3/126 [03:29<2:23:08, 69.82s/it]"
     ]
    },
    {
     "name": "stdout",
     "output_type": "stream",
     "text": [
      "Analyzing chunk_1000_reader-model_gemini-2.0-flash_emnedding_model_snowflake-arctic-embed-srecursive_False_k_4.json\n"
     ]
    },
    {
     "name": "stderr",
     "output_type": "stream",
     "text": [
      "  3%|▎         | 4/126 [06:49<3:47:38, 111.95s/it]"
     ]
    },
    {
     "name": "stdout",
     "output_type": "stream",
     "text": [
      "Analyzing chunk_1000_reader-model_gemini-2.0-flash_emnedding_model_snowflake-arctic-embed-srecursive_False_k_9.json\n"
     ]
    },
    {
     "name": "stderr",
     "output_type": "stream",
     "text": [
      "  4%|▍         | 5/126 [10:16<4:46:06, 141.87s/it]"
     ]
    },
    {
     "name": "stdout",
     "output_type": "stream",
     "text": [
      "Analyzing chunk_1000_reader-model_gemini-2.0-flash_emnedding_model_GIST-small-Embedding-v0recursive_True_k_7.json\n"
     ]
    },
    {
     "name": "stderr",
     "output_type": "stream",
     "text": [
      "  5%|▍         | 6/126 [13:39<5:21:43, 160.86s/it]"
     ]
    },
    {
     "name": "stdout",
     "output_type": "stream",
     "text": [
      "Analyzing chunk_1000_reader-model_gemini-2.0-flash_emnedding_model_GIST-small-Embedding-v0recursive_True_k_8.json\n"
     ]
    },
    {
     "name": "stderr",
     "output_type": "stream",
     "text": [
      "  6%|▌         | 7/126 [17:06<5:47:17, 175.10s/it]"
     ]
    },
    {
     "name": "stdout",
     "output_type": "stream",
     "text": [
      "Analyzing chunk_1000_reader-model_gemini-2.0-flash_emnedding_model_GIST-small-Embedding-v0recursive_True_k_4.json\n"
     ]
    },
    {
     "name": "stderr",
     "output_type": "stream",
     "text": [
      "  6%|▋         | 8/126 [20:27<5:59:52, 182.98s/it]"
     ]
    },
    {
     "name": "stdout",
     "output_type": "stream",
     "text": [
      "Analyzing chunk_1000_reader-model_gemini-2.0-flash_emnedding_model_GIST-small-Embedding-v0recursive_True_k_6.json\n"
     ]
    },
    {
     "name": "stderr",
     "output_type": "stream",
     "text": [
      "  7%|▋         | 9/126 [23:47<6:06:32, 187.97s/it]"
     ]
    },
    {
     "name": "stdout",
     "output_type": "stream",
     "text": [
      "Analyzing chunk_1000_reader-model_gemini-2.0-flash_emnedding_model_e5-small-v2recursive_True_k_6.json\n"
     ]
    },
    {
     "name": "stderr",
     "output_type": "stream",
     "text": [
      "  8%|▊         | 10/126 [27:16<6:15:46, 194.37s/it]"
     ]
    },
    {
     "name": "stdout",
     "output_type": "stream",
     "text": [
      "Analyzing chunk_1000_reader-model_gemini-2.0-flash_emnedding_model_snowflake-arctic-embed-srecursive_False_k_8.json\n"
     ]
    },
    {
     "name": "stderr",
     "output_type": "stream",
     "text": [
      "  9%|▊         | 11/126 [30:36<6:15:51, 196.10s/it]"
     ]
    },
    {
     "name": "stdout",
     "output_type": "stream",
     "text": [
      "Analyzing chunk_1500_reader-model_gemini-2.0-flash_emnedding_model_e5-small-v2recursive_False_k_10.json\n"
     ]
    },
    {
     "name": "stderr",
     "output_type": "stream",
     "text": [
      " 10%|▉         | 12/126 [34:03<6:19:08, 199.55s/it]"
     ]
    },
    {
     "name": "stdout",
     "output_type": "stream",
     "text": [
      "Analyzing chunk_1500_reader-model_gemini-2.0-flash_emnedding_model_snowflake-arctic-embed-srecursive_False_k_7.json\n"
     ]
    },
    {
     "name": "stderr",
     "output_type": "stream",
     "text": [
      " 10%|█         | 13/126 [37:28<6:18:27, 200.95s/it]"
     ]
    },
    {
     "name": "stdout",
     "output_type": "stream",
     "text": [
      "Analyzing chunk_2000_reader-model_gemini-2.0-flash_emnedding_model_snowflake-arctic-embed-srecursive_True_k_6.json\n"
     ]
    },
    {
     "name": "stderr",
     "output_type": "stream",
     "text": [
      " 11%|█         | 14/126 [41:00<6:21:29, 204.37s/it]"
     ]
    },
    {
     "name": "stdout",
     "output_type": "stream",
     "text": [
      "Analyzing chunk_1000_reader-model_gemini-2.0-flash_emnedding_model_snowflake-arctic-embed-srecursive_True_k_8.json\n"
     ]
    }
   ],
   "source": [
    "if os.path.exists(\"./evaluation/evaluation_log.txt\"):\n",
    "    with open(\"./evaluation/evaluation_log.txt\", \"r\") as f:\n",
    "        lines = [line.strip() for line in f]\n",
    "else:\n",
    "    lines = []\n",
    "\n",
    "for settings, evaluation in tqdm(outputs.items(), total=len(outputs)):\n",
    "\n",
    "    if settings in lines:\n",
    "        print(f\"Settings: {settings} already analyzed\")\n",
    "        continue\n",
    "    \n",
    "    print(f\"Analyzing {settings}\")\n",
    "    aux_correct = []\n",
    "    aux_relevant = []\n",
    "    aux_retrival = []\n",
    "    aux_ground = []\n",
    "\n",
    "    for mydic in evaluation:\n",
    "        aux_correct.append(hf.correctness(inputs=mydic, grader_llm = grader_llm, correctness_instructions= correctness_instructions))\n",
    "        aux_relevant.append(hf.relevance(inputs=mydic, relevance_llm  = relevance_llm, relevance_instructions = relevance_instructions))\n",
    "        aux_retrival.append(hf.retrieval_relevance(inputs=mydic, retrieval_llm= retrieval_llm, retrieval_relevance_instructions = retrieval_relevance_instructions))\n",
    "        aux_ground.append(hf.groundedness(inputs=mydic, grounded_llm=grounded_llm, grounded_instructions=grounded_instructions))\n",
    "\n",
    "    # Create dataframe\n",
    "    correctness_results = pd.Series(aux_correct, name=\"Correctness\")\n",
    "    relevance_results = pd.Series(aux_correct, name=\"Relevance\")\n",
    "    retrieval_results = pd.Series(aux_retrival, name=\"Retrieval\")\n",
    "    ground_results = pd.Series(aux_ground, name=\"Groundedness\")\n",
    "    list_dataframes.append(pd.concat([pd.DataFrame.from_dict(evaluation),correctness_results, relevance_results, retrieval_results, ground_results], axis = 1))\n",
    "\n",
    "    with open(\"./evaluation/evaluation.pkl\",\"wb\") as f:\n",
    "        pkl.dump(list_dataframes,f)\n",
    "\n",
    "    with open(\"./evaluation/evaluation_log.txt\",\"a\") as f:\n",
    "        f.write(f\"{settings}\\n\")"
   ]
  },
  {
   "cell_type": "code",
   "execution_count": 14,
   "id": "0844caa2",
   "metadata": {},
   "outputs": [],
   "source": [
    "toplots = []\n",
    "for subset in list_dataframes:\n",
    "    toplot = subset.loc[:,['test_settings','eval_score_gemini-2.0-flash','Relevance','Correctness','Groundedness','Retrieval']]\n",
    "    values = [toplot.test_settings[0].split('_')[i] for i in [1,3,6,7,9]]\n",
    "    toplot2 = {\"Chunk_size\": np.repeat(values[0], toplot.shape[0]),\n",
    "    \"LLM_model\":np.repeat(values[1], toplot.shape[0]),\n",
    "    \"Embedding_Model\":np.repeat(re.sub(r'recursive','',values[2]),toplot.shape[0]),\n",
    "    \"Recursive\":np.repeat(values[3], toplot.shape[0]),\n",
    "    \"NumberofDocuments\":np.repeat(values[4], toplot.shape[0])}\n",
    "    toplots.append(pd.concat([pd.DataFrame(toplot2), toplot.loc[:,['eval_score_gemini-2.0-flash','Relevance','Correctness','Groundedness','Retrieval']]], axis=1))\n",
    "toplot_final = pd.concat(toplots)"
   ]
  },
  {
   "cell_type": "code",
   "execution_count": 15,
   "id": "933403fc",
   "metadata": {},
   "outputs": [],
   "source": [
    "toplot_final[\"eval_score_gemini-2.0-flash\"] = toplot_final[\"eval_score_gemini-2.0-flash\"].apply(lambda x: int(x) if isinstance(x, str) else 0)\n",
    "toplot_final[\"eval_score_gemini-2.0-flash\"] = toplot_final[\"eval_score_gemini-2.0-flash\"]/5"
   ]
  },
  {
   "cell_type": "code",
   "execution_count": 18,
   "id": "a27f4c5c",
   "metadata": {},
   "outputs": [
    {
     "data": {
      "text/plain": [
       "Chunk_size  Embedding_Model           Recursive  NumberofDocuments\n",
       "1000        e5-small-v2               True       8                    0.984127\n",
       "1500        snowflake-arctic-embed-s  False      9                    0.714286\n",
       "Name: Relevance, dtype: float64"
      ]
     },
     "execution_count": 18,
     "metadata": {},
     "output_type": "execute_result"
    }
   ],
   "source": [
    "toplot_final.groupby([\"Chunk_size\",\"Embedding_Model\", \"Recursive\", \"NumberofDocuments\"])[\"Relevance\"].mean()"
   ]
  },
  {
   "cell_type": "code",
   "execution_count": 19,
   "id": "d8136360",
   "metadata": {},
   "outputs": [
    {
     "data": {
      "text/plain": [
       "np.float64(0.9841269841269841)"
      ]
     },
     "execution_count": 19,
     "metadata": {},
     "output_type": "execute_result"
    }
   ],
   "source": [
    "toplot_final.query('Chunk_size == \"1000\" and Embedding_Model == \"e5-small-v2\" and Recursive == \"True\"').Relevance.mean()"
   ]
  }
 ],
 "metadata": {
  "kernelspec": {
   "display_name": "RAG",
   "language": "python",
   "name": "python3"
  },
  "language_info": {
   "codemirror_mode": {
    "name": "ipython",
    "version": 3
   },
   "file_extension": ".py",
   "mimetype": "text/x-python",
   "name": "python",
   "nbconvert_exporter": "python",
   "pygments_lexer": "ipython3",
   "version": "3.11.2"
  }
 },
 "nbformat": 4,
 "nbformat_minor": 5
}
